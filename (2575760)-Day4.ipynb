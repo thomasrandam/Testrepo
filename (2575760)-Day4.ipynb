{
 "cells": [
  {
   "cell_type": "markdown",
   "id": "6310f7a6",
   "metadata": {},
   "source": [
    "# DAY4-EXCEPTIONS AND CLA"
   ]
  },
  {
   "cell_type": "markdown",
   "id": "1bc2a1ca",
   "metadata": {},
   "source": [
    "# 1.Python program to input marks of 5 subjects and print grade"
   ]
  },
  {
   "cell_type": "code",
   "execution_count": 26,
   "id": "8abbd000",
   "metadata": {},
   "outputs": [
    {
     "name": "stdout",
     "output_type": "stream",
     "text": [
      "Enter the maximum marks in each exam10\n",
      "Enter the marks (physics,chemistry,biology,maths,computer)6\n",
      "Enter the marks (physics,chemistry,biology,maths,computer)7\n",
      "Enter the marks (physics,chemistry,biology,maths,computer)6\n",
      "Enter the marks (physics,chemistry,biology,maths,computer)7\n",
      "Enter the marks (physics,chemistry,biology,maths,computer)6\n"
     ]
    },
    {
     "data": {
      "text/plain": [
       "'Grade d'"
      ]
     },
     "execution_count": 26,
     "metadata": {},
     "output_type": "execute_result"
    }
   ],
   "source": [
    "def percentage():\n",
    "    a=[]\n",
    "    i=0\n",
    "    sum=0\n",
    "    max=int(input('Enter the maximum marks in each exam'))\n",
    "    while(i<5):\n",
    "        try:\n",
    "        \n",
    "        \n",
    "            b=int(input('Enter the marks (physics,chemistry,biology,maths,computer)'))\n",
    "            a.append(b)\n",
    "            if a[i]<0 :\n",
    "                raise ValueError('Please provide positive marks')\n",
    "            elif a[i]>max:\n",
    "                raise ValueError('Please provide marks less than maximum marks')\n",
    "            else:\n",
    "                sum+=a[i]\n",
    "                i+=1\n",
    "          \n",
    "        except ValueError as e:\n",
    "            print(e)\n",
    "            break\n",
    "    percent=(sum/max)*20\n",
    "    if percent>=90:\n",
    "        return 'Grade a'\n",
    "\n",
    "    elif percent>=80:\n",
    "        return 'Grade b'\n",
    "\n",
    "    elif percent>=70:\n",
    "        return 'Grade c'\n",
    "\n",
    "    elif percent>=60:\n",
    "        return 'Grade d'\n",
    "\n",
    "    elif percent>=40:\n",
    "        return 'Grade e'\n",
    "\n",
    "    elif percent<40:\n",
    "        return 'Grade f'\n",
    "\n",
    "percentage()\n",
    "\n",
    "    "
   ]
  },
  {
   "cell_type": "markdown",
   "id": "61bc07d9",
   "metadata": {},
   "source": [
    "# 2.Python program to calculate electricity bill "
   ]
  },
  {
   "cell_type": "code",
   "execution_count": 36,
   "id": "b6757e50",
   "metadata": {},
   "outputs": [
    {
     "name": "stdout",
     "output_type": "stream",
     "text": [
      "Enter the unit charges251\n",
      "265.8\n"
     ]
    }
   ],
   "source": [
    "try:\n",
    "    unit=int(input('Enter the unit charges'))\n",
    "    if unit<0:\n",
    "        raise ValueError('Please provide positive unit consumption')\n",
    "except ValueError as e:\n",
    "    print(e)\n",
    "count=0\n",
    "while (unit>0):\n",
    "    if count==0:\n",
    "        if unit>50:\n",
    "            q=50\n",
    "            amt=q*0.5\n",
    "        else:\n",
    "            q=unit\n",
    "            amt=q*0.5\n",
    "        count+=1\n",
    "        unit-=q\n",
    "    if count==1:\n",
    "        if unit>100:\n",
    "            q=100\n",
    "            amt+=100*0.75\n",
    "        else:\n",
    "            q=unit\n",
    "            amt+=unit*0.75\n",
    "        count+=1\n",
    "        unit-=q\n",
    "    if count==2:\n",
    "        if unit>100:\n",
    "            q=100\n",
    "            amt+=100*1.2\n",
    "        else:\n",
    "            q=unit\n",
    "            amt+=unit*1.2\n",
    "        count+=1\n",
    "        unit-=q\n",
    "    if count==3:\n",
    "        q=unit\n",
    "        amt+=unit*1.5\n",
    "        unit-=q\n",
    "amt=amt+.2*amt   \n",
    "print(amt)  \n"
   ]
  },
  {
   "cell_type": "markdown",
   "id": "831fb636",
   "metadata": {},
   "source": [
    "# 3.Python Program to enter week number and print weekday"
   ]
  },
  {
   "cell_type": "code",
   "execution_count": 42,
   "id": "fb089b12",
   "metadata": {},
   "outputs": [
    {
     "name": "stdout",
     "output_type": "stream",
     "text": [
      "Enter the day number0\n",
      "(<class 'ValueError'>, ValueError('A week consists of 7 days, nothing more or less'), <traceback object at 0x000002A85C7A2A00>)\n",
      "A week consists of 7 days, nothing more or less\n"
     ]
    }
   ],
   "source": [
    "import sys\n",
    "try:\n",
    "    week=int(input('Enter the day number'))\n",
    "    if week<1 or week>7:\n",
    "        raise ValueError('A week consists of 7 days, nothing more or less')\n",
    "except ValueError as e:\n",
    "    print(sys.exc_info()[0])\n",
    "    print(e)\n",
    "\n",
    "    \n",
    "if week==1:\n",
    "    print('Sunday')\n",
    "elif week==2:\n",
    "    print('Monday')\n",
    "elif week==3:\n",
    "    print('Tueday')\n",
    "elif week==4:\n",
    "    print('Wednesday')\n",
    "elif week==5:\n",
    "    print('Thursday')\n",
    "elif week==6:\n",
    "    print('Friday')\n",
    "elif week==7:\n",
    "    print('Saturday')"
   ]
  },
  {
   "cell_type": "markdown",
   "id": "596a6e25",
   "metadata": {},
   "source": [
    "# 4.Python program for implementing word count using CLA"
   ]
  },
  {
   "cell_type": "code",
   "execution_count": 12,
   "id": "b04042a6",
   "metadata": {},
   "outputs": [
    {
     "name": "stdout",
     "output_type": "stream",
     "text": [
      "{'a': 4, 'after': 1, 'again': 1, 'aid': 1, 'amidst': 1, 'an': 2, 'and': 9, 'aragorn': 1, 'are': 1, 'army': 2, 'attack': 1, 'away': 1, 'be': 2, 'brings': 1, 'but': 2, 'by': 1, 'chance': 1, 'chief': 1, 'circumstances': 1, 'city': 1, 'convinces': 1, 'deep': 1, 'defeat': 1, 'destroy': 1, 'down': 1, 'ensnare': 1, 'ents': 1, 'evil': 1, 'find': 1, 'flee': 1, 'flood': 1, 'for': 1, 'forest': 1, 'from': 2, 'gandalf': 7, 'gimli': 1, 'gondor': 1, 'hard': 1, 'he': 1, \"helm's\": 1, 'him': 3, 'his': 2, 'huorns': 2, 'immediately': 1, 'in': 2, 'into': 1, 'is': 1, 'isengard': 2, 'it': 5, 'kill': 1, 'leaves': 1, 'legolas': 1, 'listen': 1, 'meanwhile': 1, 'merry': 2, 'minas': 1, 'misunderstands': 1, 'most': 1, 'never': 1, 'night': 1, 'object': 1, 'of': 7, 'offers': 1, 'orcs': 1, 'orthanc': 1, 'palantír': 1, 'peaceful': 1, 'picks': 1, 'pippin': 6, 'powers': 1, 'rank': 1, 'refuses': 1, 'relaxing': 1, 'revealed': 1, 'ride': 1, 'rides': 1, 'rohirrim': 1, 'round': 1, 'roused': 1, 'ruins': 1, 'saruman': 4, \"saruman's\": 1, 'sauron': 3, 'seeing-stone': 1, 'seen': 1, 'sees': 1, 'send': 1, 'speak': 1, 'steals': 1, 'strips': 1, 'stronghold': 1, 'surprised': 1, 'swiftly': 1, 'takes': 1, 'taking': 1, 'that': 2, 'the': 8, 'their': 1, 'they': 1, 'throws': 1, 'théoden': 1, \"théoden's\": 1, 'tirith': 1, 'to': 13, 'tower': 1, 'trapping': 1, 'treebeard': 1, 'try': 1, 'turn': 1, 'up;': 1, 'used': 2, 'ways': 1, 'when': 1, 'who': 1, 'with': 2, 'wizard': 1, 'wormtongue': 1}\n"
     ]
    }
   ],
   "source": [
    "f=open('apple.txt','w')\n",
    "f.write(\"Meanwhile the Ents roused by Merry and Pippin from their peaceful ways attack and destroy Isengard Saruman's stronghold and flood it trapping the wizard in the tower of Orthanc Gandalf convinces Treebeard to send an army of Huorns to Théoden's aid He brings an army of Rohirrim to Helm's Deep and they defeat the Orcs who flee into the forest of Huorns never to be seen again Gandalf Théoden Aragorn Legolas and Gimli ride to Isengard and are surprised to find Merry and Pippin relaxing amidst the ruins Gandalf offers Saruman a chance to turn away from evil When Saruman refuses to listen Gandalf strips him of his rank and most of his powers After Saruman leaves Wormtongue throws down a hard round object to try to kill Gandalf Pippin picks it up; Gandalf swiftly takes it but Pippin steals it in the night It is revealed to be a palantír a seeing-stone that Saruman used to speak with Sauron and that Sauron used to ensnare him Sauron sees Pippin but misunderstands the circumstances Gandalf immediately rides for Minas Tirith chief city of Gondor taking Pippin with him\")\n",
    "f.close()\n",
    "dit={}\n",
    "def wordcount(a):\n",
    "    f=open(a,'r')\n",
    "    con=f.read()\n",
    "    \n",
    "    words=[]                                      \n",
    "    a=[]\n",
    "    words=con.split()              \n",
    "\n",
    "\n",
    "    for i in words:\n",
    "        a.append(i.lower())        \n",
    "    a.sort()                       \n",
    "\n",
    "    for i in a:\n",
    "        if i not in dit:           \n",
    "            dit[i]=1\n",
    "        else:\n",
    "            dit[i]+=1\n",
    "    reurn dit\n",
    "    f.close()\n",
    "wordcount('apple.txt')\n",
    "\n",
    "#saving as wordcount.py"
   ]
  },
  {
   "cell_type": "code",
   "execution_count": 14,
   "id": "9cbefc6b",
   "metadata": {},
   "outputs": [
    {
     "name": "stdout",
     "output_type": "stream",
     "text": [
      "{'a': 8, 'after': 2, 'again': 2, 'aid': 2, 'amidst': 2, 'an': 4, 'and': 18, 'aragorn': 2, 'are': 2, 'army': 4, 'attack': 2, 'away': 2, 'be': 4, 'brings': 2, 'but': 4, 'by': 2, 'chance': 2, 'chief': 2, 'circumstances': 2, 'city': 2, 'convinces': 2, 'deep': 2, 'defeat': 2, 'destroy': 2, 'down': 2, 'ensnare': 2, 'ents': 2, 'evil': 2, 'find': 2, 'flee': 2, 'flood': 2, 'for': 2, 'forest': 2, 'from': 4, 'gandalf': 14, 'gimli': 2, 'gondor': 2, 'hard': 2, 'he': 2, \"helm's\": 2, 'him': 6, 'his': 4, 'huorns': 4, 'immediately': 2, 'in': 4, 'into': 2, 'is': 2, 'isengard': 4, 'it': 10, 'kill': 2, 'leaves': 2, 'legolas': 2, 'listen': 2, 'meanwhile': 2, 'merry': 4, 'minas': 2, 'misunderstands': 2, 'most': 2, 'never': 2, 'night': 2, 'object': 2, 'of': 14, 'offers': 2, 'orcs': 2, 'orthanc': 2, 'palantír': 1, 'peaceful': 2, 'picks': 2, 'pippin': 12, 'powers': 2, 'rank': 2, 'refuses': 2, 'relaxing': 2, 'revealed': 2, 'ride': 2, 'rides': 2, 'rohirrim': 2, 'round': 2, 'roused': 2, 'ruins': 2, 'saruman': 8, \"saruman's\": 2, 'sauron': 6, 'seeing-stone': 2, 'seen': 2, 'sees': 2, 'send': 2, 'speak': 2, 'steals': 2, 'strips': 2, 'stronghold': 2, 'surprised': 2, 'swiftly': 2, 'takes': 2, 'taking': 2, 'that': 4, 'the': 16, 'their': 2, 'they': 2, 'throws': 2, 'théoden': 1, \"théoden's\": 1, 'tirith': 2, 'to': 26, 'tower': 2, 'trapping': 2, 'treebeard': 2, 'try': 2, 'turn': 2, 'up;': 2, 'used': 4, 'ways': 2, 'when': 2, 'who': 2, 'with': 4, 'wizard': 2, 'wormtongue': 2, 'palantã\\xadr': 1, 'thã©oden': 1, \"thã©oden's\": 1}\n"
     ]
    }
   ],
   "source": [
    "\n",
    "import sys\n",
    "\n",
    "a=sys.argv[1]\n",
    "wordcount(a)\n",
    "\n",
    "#saving as command.py\n",
    "\n"
   ]
  },
  {
   "cell_type": "markdown",
   "id": "3ff10857",
   "metadata": {},
   "source": [
    "# 5.Python Program to find the most frequent words in a text read from a file  "
   ]
  },
  {
   "cell_type": "code",
   "execution_count": 102,
   "id": "8fd8ffd2",
   "metadata": {
    "scrolled": true
   },
   "outputs": [
    {
     "name": "stdout",
     "output_type": "stream",
     "text": [
      "13\n",
      "\" to \"  is most common\n"
     ]
    }
   ],
   "source": [
    "f=open('sample.txt','r')\n",
    "con=f.read()\n",
    "dit={}\n",
    "words=[]                                      \n",
    "a=[]\n",
    "words=con.split()              #split\n",
    "\n",
    "\n",
    "for i in words:\n",
    "    a.append(i.lower())        #lower\n",
    "a.sort()                       #sort\n",
    "\n",
    "for i in a:\n",
    "    if i not in dit:           #count\n",
    "        dit[i]=1\n",
    "    else:\n",
    "        dit[i]+=1\n",
    "m=0\n",
    "\n",
    "for key,value in dit.items():\n",
    "    if value>m:\n",
    "        m=value\n",
    "print(m)\n",
    "for key,value in dit.items():\n",
    "    if value==m:\n",
    "        print('\"',key,'\"',' is most common')"
   ]
  },
  {
   "cell_type": "markdown",
   "id": "5b43938e",
   "metadata": {},
   "source": [
    "# 6.File processing with command line arguments"
   ]
  },
  {
   "cell_type": "code",
   "execution_count": 10,
   "id": "307cd02a",
   "metadata": {},
   "outputs": [],
   "source": [
    "import sys\n",
    "def fun6(a,b):\n",
    "    \n",
    "    if len(sys.argv)!=3:\n",
    "        sys.exit('exactly two arguments: input file and output file')\n",
    "    else:\n",
    "        sys.argv[1]=a\n",
    "        sys.argv[2]=b\n",
    "        #a=sys.argv[1]\n",
    "        #b=sys.argv[2]\n",
    "    \n",
    "    aa=open(a,'r')\n",
    "    try:\n",
    "        state=aa.readable()\n",
    "        if state!=True:\n",
    "            raise ValueError('input file does not exist')\n",
    "    except ValueError as e:\n",
    "        print(e)\n",
    "\n",
    "\n",
    "    con=aa.read()\n",
    "    bb=open(b,'w')\n",
    "    try:\n",
    "        state=bb.writable()\n",
    "        if state!=True:\n",
    "            raise ValueError('not writable')\n",
    "    except ValueError as f:\n",
    "        print(f)\n",
    "    \n",
    "    bb.write(con)\n",
    "    bb.close()\n",
    "    aa.close()\n",
    "    \n",
    "fun6('sample.txt','write.txt')\n",
    "\n",
    "#function def and call only given to run the code in notebook"
   ]
  },
  {
   "cell_type": "code",
   "execution_count": null,
   "id": "db2c98aa",
   "metadata": {},
   "outputs": [],
   "source": []
  },
  {
   "cell_type": "code",
   "execution_count": null,
   "id": "e34e65b7",
   "metadata": {},
   "outputs": [],
   "source": []
  }
 ],
 "metadata": {
  "kernelspec": {
   "display_name": "Python 3 (ipykernel)",
   "language": "python",
   "name": "python3"
  },
  "language_info": {
   "codemirror_mode": {
    "name": "ipython",
    "version": 3
   },
   "file_extension": ".py",
   "mimetype": "text/x-python",
   "name": "python",
   "nbconvert_exporter": "python",
   "pygments_lexer": "ipython3",
   "version": "3.11.4"
  }
 },
 "nbformat": 4,
 "nbformat_minor": 5
}
