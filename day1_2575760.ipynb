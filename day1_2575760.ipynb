{
 "cells": [
  {
   "cell_type": "markdown",
   "id": "8d58b698",
   "metadata": {},
   "source": [
    "# 1.Manipulate using a list"
   ]
  },
  {
   "cell_type": "code",
   "execution_count": 1,
   "id": "fc7a2900",
   "metadata": {},
   "outputs": [],
   "source": [
    "lst=[1,2,3,4,5,6]\n"
   ]
  },
  {
   "cell_type": "code",
   "execution_count": 2,
   "id": "5923232c",
   "metadata": {},
   "outputs": [],
   "source": [
    "lst.append(7)\n",
    "# i)add eol"
   ]
  },
  {
   "cell_type": "code",
   "execution_count": 3,
   "id": "67149499",
   "metadata": {},
   "outputs": [
    {
     "data": {
      "text/plain": [
       "[1, 2, 3, 4, 5, 6, 7]"
      ]
     },
     "execution_count": 3,
     "metadata": {},
     "output_type": "execute_result"
    }
   ],
   "source": [
    "lst"
   ]
  },
  {
   "cell_type": "code",
   "execution_count": 4,
   "id": "5e1ebb1d",
   "metadata": {},
   "outputs": [
    {
     "data": {
      "text/plain": [
       "[7, 6, 5, 4, 3, 2, 1]"
      ]
     },
     "execution_count": 4,
     "metadata": {},
     "output_type": "execute_result"
    }
   ],
   "source": [
    "lst.reverse()\n",
    "lst\n",
    "# ii)reverse"
   ]
  },
  {
   "cell_type": "code",
   "execution_count": 5,
   "id": "783fcb9d",
   "metadata": {},
   "outputs": [
    {
     "data": {
      "text/plain": [
       "[7, 6, 5, 4, 3, 2, 1, 7, 6, 5, 4, 3, 2, 1]"
      ]
     },
     "execution_count": 5,
     "metadata": {},
     "output_type": "execute_result"
    }
   ],
   "source": [
    "lst*2\n",
    "# iii)multiple times"
   ]
  },
  {
   "cell_type": "code",
   "execution_count": 7,
   "id": "79363841",
   "metadata": {},
   "outputs": [
    {
     "name": "stdout",
     "output_type": "stream",
     "text": [
      "[7, 6, 5, 4, 3, 2, 1] \n",
      " [7, 6, 5, 4, 3, 2, 1]\n"
     ]
    }
   ],
   "source": [
    "print(lst,'\\n',lst)"
   ]
  },
  {
   "cell_type": "code",
   "execution_count": 8,
   "id": "3d118803",
   "metadata": {},
   "outputs": [
    {
     "data": {
      "text/plain": [
       "[7, 6, 5, 4, 3, 2, 1, 7, 6, 5, 4, 3, 2, 1]"
      ]
     },
     "execution_count": 8,
     "metadata": {},
     "output_type": "execute_result"
    }
   ],
   "source": [
    "lst+lst\n",
    "# iv)concatenate"
   ]
  },
  {
   "cell_type": "code",
   "execution_count": 11,
   "id": "0319d2cc",
   "metadata": {},
   "outputs": [
    {
     "data": {
      "text/plain": [
       "[1, 2, 3, 4, 5, 6, 7]"
      ]
     },
     "execution_count": 11,
     "metadata": {},
     "output_type": "execute_result"
    }
   ],
   "source": [
    "lst.sort()\n",
    "lst\n",
    "# v)sorting"
   ]
  },
  {
   "cell_type": "markdown",
   "id": "f2277373",
   "metadata": {},
   "source": [
    "# 2.Write a python program to do in the tuples"
   ]
  },
  {
   "cell_type": "code",
   "execution_count": 12,
   "id": "0506bef3",
   "metadata": {},
   "outputs": [],
   "source": [
    "tup=(23,13,353,534,1232,543)"
   ]
  },
  {
   "cell_type": "code",
   "execution_count": 13,
   "id": "98e59478",
   "metadata": {},
   "outputs": [],
   "source": [
    "#manipulating tuple is not possible because tuples are immutable\n"
   ]
  },
  {
   "cell_type": "markdown",
   "id": "68a71414",
   "metadata": {},
   "source": [
    "# 3.Write a python program to implement the following using list"
   ]
  },
  {
   "cell_type": "code",
   "execution_count": 14,
   "id": "898b2771",
   "metadata": {},
   "outputs": [],
   "source": [
    "#1.create a list with intergers(minimum 10 numbers)\n"
   ]
  },
  {
   "cell_type": "code",
   "execution_count": 15,
   "id": "7bc8c289",
   "metadata": {},
   "outputs": [],
   "source": [
    "lst2=[23,233,345,323,3453,223,43,234,354,554,65,345]"
   ]
  },
  {
   "cell_type": "code",
   "execution_count": 16,
   "id": "04ca4fe6",
   "metadata": {},
   "outputs": [],
   "source": [
    "#2.how to display the last number of the lsit"
   ]
  },
  {
   "cell_type": "code",
   "execution_count": 17,
   "id": "24b8b625",
   "metadata": {},
   "outputs": [
    {
     "name": "stdout",
     "output_type": "stream",
     "text": [
      "345\n"
     ]
    }
   ],
   "source": [
    "print(lst2[-1])"
   ]
  },
  {
   "cell_type": "code",
   "execution_count": 18,
   "id": "2d118378",
   "metadata": {},
   "outputs": [],
   "source": [
    "#3.command for displaying the values from the list [0:4]"
   ]
  },
  {
   "cell_type": "code",
   "execution_count": 19,
   "id": "8aee7dbf",
   "metadata": {},
   "outputs": [
    {
     "name": "stdout",
     "output_type": "stream",
     "text": [
      "[23, 233, 345, 323]\n"
     ]
    }
   ],
   "source": [
    "print(lst2[0:4])"
   ]
  },
  {
   "cell_type": "code",
   "execution_count": 20,
   "id": "573981a0",
   "metadata": {},
   "outputs": [],
   "source": [
    "#4.command for displaying the values from the list [2:]"
   ]
  },
  {
   "cell_type": "code",
   "execution_count": 21,
   "id": "2e2b99b1",
   "metadata": {},
   "outputs": [
    {
     "name": "stdout",
     "output_type": "stream",
     "text": [
      "[345, 323, 3453, 223, 43, 234, 354, 554, 65, 345]\n"
     ]
    }
   ],
   "source": [
    "print(lst2[2:])"
   ]
  },
  {
   "cell_type": "code",
   "execution_count": 22,
   "id": "d60e3e35",
   "metadata": {},
   "outputs": [],
   "source": [
    "#5.command for displaying the values from the list [0:6]"
   ]
  },
  {
   "cell_type": "code",
   "execution_count": 23,
   "id": "5e3b50ad",
   "metadata": {},
   "outputs": [
    {
     "name": "stdout",
     "output_type": "stream",
     "text": [
      "[23, 233, 345, 323, 3453, 223]\n"
     ]
    }
   ],
   "source": [
    "print(lst2[:6])"
   ]
  },
  {
   "cell_type": "markdown",
   "id": "e763bc75",
   "metadata": {},
   "source": [
    "# 4.Write a Python program: tuple1=(10,50,20,40,30)"
   ]
  },
  {
   "cell_type": "code",
   "execution_count": 24,
   "id": "fd06e588",
   "metadata": {},
   "outputs": [],
   "source": [
    "tuple1=(10,50,20,40,30)"
   ]
  },
  {
   "cell_type": "code",
   "execution_count": null,
   "id": "61f3ce49",
   "metadata": {},
   "outputs": [],
   "source": [
    "#1.display elements 10 and 50"
   ]
  },
  {
   "cell_type": "code",
   "execution_count": 25,
   "id": "34f12ba6",
   "metadata": {},
   "outputs": [
    {
     "name": "stdout",
     "output_type": "stream",
     "text": [
      "10 50\n"
     ]
    }
   ],
   "source": [
    "print(tuple1[0],tuple1[1])"
   ]
  },
  {
   "cell_type": "code",
   "execution_count": 26,
   "id": "78c83034",
   "metadata": {},
   "outputs": [],
   "source": [
    "#2.display length of tuple"
   ]
  },
  {
   "cell_type": "code",
   "execution_count": 27,
   "id": "122c090a",
   "metadata": {},
   "outputs": [
    {
     "name": "stdout",
     "output_type": "stream",
     "text": [
      "5\n"
     ]
    }
   ],
   "source": [
    "print(len(tuple1))"
   ]
  },
  {
   "cell_type": "code",
   "execution_count": 28,
   "id": "11bf156d",
   "metadata": {},
   "outputs": [],
   "source": [
    "#3.find minimum element from tuple1"
   ]
  },
  {
   "cell_type": "code",
   "execution_count": 31,
   "id": "8c47eec3",
   "metadata": {},
   "outputs": [
    {
     "name": "stdout",
     "output_type": "stream",
     "text": [
      "10\n"
     ]
    }
   ],
   "source": [
    "print(min(tuple1))"
   ]
  },
  {
   "cell_type": "code",
   "execution_count": 32,
   "id": "437b78c2",
   "metadata": {},
   "outputs": [],
   "source": [
    "#4.to add all elements in tuple"
   ]
  },
  {
   "cell_type": "code",
   "execution_count": 34,
   "id": "f82c8027",
   "metadata": {},
   "outputs": [
    {
     "name": "stdout",
     "output_type": "stream",
     "text": [
      "150\n"
     ]
    }
   ],
   "source": [
    "sum=0\n",
    "for i in tuple1:\n",
    "    sum+=i\n",
    "print(sum)"
   ]
  },
  {
   "cell_type": "code",
   "execution_count": 35,
   "id": "a60cf9db",
   "metadata": {},
   "outputs": [],
   "source": [
    "#5.to display multiple times"
   ]
  },
  {
   "cell_type": "code",
   "execution_count": 39,
   "id": "55641680",
   "metadata": {},
   "outputs": [
    {
     "name": "stdout",
     "output_type": "stream",
     "text": [
      "Enter the number of times to display the tuple2\n",
      "(10, 50, 20, 40, 30, 10, 50, 20, 40, 30)\n",
      "(10, 50, 20, 40, 30)\n",
      "(10, 50, 20, 40, 30)\n"
     ]
    }
   ],
   "source": [
    "n=int(input('Enter the number of times to display the tuple'))\n",
    "print(tuple1*n)           #to display elements multiple times\n",
    "for i in range(0,n):      #to display tuple multiple times\n",
    "    print(tuple1)"
   ]
  },
  {
   "cell_type": "markdown",
   "id": "45878e7f",
   "metadata": {},
   "source": [
    "# 5.Write a python program"
   ]
  },
  {
   "cell_type": "code",
   "execution_count": 40,
   "id": "c2231ab2",
   "metadata": {},
   "outputs": [],
   "source": [
    "str=\"You shall not pass!!\""
   ]
  },
  {
   "cell_type": "code",
   "execution_count": 41,
   "id": "1b29a484",
   "metadata": {},
   "outputs": [],
   "source": [
    "#1.length of string"
   ]
  },
  {
   "cell_type": "code",
   "execution_count": 42,
   "id": "bd190598",
   "metadata": {},
   "outputs": [
    {
     "name": "stdout",
     "output_type": "stream",
     "text": [
      "20\n"
     ]
    }
   ],
   "source": [
    "print(len(str))"
   ]
  },
  {
   "cell_type": "code",
   "execution_count": null,
   "id": "095f6ac0",
   "metadata": {},
   "outputs": [],
   "source": [
    "#2.reverse"
   ]
  },
  {
   "cell_type": "code",
   "execution_count": 45,
   "id": "d70579d8",
   "metadata": {},
   "outputs": [
    {
     "data": {
      "text/plain": [
       "['pass!!', 'not', 'shall', 'You']"
      ]
     },
     "execution_count": 45,
     "metadata": {},
     "output_type": "execute_result"
    }
   ],
   "source": [
    "ls=str.split()\n",
    "ls.reverse()\n",
    "ls"
   ]
  },
  {
   "cell_type": "code",
   "execution_count": 48,
   "id": "c45dcfbc",
   "metadata": {},
   "outputs": [
    {
     "name": "stdout",
     "output_type": "stream",
     "text": [
      "pass!! not shall You \n"
     ]
    }
   ],
   "source": [
    "rev=\"\"\n",
    "for i in ls:\n",
    "    rev+=i\n",
    "    rev+=' '\n",
    "print(rev)\n",
    "    "
   ]
  },
  {
   "cell_type": "code",
   "execution_count": 49,
   "id": "15c09ca0",
   "metadata": {},
   "outputs": [],
   "source": [
    "#3.to display the string multiple times"
   ]
  },
  {
   "cell_type": "code",
   "execution_count": 50,
   "id": "f57df879",
   "metadata": {},
   "outputs": [
    {
     "name": "stdout",
     "output_type": "stream",
     "text": [
      "enter n2\n",
      "You shall not pass!!You shall not pass!!\n"
     ]
    }
   ],
   "source": [
    "n=int(input('enter n'))\n",
    "print(str*n)"
   ]
  },
  {
   "cell_type": "code",
   "execution_count": 51,
   "id": "5e17096a",
   "metadata": {},
   "outputs": [],
   "source": [
    "#4.concatenate str and rev "
   ]
  },
  {
   "cell_type": "code",
   "execution_count": 52,
   "id": "d5d23a6c",
   "metadata": {},
   "outputs": [
    {
     "data": {
      "text/plain": [
       "'You shall not pass!!pass!! not shall You '"
      ]
     },
     "execution_count": 52,
     "metadata": {},
     "output_type": "execute_result"
    }
   ],
   "source": [
    "str+rev"
   ]
  },
  {
   "cell_type": "code",
   "execution_count": null,
   "id": "2d88bdd2",
   "metadata": {},
   "outputs": [],
   "source": [
    "#5.string slicing"
   ]
  },
  {
   "cell_type": "code",
   "execution_count": 54,
   "id": "72a11203",
   "metadata": {},
   "outputs": [
    {
     "name": "stdout",
     "output_type": "stream",
     "text": [
      "India\n"
     ]
    }
   ],
   "source": [
    "Str1='South India'\n",
    "print(Str1[6:])"
   ]
  },
  {
   "cell_type": "markdown",
   "id": "d6f3228f",
   "metadata": {},
   "source": [
    "# 6.Perform the following"
   ]
  },
  {
   "cell_type": "code",
   "execution_count": null,
   "id": "8803ae84",
   "metadata": {},
   "outputs": [],
   "source": [
    "#1.creating a dictionary"
   ]
  },
  {
   "cell_type": "code",
   "execution_count": 57,
   "id": "aae3fb81",
   "metadata": {},
   "outputs": [
    {
     "data": {
      "text/plain": [
       "{'name': 'aragorn', 'age': 87, 'kingdom': 'Gondor'}"
      ]
     },
     "execution_count": 57,
     "metadata": {},
     "output_type": "execute_result"
    }
   ],
   "source": [
    "dict={'name':'aragorn','age':87,'kingdom':'Gondor'}\n",
    "dict"
   ]
  },
  {
   "cell_type": "code",
   "execution_count": 154,
   "id": "3442afb4",
   "metadata": {},
   "outputs": [
    {
     "name": "stdout",
     "output_type": "stream",
     "text": [
      "name\n",
      "age\n",
      "kingdom\n"
     ]
    }
   ],
   "source": [
    "#2.Accessing values and keys\n",
    "for i in dict:\n",
    "    print(i)"
   ]
  },
  {
   "cell_type": "code",
   "execution_count": 156,
   "id": "934caf3a",
   "metadata": {},
   "outputs": [
    {
     "name": "stdout",
     "output_type": "stream",
     "text": [
      "aragorn\n",
      "87\n",
      "Gondor\n"
     ]
    }
   ],
   "source": [
    "for i in dict:\n",
    "    print(dict[i])"
   ]
  },
  {
   "cell_type": "code",
   "execution_count": null,
   "id": "05f7085b",
   "metadata": {},
   "outputs": [],
   "source": [
    "#3.updating using a function "
   ]
  },
  {
   "cell_type": "code",
   "execution_count": null,
   "id": "a7b34007",
   "metadata": {},
   "outputs": [],
   "source": [
    "#4.clear and delete the dictionary value"
   ]
  },
  {
   "cell_type": "markdown",
   "id": "e43b03b2",
   "metadata": {},
   "source": [
    "# 7.Python program to insert a number to any position in a list"
   ]
  },
  {
   "cell_type": "code",
   "execution_count": 77,
   "id": "78a0c37a",
   "metadata": {},
   "outputs": [
    {
     "data": {
      "text/plain": [
       "[1, 2, 3, 4, 5, 6, 7]"
      ]
     },
     "execution_count": 77,
     "metadata": {},
     "output_type": "execute_result"
    }
   ],
   "source": [
    "lst\n"
   ]
  },
  {
   "cell_type": "code",
   "execution_count": 78,
   "id": "83d56975",
   "metadata": {},
   "outputs": [
    {
     "name": "stdout",
     "output_type": "stream",
     "text": [
      "enter the position3\n",
      "enter the value65\n",
      "[1, 2, 3, 65, 4, 5, 6, 7]\n"
     ]
    }
   ],
   "source": [
    "pos=int(input(\"enter the position\"))\n",
    "val=int(input(\"enter the value\"))\n",
    "lst.insert(pos,val)\n",
    "print(lst)"
   ]
  },
  {
   "cell_type": "markdown",
   "id": "6c8b974f",
   "metadata": {},
   "source": [
    "# 8.Python program to delete an element from a list using index"
   ]
  },
  {
   "cell_type": "code",
   "execution_count": 79,
   "id": "edc0fb97",
   "metadata": {},
   "outputs": [
    {
     "data": {
      "text/plain": [
       "[1, 2, 3, 65, 4, 5, 6, 7]"
      ]
     },
     "execution_count": 79,
     "metadata": {},
     "output_type": "execute_result"
    }
   ],
   "source": [
    "lst\n"
   ]
  },
  {
   "cell_type": "code",
   "execution_count": 80,
   "id": "e1f3592b",
   "metadata": {},
   "outputs": [
    {
     "name": "stdout",
     "output_type": "stream",
     "text": [
      "enter the position3\n"
     ]
    },
    {
     "data": {
      "text/plain": [
       "[1, 2, 65, 4, 5, 6, 7]"
      ]
     },
     "execution_count": 80,
     "metadata": {},
     "output_type": "execute_result"
    }
   ],
   "source": [
    "pos=int(input(\"enter the position\"))\n",
    "lst.remove(pos)\n",
    "lst"
   ]
  },
  {
   "cell_type": "markdown",
   "id": "9749818f",
   "metadata": {},
   "source": [
    "# 9.Write a program to display a number from 1 to 100"
   ]
  },
  {
   "cell_type": "code",
   "execution_count": 157,
   "id": "0911f988",
   "metadata": {},
   "outputs": [
    {
     "name": "stdout",
     "output_type": "stream",
     "text": [
      "1\n",
      "2\n",
      "3\n",
      "4\n",
      "5\n",
      "6\n",
      "7\n",
      "8\n",
      "9\n",
      "10\n",
      "11\n",
      "12\n",
      "13\n",
      "14\n",
      "15\n",
      "16\n",
      "17\n",
      "18\n",
      "19\n",
      "20\n",
      "21\n",
      "22\n",
      "23\n",
      "24\n",
      "25\n",
      "26\n",
      "27\n",
      "28\n",
      "29\n",
      "30\n",
      "31\n",
      "32\n",
      "33\n",
      "34\n",
      "35\n",
      "36\n",
      "37\n",
      "38\n",
      "39\n",
      "40\n",
      "41\n",
      "42\n",
      "43\n",
      "44\n",
      "45\n",
      "46\n",
      "47\n",
      "48\n",
      "49\n",
      "50\n",
      "51\n",
      "52\n",
      "53\n",
      "54\n",
      "55\n",
      "56\n",
      "57\n",
      "58\n",
      "59\n",
      "60\n",
      "61\n",
      "62\n",
      "63\n",
      "64\n",
      "65\n",
      "66\n",
      "67\n",
      "68\n",
      "69\n",
      "70\n",
      "71\n",
      "72\n",
      "73\n",
      "74\n",
      "75\n",
      "76\n",
      "77\n",
      "78\n",
      "79\n",
      "80\n",
      "81\n",
      "82\n",
      "83\n",
      "84\n",
      "85\n",
      "86\n",
      "87\n",
      "88\n",
      "89\n",
      "90\n",
      "91\n",
      "92\n",
      "93\n",
      "94\n",
      "95\n",
      "96\n",
      "97\n",
      "98\n",
      "99\n",
      "100\n"
     ]
    }
   ],
   "source": [
    "#display a number from 1 to 100?????\n",
    "for i in range(1,101):\n",
    "    print(i)      #displaying all numbers from 1 to 100"
   ]
  },
  {
   "cell_type": "markdown",
   "id": "5734cf68",
   "metadata": {},
   "source": [
    "# 10.Write a python program to find the sum of all items in a tuple"
   ]
  },
  {
   "cell_type": "code",
   "execution_count": 81,
   "id": "75721465",
   "metadata": {},
   "outputs": [
    {
     "data": {
      "text/plain": [
       "(10, 50, 20, 40, 30)"
      ]
     },
     "execution_count": 81,
     "metadata": {},
     "output_type": "execute_result"
    }
   ],
   "source": [
    "tuple1"
   ]
  },
  {
   "cell_type": "code",
   "execution_count": 82,
   "id": "eb0f2967",
   "metadata": {},
   "outputs": [
    {
     "name": "stdout",
     "output_type": "stream",
     "text": [
      "150\n"
     ]
    }
   ],
   "source": [
    "sum=0\n",
    "for i in tuple1:\n",
    "    sum+=i\n",
    "print(sum)"
   ]
  },
  {
   "cell_type": "markdown",
   "id": "601d1547",
   "metadata": {},
   "source": [
    "# 11.Create a dictionary containning 3 lambda functions square,cube,squareroot"
   ]
  },
  {
   "cell_type": "code",
   "execution_count": 160,
   "id": "78423f3d",
   "metadata": {},
   "outputs": [],
   "source": [
    "#1.\n",
    "dict1={'Square':pow(n,2),'Cube':pow(n,3),'Squareroot':pow(n,0.5)}"
   ]
  },
  {
   "cell_type": "code",
   "execution_count": 161,
   "id": "4df8ace5",
   "metadata": {},
   "outputs": [
    {
     "name": "stdout",
     "output_type": "stream",
     "text": [
      "Enter the number4\n"
     ]
    },
    {
     "data": {
      "text/plain": [
       "{'Square': 16, 'Cube': 64, 'Squareroot': 2.0}"
      ]
     },
     "execution_count": 161,
     "metadata": {},
     "output_type": "execute_result"
    }
   ],
   "source": [
    "#2.\n",
    "n=int(input('Enter the number'))\n",
    "dict1"
   ]
  },
  {
   "cell_type": "code",
   "execution_count": 164,
   "id": "10d921e1",
   "metadata": {},
   "outputs": [
    {
     "name": "stdout",
     "output_type": "stream",
     "text": [
      "Enter the number4\n"
     ]
    },
    {
     "ename": "KeyError",
     "evalue": "'Square'",
     "output_type": "error",
     "traceback": [
      "\u001b[1;31m---------------------------------------------------------------------------\u001b[0m",
      "\u001b[1;31mKeyError\u001b[0m                                  Traceback (most recent call last)",
      "Cell \u001b[1;32mIn[164], line 5\u001b[0m\n\u001b[0;32m      3\u001b[0m \u001b[38;5;28msum\u001b[39m\u001b[38;5;241m=\u001b[39m\u001b[38;5;241m0\u001b[39m\n\u001b[0;32m      4\u001b[0m \u001b[38;5;28;01mfor\u001b[39;00m i \u001b[38;5;129;01min\u001b[39;00m dict1:\n\u001b[1;32m----> 5\u001b[0m     \u001b[38;5;28msum\u001b[39m\u001b[38;5;241m=\u001b[39m\u001b[38;5;28msum\u001b[39m\u001b[38;5;241m+\u001b[39m\u001b[38;5;28mdict\u001b[39m[i]\n\u001b[0;32m      6\u001b[0m \u001b[38;5;28mprint\u001b[39m(\u001b[38;5;28msum\u001b[39m)\n",
      "\u001b[1;31mKeyError\u001b[0m: 'Square'"
     ]
    }
   ],
   "source": [
    "#3.add outputs of each function\n",
    "n=int(input('Enter the number'))\n",
    "sum=0\n",
    "for i in dict1:\n",
    "    sum=sum+dict[i]\n",
    "print(sum)"
   ]
  },
  {
   "cell_type": "markdown",
   "id": "d814fffb",
   "metadata": {},
   "source": [
    "# 12.Find the words that have second character uppercase"
   ]
  },
  {
   "cell_type": "code",
   "execution_count": null,
   "id": "aa96ad4c",
   "metadata": {},
   "outputs": [],
   "source": [
    "ls=['hello','Dear','hOw','ARe','You']\n",
    "for i in ls:\n",
    "    if i"
   ]
  },
  {
   "cell_type": "markdown",
   "id": "7ed98392",
   "metadata": {},
   "source": [
    "# 13.Find how much they will weigh on moon"
   ]
  },
  {
   "cell_type": "code",
   "execution_count": 97,
   "id": "f326c76e",
   "metadata": {},
   "outputs": [
    {
     "data": {
      "text/plain": [
       "{'John': 45, 'Shelly': 65, 'Marry': 35}"
      ]
     },
     "execution_count": 97,
     "metadata": {},
     "output_type": "execute_result"
    }
   ],
   "source": [
    "#1.\n",
    "WeightOnEarth={'John':45,'Shelly':65,'Marry':35}\n",
    "WeightOnEarth"
   ]
  },
  {
   "cell_type": "code",
   "execution_count": 98,
   "id": "b9f1effe",
   "metadata": {},
   "outputs": [],
   "source": [
    "#2.\n",
    "GMoon=1.622"
   ]
  },
  {
   "cell_type": "code",
   "execution_count": 99,
   "id": "6e3ad3a1",
   "metadata": {},
   "outputs": [],
   "source": [
    "#3.\n",
    "GEarth=9.81"
   ]
  },
  {
   "cell_type": "code",
   "execution_count": 104,
   "id": "638e3ebe",
   "metadata": {},
   "outputs": [
    {
     "ename": "TypeError",
     "evalue": "unsupported operand type(s) for *: 'builtin_function_or_method' and 'float'",
     "output_type": "error",
     "traceback": [
      "\u001b[1;31m---------------------------------------------------------------------------\u001b[0m",
      "\u001b[1;31mTypeError\u001b[0m                                 Traceback (most recent call last)",
      "Cell \u001b[1;32mIn[104], line 2\u001b[0m\n\u001b[0;32m      1\u001b[0m \u001b[38;5;28;01mfor\u001b[39;00m keys \u001b[38;5;129;01min\u001b[39;00m WeightOnEarth:\n\u001b[1;32m----> 2\u001b[0m     wmoon\u001b[38;5;241m=\u001b[39m(WeightOnEarth\u001b[38;5;241m.\u001b[39mkeys \u001b[38;5;241m*\u001b[39m GMoon)\u001b[38;5;241m/\u001b[39mGEarth\n\u001b[0;32m      3\u001b[0m     \u001b[38;5;28mprint\u001b[39m(wmoon)\n",
      "\u001b[1;31mTypeError\u001b[0m: unsupported operand type(s) for *: 'builtin_function_or_method' and 'float'"
     ]
    }
   ],
   "source": [
    "for keys in WeightOnEarth:\n",
    "    wmoon=(WeightOnEarth.values * GMoon)/GEarth\n",
    "    print(wmoon)"
   ]
  },
  {
   "cell_type": "markdown",
   "id": "c66bd536",
   "metadata": {},
   "source": [
    "# CONTROL STRUCTURES"
   ]
  },
  {
   "cell_type": "markdown",
   "id": "2e844a40",
   "metadata": {},
   "source": [
    "# 1.Prime numbers"
   ]
  },
  {
   "cell_type": "code",
   "execution_count": 115,
   "id": "74ee6f50",
   "metadata": {},
   "outputs": [
    {
     "name": "stdout",
     "output_type": "stream",
     "text": [
      "Enter the number of prime numbers3\n",
      "2\n",
      "3\n",
      "5\n"
     ]
    }
   ],
   "source": [
    "n=int(input(\"Enter the number of prime numbers\"))\n",
    "count=0\n",
    "i=2\n",
    "while count<n:\n",
    "    flag=0\n",
    "    if n==1:\n",
    "        print(2)\n",
    "        break\n",
    "    for j in range(2,i):\n",
    "        if i%j==0:\n",
    "            flag=1\n",
    "            break\n",
    "    if flag==0:\n",
    "        print(i)\n",
    "        count+=1\n",
    "    if count==n:\n",
    "        break\n",
    "    i+=1  "
   ]
  },
  {
   "cell_type": "markdown",
   "id": "686b209a",
   "metadata": {},
   "source": [
    "# 2.Salary"
   ]
  },
  {
   "cell_type": "code",
   "execution_count": 116,
   "id": "85b367ae",
   "metadata": {},
   "outputs": [
    {
     "name": "stdout",
     "output_type": "stream",
     "text": [
      "enter the basic salary43243\n",
      "enter hra234\n",
      "enter ta325\n",
      "enter the da345\n",
      "39732.3\n"
     ]
    }
   ],
   "source": [
    "sal=int(input('enter the basic salary'))\n",
    "hra=int(input('enter hra'))\n",
    "ta=int(input('enter ta'))\n",
    "da=int(input('enter the da'))\n",
    "gross=sal+hra+ta+da\n",
    "tax=0.1*gross\n",
    "net=gross-tax\n",
    "print(net)"
   ]
  },
  {
   "cell_type": "markdown",
   "id": "9ca2e1de",
   "metadata": {},
   "source": [
    "# 3.Search String"
   ]
  },
  {
   "cell_type": "markdown",
   "id": "dfdb7b3e",
   "metadata": {},
   "source": [
    "# 4."
   ]
  },
  {
   "cell_type": "markdown",
   "id": "f187107a",
   "metadata": {},
   "source": [
    "# 5.odd and even"
   ]
  },
  {
   "cell_type": "code",
   "execution_count": 117,
   "id": "5e67dcf2",
   "metadata": {},
   "outputs": [
    {
     "name": "stdout",
     "output_type": "stream",
     "text": [
      "even sum = 300\n",
      "odd sum = 288\n"
     ]
    }
   ],
   "source": [
    "sumeven=0\n",
    "sumodd=0\n",
    "for i in range(13,37):\n",
    "    if i%2==0:\n",
    "        sumeven+=i\n",
    "    else:\n",
    "        sumodd+=i\n",
    "print(\"even sum =\",sumeven)\n",
    "print('odd sum =',sumodd)"
   ]
  },
  {
   "cell_type": "markdown",
   "id": "fbf43b5d",
   "metadata": {},
   "source": [
    "# 6.number table"
   ]
  },
  {
   "cell_type": "code",
   "execution_count": 118,
   "id": "93d07da1",
   "metadata": {},
   "outputs": [
    {
     "name": "stdout",
     "output_type": "stream",
     "text": [
      "enter number4\n",
      "1 x 4 = 4\n",
      "2 x 4 = 8\n",
      "3 x 4 = 12\n",
      "4 x 4 = 16\n",
      "5 x 4 = 20\n",
      "6 x 4 = 24\n",
      "7 x 4 = 28\n",
      "8 x 4 = 32\n",
      "9 x 4 = 36\n",
      "10 x 4 = 40\n",
      "11 x 4 = 44\n",
      "12 x 4 = 48\n",
      "13 x 4 = 52\n",
      "14 x 4 = 56\n",
      "15 x 4 = 60\n",
      "16 x 4 = 64\n",
      "17 x 4 = 68\n",
      "18 x 4 = 72\n",
      "19 x 4 = 76\n",
      "20 x 4 = 80\n"
     ]
    }
   ],
   "source": [
    "n=int(input('enter number'))\n",
    "for i in range(1,21):\n",
    "    print(i,'x',n,'=',i*n)"
   ]
  },
  {
   "cell_type": "markdown",
   "id": "a87c8db2",
   "metadata": {},
   "source": [
    "# 7.sum of prime"
   ]
  },
  {
   "cell_type": "code",
   "execution_count": 122,
   "id": "b364d698",
   "metadata": {},
   "outputs": [
    {
     "name": "stdout",
     "output_type": "stream",
     "text": [
      "160\n"
     ]
    }
   ],
   "source": [
    "count=0\n",
    "sum=0\n",
    "i=2\n",
    "while count<11:\n",
    "    flag=0\n",
    "    if n==1:\n",
    "        print(2)\n",
    "        break\n",
    "    for j in range(2,i):\n",
    "        if i%j==0:\n",
    "            flag=1\n",
    "            break\n",
    "    if flag==0:\n",
    "        sum+=i\n",
    "        count+=1\n",
    "    if count==11:\n",
    "        break\n",
    "    i+=1  \n",
    "print(sum)"
   ]
  },
  {
   "cell_type": "markdown",
   "id": "dee768b0",
   "metadata": {},
   "source": [
    "# 8.Arithmetic operation with nested if"
   ]
  },
  {
   "cell_type": "markdown",
   "id": "29216f55",
   "metadata": {},
   "source": [
    "# 9.celsius to farenheit"
   ]
  },
  {
   "cell_type": "code",
   "execution_count": 124,
   "id": "b5f190b2",
   "metadata": {},
   "outputs": [
    {
     "name": "stdout",
     "output_type": "stream",
     "text": [
      "temperature in celsius50\n",
      "122.0\n"
     ]
    }
   ],
   "source": [
    "temp=int(input('temperature in celsius'))\n",
    "print(temp*1.8+32)"
   ]
  },
  {
   "cell_type": "markdown",
   "id": "be0890a4",
   "metadata": {},
   "source": [
    "# 10.max and min in list"
   ]
  },
  {
   "cell_type": "code",
   "execution_count": 125,
   "id": "bbcd1760",
   "metadata": {},
   "outputs": [
    {
     "name": "stdout",
     "output_type": "stream",
     "text": [
      "654\n",
      "12\n"
     ]
    }
   ],
   "source": [
    "lst=[43,434,654,12,324,56]\n",
    "max=0\n",
    "min=lst[0]\n",
    "for i in lst:\n",
    "    if max<i:\n",
    "        max=i\n",
    "    if min>i:\n",
    "        min=i\n",
    "print(max)\n",
    "print(min)"
   ]
  },
  {
   "cell_type": "markdown",
   "id": "587f87ac",
   "metadata": {},
   "source": [
    "# 11.number of seconds in a month"
   ]
  },
  {
   "cell_type": "code",
   "execution_count": 126,
   "id": "c17d0975",
   "metadata": {},
   "outputs": [
    {
     "name": "stdout",
     "output_type": "stream",
     "text": [
      "2592000\n"
     ]
    }
   ],
   "source": [
    "print(30*24*60*60)"
   ]
  },
  {
   "cell_type": "markdown",
   "id": "a6d0db9c",
   "metadata": {},
   "source": [
    "# 12.number of seconds in a year"
   ]
  },
  {
   "cell_type": "code",
   "execution_count": 127,
   "id": "066c9859",
   "metadata": {},
   "outputs": [
    {
     "name": "stdout",
     "output_type": "stream",
     "text": [
      "31536000\n"
     ]
    }
   ],
   "source": [
    "print(365*24*60*60)"
   ]
  },
  {
   "cell_type": "markdown",
   "id": "cedd78d3",
   "metadata": {},
   "source": [
    "# 13.train"
   ]
  },
  {
   "cell_type": "code",
   "execution_count": 129,
   "id": "b920ee90",
   "metadata": {},
   "outputs": [
    {
     "name": "stdout",
     "output_type": "stream",
     "text": [
      "2.76 hrs\n"
     ]
    }
   ],
   "source": [
    "speed=150\n",
    "dis=414\n",
    "time=dis/speed\n",
    "print(time,'hrs')"
   ]
  },
  {
   "cell_type": "markdown",
   "id": "d04e830c",
   "metadata": {},
   "source": [
    "# 14.total hours in school"
   ]
  },
  {
   "cell_type": "code",
   "execution_count": 130,
   "id": "000a765c",
   "metadata": {},
   "outputs": [
    {
     "name": "stdout",
     "output_type": "stream",
     "text": [
      "5760 hrs\n"
     ]
    }
   ],
   "source": [
    "print(192*6*5,'hrs')"
   ]
  },
  {
   "cell_type": "markdown",
   "id": "ef2fb352",
   "metadata": {},
   "source": [
    "# 15.age problem"
   ]
  },
  {
   "cell_type": "code",
   "execution_count": 131,
   "id": "1a4948d1",
   "metadata": {},
   "outputs": [
    {
     "name": "stdout",
     "output_type": "stream",
     "text": [
      "enter age of ram23\n",
      "enter age of sam22\n",
      "enter age of khan24\n",
      "Khan eldest,Sam youngest\n"
     ]
    }
   ],
   "source": [
    "r=int(input('enter age of ram'))\n",
    "s=int(input('enter age of sam'))\n",
    "k=int(input('enter age of khan'))\n",
    "if r>s and r>k:\n",
    "    if s>k:\n",
    "        print('Ram eldest,Khan youngest')\n",
    "    else:\n",
    "        print('Ram eldest,Sam youngest')\n",
    "if r<s and k<s:\n",
    "    if r>k:\n",
    "        print('Sam eldest,Khan youngest')\n",
    "    else:\n",
    "        print('Sam eldest,Ram youngest')\n",
    "if k>s and r<k:\n",
    "    if s>r:\n",
    "        print('Khan eldest,Ram youngest')\n",
    "    else:\n",
    "        print('Khan eldest,Sam youngest')\n",
    "        \n",
    "    "
   ]
  },
  {
   "cell_type": "markdown",
   "id": "26dd8603",
   "metadata": {},
   "source": [
    "# 16.Rotate list"
   ]
  },
  {
   "cell_type": "markdown",
   "id": "cfda152c",
   "metadata": {},
   "source": [
    "# 17.Python Programs to print patterns"
   ]
  },
  {
   "cell_type": "code",
   "execution_count": 153,
   "id": "65787a6d",
   "metadata": {},
   "outputs": [
    {
     "name": "stdout",
     "output_type": "stream",
     "text": [
      "1\n",
      "11\n",
      "121\n",
      "1331\n",
      "14641\n"
     ]
    }
   ],
   "source": [
    "for i in range(0,5):\n",
    "    print(pow(11,i))"
   ]
  },
  {
   "cell_type": "code",
   "execution_count": 133,
   "id": "41ac917c",
   "metadata": {},
   "outputs": [
    {
     "name": "stdout",
     "output_type": "stream",
     "text": [
      "*\n",
      "**\n",
      "***\n",
      "****\n",
      "*****\n"
     ]
    }
   ],
   "source": [
    "for i in range(1,6):\n",
    "    print('*'*i)"
   ]
  },
  {
   "cell_type": "code",
   "execution_count": 150,
   "id": "420ee18a",
   "metadata": {},
   "outputs": [
    {
     "name": "stdout",
     "output_type": "stream",
     "text": [
      "          * \n",
      "         * * \n",
      "        * * * \n",
      "       * * * * \n",
      "      * * * * * \n",
      "     * * * * * * \n",
      "    * * * * * * * \n"
     ]
    }
   ],
   "source": [
    "n=9\n",
    "for i in range(1,8):\n",
    "    print(\" \"*n,('* ')*i)\n",
    "   \n",
    "    n-=1"
   ]
  },
  {
   "cell_type": "code",
   "execution_count": 144,
   "id": "f861b410",
   "metadata": {},
   "outputs": [
    {
     "name": "stdout",
     "output_type": "stream",
     "text": [
      "P\n",
      "Py\n",
      "Pyt\n",
      "Pyth\n",
      "Pytho\n",
      "Python\n"
     ]
    }
   ],
   "source": [
    "str='Python'\n",
    "for i in range(0,len(str)):\n",
    "    print (str[slice(0,i+1)])"
   ]
  }
 ],
 "metadata": {
  "kernelspec": {
   "display_name": "Python 3 (ipykernel)",
   "language": "python",
   "name": "python3"
  },
  "language_info": {
   "codemirror_mode": {
    "name": "ipython",
    "version": 3
   },
   "file_extension": ".py",
   "mimetype": "text/x-python",
   "name": "python",
   "nbconvert_exporter": "python",
   "pygments_lexer": "ipython3",
   "version": "3.11.4"
  }
 },
 "nbformat": 4,
 "nbformat_minor": 5
}
