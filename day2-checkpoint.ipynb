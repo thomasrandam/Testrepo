{
 "cells": [
  {
   "cell_type": "markdown",
   "id": "95490d4b",
   "metadata": {},
   "source": [
    "# FUNCTIONS"
   ]
  },
  {
   "cell_type": "markdown",
   "id": "fef04459",
   "metadata": {},
   "source": [
    "# 1.Write a python function to list even and odd numbers in a list"
   ]
  },
  {
   "cell_type": "code",
   "execution_count": 1,
   "id": "c270ea5e",
   "metadata": {},
   "outputs": [
    {
     "name": "stdout",
     "output_type": "stream",
     "text": [
      "[324, 12, 234, 46, 24]\n",
      "[23, 21, 453, 5, 25]\n"
     ]
    }
   ],
   "source": [
    "even=[]\n",
    "odd=[]\n",
    "def evenodd(lst):\n",
    "    \n",
    "    for i in lst:\n",
    "        if i%2==0:\n",
    "            even.append(i)\n",
    "        else:\n",
    "            odd.append(i)\n",
    "    print(even)\n",
    "    print(odd)\n",
    "lst=[23,324,21,453,12,5,234,46,25,24]\n",
    "evenodd(lst)"
   ]
  },
  {
   "cell_type": "markdown",
   "id": "d594ed2c",
   "metadata": {},
   "source": [
    "# 2.Even count"
   ]
  },
  {
   "cell_type": "code",
   "execution_count": 8,
   "id": "7f4541e6",
   "metadata": {},
   "outputs": [
    {
     "name": "stdout",
     "output_type": "stream",
     "text": [
      "enter the numbers3\n",
      "enter the numbers4\n",
      "enter the numbers5\n",
      "enter the numbers6\n",
      "enter the numbers7\n",
      "enter the numbers8\n",
      "enter the numbers7\n",
      "enter the numbers6\n",
      "4\n"
     ]
    }
   ],
   "source": [
    "\n",
    "def evencnt():\n",
    "    count=0\n",
    "    for i in range(8):\n",
    "        n=int(input(\"enter the numbers\"))\n",
    "        if n%2==0:\n",
    "            count+=1\n",
    "    print(count)\n",
    "evencnt()\n"
   ]
  },
  {
   "cell_type": "markdown",
   "id": "9c3972ee",
   "metadata": {},
   "source": [
    "# 3.A repeat process till output is obtained a 1"
   ]
  },
  {
   "cell_type": "code",
   "execution_count": 10,
   "id": "ece1981e",
   "metadata": {},
   "outputs": [
    {
     "name": "stdout",
     "output_type": "stream",
     "text": [
      "Enter the number5\n",
      "5 x 3 + 1 is done and new number is  16\n",
      "number  16  is now divided by 2 and new number is  8.0\n",
      "number  8.0  is now divided by 2 and new number is  4.0\n",
      "number  4.0  is now divided by 2 and new number is  2.0\n",
      "number  2.0  is now divided by 2 and new number is  1.0\n"
     ]
    }
   ],
   "source": [
    "def func1(num):\n",
    "    while num!=1:\n",
    "        if num%2==0:\n",
    "            print('number ',num,' is now divided by 2 and new number is ',num/2)\n",
    "            num=num/2\n",
    "        else:\n",
    "            print(num,'x 3 + 1 is done and new number is ',3*num+1)\n",
    "            num=3*num+1\n",
    "num=int(input(\"Enter the number\"))\n",
    "if num>0:\n",
    "    func1(num)\n",
    "else:\n",
    "    print('enter positive integer')\n",
    "        "
   ]
  },
  {
   "cell_type": "markdown",
   "id": "af2eceda",
   "metadata": {},
   "source": [
    "# 4.sum of multiples of 3 and 5"
   ]
  },
  {
   "cell_type": "code",
   "execution_count": 11,
   "id": "e7399453",
   "metadata": {},
   "outputs": [
    {
     "name": "stdout",
     "output_type": "stream",
     "text": [
      "58418\n"
     ]
    }
   ],
   "source": [
    "def func2():\n",
    "    sum=0\n",
    "    for i in range (501):\n",
    "        if i%3==0 or i%5==0:\n",
    "            sum+=i\n",
    "    print(sum)\n",
    "func2()\n",
    "            "
   ]
  },
  {
   "cell_type": "markdown",
   "id": "b0473d40",
   "metadata": {},
   "source": [
    "# 5.first n prime numbers of a given list"
   ]
  },
  {
   "cell_type": "code",
   "execution_count": 21,
   "id": "3b976da7",
   "metadata": {},
   "outputs": [
    {
     "name": "stdout",
     "output_type": "stream",
     "text": [
      "enter the number of prime numbers needed3\n",
      "3\n",
      "13\n",
      "2\n"
     ]
    }
   ],
   "source": [
    "def func3(lst,n):\n",
    "    count=0\n",
    "    \n",
    "    while count<n:\n",
    "        flag=0\n",
    "        for i in lst:\n",
    "            if i==2:\n",
    "                print(i)\n",
    "                count+=1\n",
    "                break\n",
    "            for j in range(2,i):\n",
    "                if i%j==0:\n",
    "                    flag=1\n",
    "                    break\n",
    "            if flag==0:\n",
    "                print(i)\n",
    "                count+=1\n",
    "            if count==n:\n",
    "                break\n",
    "              \n",
    "lst=[3,13,42,23,12,342,1345,643,134,346,31,2,43,463,56,32,2]    \n",
    "n=int(input('enter the number of prime numbers needed'))\n",
    "func3(lst,n)"
   ]
  },
  {
   "cell_type": "markdown",
   "id": "d0847f41",
   "metadata": {},
   "source": [
    "# 6.Matrix multiplication"
   ]
  },
  {
   "cell_type": "code",
   "execution_count": 68,
   "id": "b5b5422b",
   "metadata": {},
   "outputs": [
    {
     "ename": "ValueError",
     "evalue": "too many values to unpack (expected 2)",
     "output_type": "error",
     "traceback": [
      "\u001b[1;31m---------------------------------------------------------------------------\u001b[0m",
      "\u001b[1;31mValueError\u001b[0m                                Traceback (most recent call last)",
      "Cell \u001b[1;32mIn[68], line 8\u001b[0m\n\u001b[0;32m      6\u001b[0m lst1\u001b[38;5;241m=\u001b[39m[\u001b[38;5;241m2\u001b[39m,\u001b[38;5;241m3\u001b[39m,\u001b[38;5;241m4\u001b[39m],[\u001b[38;5;241m3\u001b[39m,\u001b[38;5;241m4\u001b[39m,\u001b[38;5;241m3\u001b[39m],[\u001b[38;5;241m3\u001b[39m,\u001b[38;5;241m4\u001b[39m,\u001b[38;5;241m2\u001b[39m]\n\u001b[0;32m      7\u001b[0m lst2\u001b[38;5;241m=\u001b[39m[\u001b[38;5;241m3\u001b[39m,\u001b[38;5;241m4\u001b[39m,\u001b[38;5;241m3\u001b[39m],[\u001b[38;5;241m3\u001b[39m,\u001b[38;5;241m4\u001b[39m,\u001b[38;5;241m2\u001b[39m],[\u001b[38;5;241m4\u001b[39m,\u001b[38;5;241m3\u001b[39m,\u001b[38;5;241m1\u001b[39m]\n\u001b[1;32m----> 8\u001b[0m fun6(lst1,lst2)\n",
      "Cell \u001b[1;32mIn[68], line 3\u001b[0m, in \u001b[0;36mfun6\u001b[1;34m(lst1, lst2)\u001b[0m\n\u001b[0;32m      1\u001b[0m \u001b[38;5;28;01mdef\u001b[39;00m \u001b[38;5;21mfun6\u001b[39m(lst1,lst2):\n\u001b[0;32m      2\u001b[0m     ls\u001b[38;5;241m=\u001b[39m[]\n\u001b[1;32m----> 3\u001b[0m     \u001b[38;5;28;01mfor\u001b[39;00m i,j \u001b[38;5;129;01min\u001b[39;00m lst1,lst2:\n\u001b[0;32m      4\u001b[0m         ls[j]\u001b[38;5;241m.\u001b[39mappend(i\u001b[38;5;241m*\u001b[39mj)\n\u001b[0;32m      5\u001b[0m     \u001b[38;5;28mprint\u001b[39m(ls)\n",
      "\u001b[1;31mValueError\u001b[0m: too many values to unpack (expected 2)"
     ]
    }
   ],
   "source": [
    "def fun6(lst1,lst2):\n",
    "    ls=[]\n",
    "    for i,j in lst1,lst2:\n",
    "        ls[j].append(i*j)\n",
    "    print(ls)\n",
    "lst1=[2,3,4],[3,4,3],[3,4,2]\n",
    "lst2=[3,4,3],[3,4,2],[4,3,1]\n",
    "fun6(lst1,lst2)\n",
    "            "
   ]
  },
  {
   "cell_type": "markdown",
   "id": "2ebb0d15",
   "metadata": {},
   "source": [
    "# 7.Count vowels"
   ]
  },
  {
   "cell_type": "code",
   "execution_count": 61,
   "id": "0653ed28",
   "metadata": {},
   "outputs": [
    {
     "name": "stdout",
     "output_type": "stream",
     "text": [
      "enter the string: my precious\n",
      "4\n"
     ]
    }
   ],
   "source": [
    "def fun7(s):\n",
    "    count=0\n",
    "    vow=['a','e','i','o','u']\n",
    "    for i in s:\n",
    "        if i in vow:\n",
    "            count+=1\n",
    "    return count\n",
    "s=input('enter the string: ')\n",
    "print(fun7(s))"
   ]
  },
  {
   "cell_type": "code",
   "execution_count": null,
   "id": "973a7ca7",
   "metadata": {},
   "outputs": [],
   "source": [
    "def func3():\n",
    "    "
   ]
  },
  {
   "cell_type": "markdown",
   "id": "a74c5b68",
   "metadata": {},
   "source": [
    "# 8.Factorial"
   ]
  },
  {
   "cell_type": "code",
   "execution_count": 25,
   "id": "c507838c",
   "metadata": {},
   "outputs": [
    {
     "name": "stdout",
     "output_type": "stream",
     "text": [
      "enter the number5\n",
      "120\n"
     ]
    }
   ],
   "source": [
    "def func8(n):\n",
    "    fact=1\n",
    "    if n==1:\n",
    "        return 1\n",
    "    else:\n",
    "        fact=n*func8(n-1)\n",
    "        return fact\n",
    "n=int(input('enter the number'))\n",
    "print(func8(n))"
   ]
  },
  {
   "cell_type": "markdown",
   "id": "3ffc024c",
   "metadata": {},
   "source": [
    "# 9.Fibonacci series"
   ]
  },
  {
   "cell_type": "code",
   "execution_count": 35,
   "id": "a63393ca",
   "metadata": {},
   "outputs": [
    {
     "name": "stdout",
     "output_type": "stream",
     "text": [
      "Enter the limit7\n",
      "0\n",
      "1\n",
      "1\n",
      "2\n",
      "3\n",
      "5\n",
      "8\n"
     ]
    }
   ],
   "source": [
    "def func9(n):\n",
    "    a=0\n",
    "    b=1\n",
    "    print(a)\n",
    "    if n>=2:\n",
    "        print(b)\n",
    "    for i in range(2,n):\n",
    "        temp=a\n",
    "        a=b\n",
    "        b+=temp\n",
    "        print(b)\n",
    "    \n",
    "n=int(input('Enter the limit'))\n",
    "func9(n)"
   ]
  },
  {
   "cell_type": "markdown",
   "id": "88ffbab0",
   "metadata": {},
   "source": [
    "# 10.Reverse integer"
   ]
  },
  {
   "cell_type": "code",
   "execution_count": 38,
   "id": "90af8cea",
   "metadata": {},
   "outputs": [
    {
     "name": "stdout",
     "output_type": "stream",
     "text": [
      "Enter number543211\n",
      "112345\n"
     ]
    }
   ],
   "source": [
    "def fun10(n):\n",
    "    rev=0\n",
    "    while n>1:\n",
    "        rem=n%10\n",
    "        rev=rev*10+rem\n",
    "        n=n//10\n",
    "    return rev\n",
    "\n",
    "n=int(input('Enter number'))\n",
    "print(fun10(n))"
   ]
  },
  {
   "cell_type": "markdown",
   "id": "9ace23fd",
   "metadata": {},
   "source": [
    "# 11.sum of digits is even"
   ]
  },
  {
   "cell_type": "code",
   "execution_count": 39,
   "id": "6e60dd8c",
   "metadata": {},
   "outputs": [
    {
     "name": "stdout",
     "output_type": "stream",
     "text": [
      "200\n",
      "202\n",
      "204\n",
      "206\n",
      "208\n",
      "211\n",
      "213\n",
      "215\n",
      "217\n",
      "219\n",
      "220\n",
      "222\n",
      "224\n",
      "226\n",
      "228\n",
      "231\n",
      "233\n",
      "235\n",
      "237\n",
      "239\n",
      "240\n",
      "242\n",
      "244\n",
      "246\n",
      "248\n",
      "251\n",
      "253\n",
      "255\n",
      "257\n",
      "259\n",
      "260\n",
      "262\n",
      "264\n",
      "266\n",
      "268\n",
      "271\n",
      "273\n",
      "275\n",
      "277\n",
      "279\n",
      "280\n",
      "282\n",
      "284\n",
      "286\n",
      "288\n",
      "291\n",
      "293\n",
      "295\n",
      "297\n",
      "299\n"
     ]
    }
   ],
   "source": [
    "def fun11():\n",
    "    for i in range(200,301):\n",
    "        n=i\n",
    "        sum=0\n",
    "        while n>1:\n",
    "            rem=n%10\n",
    "            sum+=rem\n",
    "            n=n//10\n",
    "        if sum%2==0:\n",
    "            print(i)\n",
    "fun11()"
   ]
  },
  {
   "cell_type": "markdown",
   "id": "24923409",
   "metadata": {},
   "source": [
    "# 12.sum and number of digits"
   ]
  },
  {
   "cell_type": "code",
   "execution_count": 43,
   "id": "6953627b",
   "metadata": {},
   "outputs": [
    {
     "name": "stdout",
     "output_type": "stream",
     "text": [
      "enter the number123456\n",
      "sum of digits=  21\n",
      "number of digits=  6\n"
     ]
    }
   ],
   "source": [
    "def fun12(n):\n",
    "    sm=0\n",
    "    count=0\n",
    "    while n>=1:\n",
    "        rem=n%10\n",
    "        sm+=rem\n",
    "        n=n//10\n",
    "        count+=1\n",
    "    print('sum of digits= ',sm)\n",
    "    print('number of digits= ',count)\n",
    "    \n",
    "n=int(input('enter the number'))\n",
    "fun12(n)"
   ]
  },
  {
   "cell_type": "markdown",
   "id": "2e18204c",
   "metadata": {},
   "source": [
    "# 13.check sorted and duplicated list"
   ]
  },
  {
   "cell_type": "code",
   "execution_count": 51,
   "id": "af8ddfd2",
   "metadata": {},
   "outputs": [
    {
     "name": "stdout",
     "output_type": "stream",
     "text": [
      "True\n",
      "False\n"
     ]
    }
   ],
   "source": [
    "def is_sorted(lst):\n",
    "    flag=0\n",
    "    for i in range(1,len(lst)):\n",
    "        if lst[i-1]>lst[i]:\n",
    "            flag=1\n",
    "            break\n",
    "    if flag==0:\n",
    "        return True\n",
    "    else:\n",
    "        return False\n",
    "def has_duplicates(lst):\n",
    "    fla=0\n",
    "    for i in range(0,len(lst)):\n",
    "        for j in range(i,len(lst)):\n",
    "            if lst[i]==lst[j]:\n",
    "                fla=1\n",
    "                break\n",
    "    if fla==0:\n",
    "        return True\n",
    "    else:\n",
    "        return False\n",
    "lst=[1,2,3,4,5,6,7,7,8,9,10]\n",
    "print(is_sorted(lst))\n",
    "print(has_duplicates(lst))\n",
    "        \n",
    "    \n",
    "        "
   ]
  },
  {
   "cell_type": "markdown",
   "id": "5e33dee0",
   "metadata": {},
   "source": [
    "# 14.nested list function"
   ]
  },
  {
   "cell_type": "code",
   "execution_count": 70,
   "id": "6a3555cb",
   "metadata": {},
   "outputs": [
    {
     "name": "stdout",
     "output_type": "stream",
     "text": [
      "[6, 12, 7]\n",
      "[3, 6, 10, 15, 21, 28, 36, 45, 55]\n"
     ]
    }
   ],
   "source": [
    "def nested_sum(lst1):\n",
    "    ls=[]\n",
    "    for i in lst1:\n",
    "        sum=0\n",
    "        for j in i:\n",
    "            sum+=j\n",
    "        ls.append(sum)\n",
    "    print(ls)\n",
    "def cumsum(lst):\n",
    "    ls=[]\n",
    "    for i in range(0,len(lst)):\n",
    "        sum=0\n",
    "        for i in range(0,i+1):\n",
    "            sum+=lst[i]\n",
    "        ls.append(sum)\n",
    "    ls.remove(lst[0])\n",
    "    print(ls)\n",
    "lst1=[1,2,3],[3,4,5],[1,2,4]       \n",
    "lst=[1,2,3,4,5,6,7,8,9,10]\n",
    "nested_sum(lst1)\n",
    "cumsum(lst)"
   ]
  }
 ],
 "metadata": {
  "kernelspec": {
   "display_name": "Python 3 (ipykernel)",
   "language": "python",
   "name": "python3"
  },
  "language_info": {
   "codemirror_mode": {
    "name": "ipython",
    "version": 3
   },
   "file_extension": ".py",
   "mimetype": "text/x-python",
   "name": "python",
   "nbconvert_exporter": "python",
   "pygments_lexer": "ipython3",
   "version": "3.11.4"
  }
 },
 "nbformat": 4,
 "nbformat_minor": 5
}
