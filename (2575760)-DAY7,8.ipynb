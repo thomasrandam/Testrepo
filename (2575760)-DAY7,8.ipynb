{
 "cells": [
  {
   "cell_type": "markdown",
   "id": "bd2ef760",
   "metadata": {},
   "source": [
    "# Day 7, implementation of data structures in python"
   ]
  },
  {
   "cell_type": "markdown",
   "id": "02664add",
   "metadata": {},
   "source": [
    "# PS1"
   ]
  },
  {
   "cell_type": "code",
   "execution_count": 6,
   "id": "987ddb85",
   "metadata": {},
   "outputs": [
    {
     "name": "stdout",
     "output_type": "stream",
     "text": [
      "Enter # of elements to be inserted:\t3\n",
      "Enter the Element 1:2\n",
      "Enter the Element 2:1\n",
      "Enter the Element 3:3\n",
      "Enter the value to be searched: \t2\n",
      "Element 2 Found at Position 1\n",
      "[2, 1, 3]\n"
     ]
    }
   ],
   "source": [
    "def linearsearch(lst,match_item):\n",
    "    pos=0\n",
    "    found=False\n",
    "    while pos <n and not found:\n",
    "        if lst[pos]==match_item:\n",
    "            found=True\n",
    "        else:\n",
    "            pos+=1\n",
    "        \n",
    "    if found:\n",
    "        print('Element %d Found at Position %d'%(match_item,pos+1))\n",
    "    \n",
    "    else:\n",
    "        raise ValueError('Element %d not found in the list'%match_item)\n",
    "    \n",
    "    print(lst)\n",
    "lst=[]\n",
    "n=int(input('Enter # of elements to be inserted:\\t'))\n",
    "\n",
    "for i in range(0,n):\n",
    "    x=int(input('Enter the Element %d:'%(i+1)))\n",
    "    lst.append(x)\n",
    "match_item=int(input('Enter the value to be searched: \\t'))\n",
    "linearsearch(lst,match_item)"
   ]
  },
  {
   "cell_type": "markdown",
   "id": "8c91250a",
   "metadata": {},
   "source": [
    "# PS2"
   ]
  },
  {
   "cell_type": "code",
   "execution_count": 11,
   "id": "26d26fe0",
   "metadata": {},
   "outputs": [
    {
     "name": "stdout",
     "output_type": "stream",
     "text": [
      "Enter # of elements to be inserted:\t6\n",
      "Enter the Element 1:23\n",
      "Enter the Element 2:5\n",
      "Enter the Element 3:34\n",
      "Enter the Element 4:12\n",
      "Enter the Element 5:54\n",
      "Enter the Element 6:2\n",
      "Enter the value to be searched:\t5\n",
      "sorted list  [2, 5, 12, 23, 34, 54]\n",
      "Element 5 Found at Position 2\n",
      "[2, 5, 12, 23, 34, 54]\n"
     ]
    }
   ],
   "source": [
    "def binary_search(lst,e):\n",
    "    for i in range(len(lst)):\n",
    "        for j in range(len(lst)):\n",
    "            if lst[i]<lst[j]:\n",
    "                temp=lst[i]\n",
    "                lst[i]=lst[j]\n",
    "                lst[j]=temp\n",
    "    print('sorted list ',lst)\n",
    "    \n",
    "    \n",
    "    \n",
    "    \n",
    "    \n",
    "    first=0\n",
    "    last=len(lst)-1\n",
    "    found=False\n",
    "    while(first<=last and not found):\n",
    "        mid=(first+last)//2\n",
    "        if lst[mid]==e:\n",
    "            found=True\n",
    "        \n",
    "        else:\n",
    "            if e<lst[mid]:\n",
    "                last=mid-1\n",
    "            else:\n",
    "                first=mid+1\n",
    "            \n",
    "    if found:\n",
    "        print('Element %d Found at Position %d'%(e,mid+1))\n",
    "    else:\n",
    "        print('Element %d is not found in the list'%(e))\n",
    "    \n",
    "    print(lst)\n",
    "lst=[]\n",
    "n=int(input('Enter # of elements to be inserted:\\t'))\n",
    "for i in range(0,n):\n",
    "    x=int(input('Enter the Element %d:'%(i+1)))\n",
    "    lst.append(x)\n",
    "e=int(input('Enter the value to be searched:\\t'))\n",
    "binary_search(lst,e)"
   ]
  },
  {
   "cell_type": "markdown",
   "id": "167bab1c",
   "metadata": {},
   "source": [
    "# PS3"
   ]
  },
  {
   "cell_type": "code",
   "execution_count": 3,
   "id": "fab11a63",
   "metadata": {},
   "outputs": [
    {
     "name": "stdout",
     "output_type": "stream",
     "text": [
      "[3, 23, 34, 234, 324, 546, 2341]\n"
     ]
    }
   ],
   "source": [
    "def selection_sort(lst):\n",
    "    sort=[]\n",
    "    while len(lst)!=0:\n",
    "        small=lst[0]\n",
    "        for i in range(len(lst)):\n",
    "            \n",
    "            if lst[i]<small:\n",
    "                small=lst[i]\n",
    "        sort.append(small)\n",
    "        lst.remove(small)\n",
    "        \n",
    "    print(sort)\n",
    "lst=[324,234,2341,34,23,546,3]\n",
    "selection_sort(lst)"
   ]
  },
  {
   "cell_type": "markdown",
   "id": "765b3381",
   "metadata": {},
   "source": [
    "# PS4"
   ]
  },
  {
   "cell_type": "code",
   "execution_count": 10,
   "id": "4a5a30ac",
   "metadata": {},
   "outputs": [
    {
     "name": "stdout",
     "output_type": "stream",
     "text": [
      "[32, 3]\n",
      "[3, 32, 2]\n",
      "[3, 2, 32]\n",
      "[2, 3, 32, 534, 234]\n",
      "Sorted List:\n",
      " [2, 3, 32, 234, 534, 3242]\n",
      "\n"
     ]
    }
   ],
   "source": [
    "def insertionsort(lst):\n",
    "    \n",
    "    num_comparison=0\n",
    "    num_swap=0\n",
    "    sort=[]\n",
    "    sort.append(lst[0])\n",
    "    for i in range(1,len(lst)):\n",
    "        a=lst[i]\n",
    "        sort.append(a)\n",
    "        for j in range(len(sort)-1,-1,-1):\n",
    "            \n",
    "            if a<sort[j]:\n",
    "                print(sort)\n",
    "                sort[j+1],sort[j]=sort[j],sort[j+1]\n",
    "                \n",
    "                \n",
    "            \n",
    "\n",
    "    print('Sorted List:\\n',sort)\n",
    "    print()\n",
    "    \n",
    "insertionsort([32,3,2,534,234,3242])"
   ]
  },
  {
   "cell_type": "markdown",
   "id": "ed98a59c",
   "metadata": {},
   "source": [
    "# PS5"
   ]
  },
  {
   "cell_type": "code",
   "execution_count": 11,
   "id": "a7fdab2d",
   "metadata": {},
   "outputs": [
    {
     "name": "stdout",
     "output_type": "stream",
     "text": [
      "split [32, 3, 2, 534, 234, 3242]\n",
      "split [32, 3, 2]\n",
      "split [32]\n",
      "split [3, 2]\n",
      "split [3]\n",
      "split [2]\n",
      "merging [2, 3]\n",
      "merging [2, 3, 32]\n",
      "split [534, 234, 3242]\n",
      "split [534]\n",
      "split [234, 3242]\n",
      "split [234]\n",
      "split [3242]\n",
      "merging [234, 3242]\n",
      "merging [234, 534, 3242]\n",
      "merging [2, 3, 32, 234, 534, 3242]\n"
     ]
    }
   ],
   "source": [
    "def mergesort(lst):\n",
    "    print (\"split\",lst)\n",
    "    if len(lst)>1:\n",
    "        mid = len(lst)//2\n",
    "        lhalf=lst[:mid]\n",
    "        rhalf=lst[mid:]\n",
    "        mergesort(lhalf)\n",
    "        mergesort(rhalf)\n",
    "        i=0\n",
    "        j=0\n",
    "        k=0\n",
    "        while i<len(lhalf) and j<len(rhalf):\n",
    "            if int(lhalf[i])<int(rhalf[j]):\n",
    "                lst[k]=lhalf[i]\n",
    "                i+=1\n",
    "            else:\n",
    "                lst[k]=rhalf[j]\n",
    "                j+=1\n",
    "            k+=1\n",
    "        while i <len(lhalf):\n",
    "            lst[k]=lhalf[i]\n",
    "            i+=1\n",
    "            k+=1\n",
    "        while j<len(rhalf):\n",
    "            lst[k]=rhalf[j]\n",
    "            j+=1\n",
    "            k+=1\n",
    "        print(\"merging\",lst)\n",
    "lst=[32,3,2,534,234,3242]\n",
    "mergesort(lst)"
   ]
  },
  {
   "cell_type": "markdown",
   "id": "1ea61690",
   "metadata": {},
   "source": [
    "# PS6"
   ]
  },
  {
   "cell_type": "code",
   "execution_count": 69,
   "id": "793417cb",
   "metadata": {},
   "outputs": [],
   "source": [
    "class Node:\n",
    "    def __init__(self,dataval=None,nextval=None):\n",
    "        self.dataval=dataval\n",
    "        self.nextval=nextval\n",
    "        \n",
    "    def __repr__(self):\n",
    "        return repr(self.dataval)\n",
    "    \n",
    "    \n",
    "    \n"
   ]
  },
  {
   "cell_type": "code",
   "execution_count": 187,
   "id": "ed2a1913",
   "metadata": {
    "scrolled": true
   },
   "outputs": [],
   "source": [
    "class LinkedList:\n",
    "    def __init__(self):\n",
    "        self.head=None\n",
    "    def __repr__(self):\n",
    "        node=[]\n",
    "        curr=self.head\n",
    "        \n",
    "        while curr:\n",
    "            node.append(repr(curr))\n",
    "            curr=curr.nextval\n",
    "        return '['+ '--->'.join(node)+ ']'\n",
    "    def prepend(self,dataval):\n",
    "        self.head=Node(dataval=dataval,nextval=self.head)\n",
    "        print(self.head)\n",
    "        \n",
    "    def append(self,dataval):                        \n",
    "        curr=self.head\n",
    "        while curr and curr.dataval!=dataval:\n",
    "            curr=curr.nextval\n",
    "            \n",
    "        if not self.head:\n",
    "            self.head=Node(dataval=dataval)\n",
    "            return\n",
    "        curr=self.head\n",
    "        while curr.nextval:\n",
    "            curr=curr.nextval\n",
    "        curr.nextval=Node(dataval=dataval)\n",
    "    \n",
    "    def find_smallest(self):\n",
    "        curr=self.head\n",
    "        small=curr.dataval\n",
    "        while curr and curr.dataval:\n",
    "            if curr.dataval<small:\n",
    "                small=curr.dataval\n",
    "            curr=curr.nextval\n",
    "            \n",
    "        return small\n",
    "    \n",
    "    def reverse(self):\n",
    "        curr=self.head\n",
    "        prev_node=None\n",
    "        \n",
    "        while curr:\n",
    "            nextval=curr.nextval\n",
    "            curr.nextval=prev_node\n",
    "            prev_node=curr\n",
    "            curr=nextval\n",
    "        self.head=prev_node\n",
    "    \n",
    "l=LinkedList()\n"
   ]
  },
  {
   "cell_type": "code",
   "execution_count": 108,
   "id": "4ef13d2e",
   "metadata": {},
   "outputs": [],
   "source": []
  },
  {
   "cell_type": "code",
   "execution_count": 189,
   "id": "9ad28205",
   "metadata": {},
   "outputs": [],
   "source": [
    "l.append(56)\n",
    "l.append(45)\n",
    "l.append(98)\n",
    "l.append(43)"
   ]
  },
  {
   "cell_type": "code",
   "execution_count": 166,
   "id": "85c65b24",
   "metadata": {},
   "outputs": [
    {
     "name": "stdout",
     "output_type": "stream",
     "text": [
      "enter the number to add43\n"
     ]
    },
    {
     "data": {
      "text/plain": [
       "43"
      ]
     },
     "execution_count": 166,
     "metadata": {},
     "output_type": "execute_result"
    }
   ],
   "source": [
    "\n"
   ]
  },
  {
   "cell_type": "code",
   "execution_count": 190,
   "id": "185c0c61",
   "metadata": {},
   "outputs": [
    {
     "data": {
      "text/plain": [
       "43"
      ]
     },
     "execution_count": 190,
     "metadata": {},
     "output_type": "execute_result"
    }
   ],
   "source": [
    "l.find_smallest()"
   ]
  },
  {
   "cell_type": "code",
   "execution_count": 191,
   "id": "5a8a97b6",
   "metadata": {},
   "outputs": [],
   "source": [
    "l.append(2)"
   ]
  },
  {
   "cell_type": "code",
   "execution_count": 192,
   "id": "1a44af5d",
   "metadata": {},
   "outputs": [
    {
     "data": {
      "text/plain": [
       "2"
      ]
     },
     "execution_count": 192,
     "metadata": {},
     "output_type": "execute_result"
    }
   ],
   "source": [
    "l.find_smallest()"
   ]
  },
  {
   "cell_type": "markdown",
   "id": "da43e294",
   "metadata": {},
   "source": [
    "# PS7"
   ]
  },
  {
   "cell_type": "code",
   "execution_count": 16,
   "id": "86b85bc2",
   "metadata": {},
   "outputs": [
    {
     "name": "stdout",
     "output_type": "stream",
     "text": [
      "[1, 2, 3, 4, 5, 6, 7, 8, 9, 10]\n"
     ]
    },
    {
     "data": {
      "text/plain": [
       "9"
      ]
     },
     "execution_count": 16,
     "metadata": {},
     "output_type": "execute_result"
    }
   ],
   "source": [
    "class Stack:\n",
    "    \n",
    "    def __init__(self):\n",
    "        self.__stack=[]\n",
    "        \n",
    "    def is_empty(self):\n",
    "        if len(self.__stack)==0:\n",
    "            return True\n",
    "        else:\n",
    "            return False\n",
    "        \n",
    "        \n",
    "    def push(self,item):\n",
    "        self.__stack.append(item)\n",
    "        \n",
    "    def pop(self):\n",
    "        if len(self.__stack)==0:\n",
    "            raise Exception('Stack is empty!!- no need to call pop punction ')\n",
    "            \n",
    "        else:\n",
    "            return self.__stack.pop()\n",
    "        \n",
    "    def display(self):\n",
    "        print(self.__stack)\n",
    "        \n",
    "        \n",
    "s=Stack()\n",
    "for i in range(1,11):\n",
    "    s.push(i)\n",
    "    \n",
    "\n",
    "s.display()\n",
    "s.pop()\n",
    "s.pop()"
   ]
  },
  {
   "cell_type": "markdown",
   "id": "ae5f87e3",
   "metadata": {},
   "source": [
    "# PS8"
   ]
  },
  {
   "cell_type": "code",
   "execution_count": 20,
   "id": "3d2520d1",
   "metadata": {},
   "outputs": [
    {
     "name": "stdout",
     "output_type": "stream",
     "text": [
      "[1, 2, 3, 4, 5, 6, 7, 8, 9, 10]\n",
      "\n",
      "1\n",
      "\n",
      "[2, 3, 4, 5, 6, 7, 8, 9, 10]\n"
     ]
    }
   ],
   "source": [
    "class queue:\n",
    "    \n",
    "    def __init__(self):\n",
    "        self.__queue=[]\n",
    "        \n",
    "    def is_empty(self):\n",
    "        if len(self.__queue)==0:\n",
    "            return True\n",
    "        else:\n",
    "            return False\n",
    "    \n",
    "    def enqueue(self,item):\n",
    "        self.__queue.append(item)\n",
    "        \n",
    "    def dequeue(self):\n",
    "        if len(self.__queue)==0:\n",
    "            raise Exception('Queue is empty!!- no need to delete ')\n",
    "            \n",
    "        else:\n",
    "            print(self.__queue[0])\n",
    "            return self.__queue.pop(0)\n",
    "        \n",
    "    def display(self):\n",
    "        print(self.__queue)\n",
    "        \n",
    "        \n",
    "q=queue()\n",
    "for i in range(1,11):\n",
    "    q.enqueue(i)\n",
    "    \n",
    "\n",
    "q.display()\n",
    "print()\n",
    "q.dequeue()\n",
    "print()\n",
    "q.display()\n"
   ]
  },
  {
   "cell_type": "markdown",
   "id": "014cc1ff",
   "metadata": {},
   "source": [
    "# PS9"
   ]
  },
  {
   "cell_type": "code",
   "execution_count": 59,
   "id": "458a3f45",
   "metadata": {},
   "outputs": [
    {
     "name": "stdout",
     "output_type": "stream",
     "text": [
      "ABC^/DE*+FG*-\n",
      "BA*C*4-2^2/1001^"
     ]
    }
   ],
   "source": [
    "class Convert:\n",
    "  \n",
    "    \n",
    "    def __init__(self, capacity):\n",
    "        self.top = -1\n",
    "        self.capacity = capacity\n",
    "        self.array = []\n",
    "        self.output = []\n",
    "        self.order = {'+': 1, '-': 1, '*': 2, '/': 2, '^': 3}\n",
    "  \n",
    "   \n",
    "    def isEmpty(self):\n",
    "         \n",
    "        if self.top == -1:\n",
    "            return True\n",
    "        else:\n",
    "            return False\n",
    "  \n",
    "    \n",
    "    def peek(self):\n",
    "        return self.array[-1]\n",
    "  \n",
    "    \n",
    "    def pop(self):\n",
    "        if not self.isEmpty():\n",
    "            self.top -= 1\n",
    "            return self.array.pop()\n",
    "        else:\n",
    "            return \"$\"\n",
    "  \n",
    "    \n",
    "    def push(self, op):\n",
    "        self.top += 1\n",
    "        self.array.append(op)\n",
    "  \n",
    "    \n",
    "    def isOperand(self, ch):\n",
    "        return ch.isalpha()\n",
    "  \n",
    "    \n",
    "    def notGreater(self, i):\n",
    "        try:\n",
    "            a = self.order[i]\n",
    "            b = self.order[self.peek()]\n",
    "            if a <= b:\n",
    "                return True\n",
    "            else:\n",
    "                False\n",
    "        except KeyError:\n",
    "            return False\n",
    "  \n",
    "    \n",
    "    def infixToPostfix(self, exp):\n",
    "  \n",
    "        \n",
    "        for i in exp:\n",
    "              \n",
    "            \n",
    "            if self.isOperand(i):\n",
    "                self.output.append(i)\n",
    "  \n",
    "            \n",
    "            elif i == '(':\n",
    "                self.push(i)\n",
    "  \n",
    "            \n",
    "            elif i == ')':\n",
    "                while((not self.isEmpty()) and\n",
    "                      self.peek() != '('):\n",
    "                    a = self.pop()\n",
    "                    self.output.append(a)\n",
    "                if (not self.isEmpty() and self.peek() != '('):\n",
    "                    return -1\n",
    "                else:\n",
    "                    self.pop()\n",
    "  \n",
    "            \n",
    "            else:\n",
    "                while(not self.isEmpty() and self.notGreater(i)):\n",
    "                    self.output.append(self.pop())\n",
    "                self.push(i)\n",
    "  \n",
    "        \n",
    "        while not self.isEmpty():\n",
    "            self.output.append(self.pop())\n",
    "  \n",
    "        for ch in self.output:\n",
    "            print(ch, end=\"\")\n",
    "  \n",
    "  \n",
    "\n",
    "\n",
    "exp = \"A/B^C+D*E-F*G\"\n",
    "exp2='(B^2-4*A*C)^(1/2)(100)'\n",
    "obj = Convert(len(exp))\n",
    "obj.infixToPostfix(exp)\n",
    "\n",
    "obj2=Convert(len(exp2))\n",
    "print()\n",
    "obj2.infixToPostfix(exp2)"
   ]
  }
 ],
 "metadata": {
  "kernelspec": {
   "display_name": "Python 3 (ipykernel)",
   "language": "python",
   "name": "python3"
  },
  "language_info": {
   "codemirror_mode": {
    "name": "ipython",
    "version": 3
   },
   "file_extension": ".py",
   "mimetype": "text/x-python",
   "name": "python",
   "nbconvert_exporter": "python",
   "pygments_lexer": "ipython3",
   "version": "3.11.4"
  }
 },
 "nbformat": 4,
 "nbformat_minor": 5
}
