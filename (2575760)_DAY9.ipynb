{
 "cells": [
  {
   "cell_type": "markdown",
   "id": "ffe77e3f",
   "metadata": {},
   "source": [
    "# DAY 9- NUMPY"
   ]
  },
  {
   "cell_type": "markdown",
   "id": "6167aeff",
   "metadata": {},
   "source": [
    "# PS1"
   ]
  },
  {
   "cell_type": "code",
   "execution_count": 3,
   "id": "bf30703d",
   "metadata": {},
   "outputs": [
    {
     "name": "stdout",
     "output_type": "stream",
     "text": [
      "[[[0.35861099 0.68616024 0.94332989]\n",
      "  [0.99968655 0.93926212 0.97656749]\n",
      "  [0.39630693 0.17401538 0.33769451]]\n",
      "\n",
      " [[0.06851447 0.74030671 0.9168986 ]\n",
      "  [0.33805981 0.34022913 0.69832314]\n",
      "  [0.46005021 0.6266915  0.13630784]]\n",
      "\n",
      " [[0.60184412 0.0292622  0.28372909]\n",
      "  [0.64975794 0.55002825 0.16248368]\n",
      "  [0.35188543 0.16438684 0.93049658]]]\n"
     ]
    }
   ],
   "source": [
    "import numpy as np\n",
    "\n",
    "a=np.random.random((3,3,3))\n",
    "print(a)"
   ]
  },
  {
   "cell_type": "markdown",
   "id": "12f71010",
   "metadata": {},
   "source": [
    "# PS2"
   ]
  },
  {
   "cell_type": "code",
   "execution_count": 4,
   "id": "c4ef2454",
   "metadata": {},
   "outputs": [
    {
     "name": "stdout",
     "output_type": "stream",
     "text": [
      "[[0 0 0 0 0]\n",
      " [1 0 0 0 0]\n",
      " [2 2 0 0 0]\n",
      " [3 3 3 0 0]\n",
      " [4 4 4 4 0]]\n"
     ]
    }
   ],
   "source": [
    "import numpy as np\n",
    "\n",
    "lst=[[0,0,0,0,0],[1,0,0,0,0],[2,2,0,0,0],[3,3,3,0,0],[4,4,4,4,0]]\n",
    "\n",
    "a2=np.array(lst)\n",
    "print(a2)"
   ]
  },
  {
   "cell_type": "markdown",
   "id": "13cf9a33",
   "metadata": {},
   "source": [
    "# PS3"
   ]
  },
  {
   "cell_type": "code",
   "execution_count": 32,
   "id": "c6747750",
   "metadata": {},
   "outputs": [
    {
     "name": "stdout",
     "output_type": "stream",
     "text": [
      "[['a1', 'a2', 'a3', 'a4', 'a5', 'a6', 'a7', 'a8'], ['b1', 'b2', 'b3', 'b4', 'b5', 'b6', 'b7', 'b8'], ['c1', 'c2', 'c3', 'c4', 'c5', 'c6', 'c7', 'c8'], ['d1', 'd2', 'd3', 'd4', 'd5', 'd6', 'd7', 'd8'], ['e1', 'e2', 'e3', 'e4', 'e5', 'e6', 'e7', 'e8'], ['f1', 'f2', 'f3', 'f4', 'f5', 'f6', 'f7', 'f8'], ['g1', 'g2', 'g3', 'g4', 'g5', 'g6', 'g7', 'g8'], ['h1', 'h2', 'h3', 'h4', 'h5', 'h6', 'h7', 'h8']]\n",
      "[['a1' 'a2' 'a3' 'a4' 'a5' 'a6' 'a7' 'a8']\n",
      " ['b1' 'b2' 'b3' 'b4' 'b5' 'b6' 'b7' 'b8']\n",
      " ['c1' 'c2' 'c3' 'c4' 'c5' 'c6' 'c7' 'c8']\n",
      " ['d1' 'd2' 'd3' 'd4' 'd5' 'd6' 'd7' 'd8']\n",
      " ['e1' 'e2' 'e3' 'e4' 'e5' 'e6' 'e7' 'e8']\n",
      " ['f1' 'f2' 'f3' 'f4' 'f5' 'f6' 'f7' 'f8']\n",
      " ['g1' 'g2' 'g3' 'g4' 'g5' 'g6' 'g7' 'g8']\n",
      " ['h1' 'h2' 'h3' 'h4' 'h5' 'h6' 'h7' 'h8']]\n"
     ]
    }
   ],
   "source": [
    "import numpy as np\n",
    "lst=['a','b','c','d','e','f','g','h']\n",
    "lst1=['1','2','3','4','5','6','7','8']\n",
    "lst2=[]\n",
    "lst2=[[]for i in range(8)]\n",
    "for i in range(len(lst)):\n",
    "    \n",
    "    for j in range(len(lst)):\n",
    "        lst2[i].append(lst[i]+lst1[j])\n",
    "    \n",
    "print(lst2)\n",
    "a3=np.array(lst2)\n",
    "print(a3)"
   ]
  },
  {
   "cell_type": "markdown",
   "id": "ef033a28",
   "metadata": {},
   "source": [
    "# PS4"
   ]
  },
  {
   "cell_type": "code",
   "execution_count": 51,
   "id": "b7473deb",
   "metadata": {},
   "outputs": [
    {
     "name": "stdout",
     "output_type": "stream",
     "text": [
      "[[1 2 2 0 0]\n",
      " [2 1 2 1 0]\n",
      " [1 2 0 2 1]\n",
      " [1 1 1 1 2]\n",
      " [2 2 2 1 0]]\n",
      "\n",
      " 2.9999999999999996\n",
      "\n",
      "Normalized matrix is\n",
      "\n",
      "[[0.33333333 0.66666667 0.66666667 0.         0.        ]\n",
      " [0.66666667 0.33333333 0.66666667 0.33333333 0.        ]\n",
      " [0.33333333 0.66666667 0.         0.66666667 0.33333333]\n",
      " [0.33333333 0.33333333 0.33333333 0.33333333 0.66666667]\n",
      " [0.66666667 0.66666667 0.66666667 0.33333333 0.        ]]\n"
     ]
    }
   ],
   "source": [
    "import numpy as np\n",
    "\n",
    "lst4=[[1,2,2,0,0],[2,1,2,1,0],[1,2,0,2,1],[1,1,1,1,2],[2,2,2,1,0]]\n",
    "a4=np.array(lst4)\n",
    "print(a4)\n",
    "det=np.linalg.det(a4)\n",
    "print('\\n',det)\n",
    "print('\\nNormalized matrix is\\n')\n",
    "print(a4/det)"
   ]
  },
  {
   "cell_type": "markdown",
   "id": "4830e16e",
   "metadata": {},
   "source": [
    "# PS5"
   ]
  },
  {
   "cell_type": "code",
   "execution_count": 56,
   "id": "046f9743",
   "metadata": {
    "scrolled": true
   },
   "outputs": [
    {
     "name": "stdout",
     "output_type": "stream",
     "text": [
      "same value  1  at  0 , 0\n",
      "same value  2  at  0 , 1\n",
      "same value  1  at  1 , 1\n"
     ]
    }
   ],
   "source": [
    "lst51=[[1,2,2,0,0],[2,1,2,1,0]]\n",
    "lst52=[[1,2,0,2,1],[1,1,1,1,2]]\n",
    "a51=np.array(lst51)\n",
    "a52=np.array(lst52)\n",
    "\n",
    "\n",
    "a5=a51-a52\n",
    "for i in range(len(a5)):\n",
    "    for j in range(len(a5)):\n",
    "        if a5[i][j]==0:\n",
    "            print('same value ',a51[i][j],' at ',i,',',j)\n"
   ]
  },
  {
   "cell_type": "markdown",
   "id": "365bb356",
   "metadata": {},
   "source": [
    "# PS6"
   ]
  },
  {
   "cell_type": "code",
   "execution_count": 129,
   "id": "dcf3a58b",
   "metadata": {},
   "outputs": [
    {
     "name": "stdout",
     "output_type": "stream",
     "text": [
      "2023-09-22\n",
      "2023-09-21\n",
      "2023-09-23\n"
     ]
    }
   ],
   "source": [
    "import numpy as np\n",
    "  \n",
    "\n",
    "today = np.datetime64('today', 'D')\n",
    "print( today)\n",
    "  \n",
    "yesterday = np.datetime64('today', 'D')- np.timedelta64(1, 'D')\n",
    "  \n",
    "print( yesterday)\n",
    "\n",
    "tomorrow = np.datetime64('today', 'D')+ np.timedelta64(1, 'D')\n",
    "  \n",
    "print( tomorrow)"
   ]
  },
  {
   "cell_type": "markdown",
   "id": "12914841",
   "metadata": {},
   "source": [
    "# PS7"
   ]
  },
  {
   "cell_type": "code",
   "execution_count": 72,
   "id": "1a3212b9",
   "metadata": {},
   "outputs": [
    {
     "name": "stdout",
     "output_type": "stream",
     "text": [
      "[[0.64656057 0.50170177 0.72634164]\n",
      " [0.97686332 0.80558697 0.40329392]\n",
      " [0.07257615 0.99407068 0.90611119]]\n",
      "[[0.61881416 0.46081222 0.94769346]\n",
      " [0.28566271 0.08441422 0.65400119]\n",
      " [0.35308463 0.34178265 0.63348865]]\n",
      "different array\n"
     ]
    }
   ],
   "source": [
    "a71=np.random.random((3,3))\n",
    "a72=np.random.random((3,3))\n",
    "print(a71)\n",
    "print(a72)\n",
    "flag=0\n",
    "for i in range(len(a71)):\n",
    "    for j in range(len(a71)):\n",
    "        if a71[i][j]!=a72[i][j]:\n",
    "            flag=1\n",
    "            break\n",
    "if flag==1:\n",
    "    print('different array')\n",
    "else:\n",
    "    print('same array')"
   ]
  },
  {
   "cell_type": "markdown",
   "id": "aff6f3c8",
   "metadata": {},
   "source": [
    "# PS8"
   ]
  },
  {
   "cell_type": "code",
   "execution_count": null,
   "id": "b0cebf0d",
   "metadata": {},
   "outputs": [],
   "source": [
    "import numpy as np\n",
    "\n",
    "a=np.random.randint(0,10,10)\n",
    "\n",
    "print(a)\n",
    "\n",
    "b=np.max(a)\n",
    "\n",
    "print(b)\n",
    "\n",
    "for i in range(len(a)):\n",
    "    if a[i]==b:\n",
    "        a[i]=0\n",
    "        \n",
    "print(a)"
   ]
  },
  {
   "cell_type": "markdown",
   "id": "9626609c",
   "metadata": {},
   "source": [
    "# PS9"
   ]
  },
  {
   "cell_type": "code",
   "execution_count": 107,
   "id": "15329506",
   "metadata": {},
   "outputs": [
    {
     "name": "stdout",
     "output_type": "stream",
     "text": [
      "Printing all elements of the array\n",
      "\n",
      "[[1 2 2 0 0]\n",
      " [2 1 2 0 0]\n",
      " [0 2 0 2 1]\n",
      " [1 1 1 1 1]\n",
      " [2 2 0 1 0]]\n"
     ]
    }
   ],
   "source": [
    "lst4=[[1,2,2,0,0],[2,1,2,0,0],[0,2,0,2,1],[1,1,1,1,1],[2,2,0,1,0]]\n",
    "a4=np.array(lst4)\n",
    "print('Printing all elements of the array')\n",
    "print()\n",
    "print(a4)"
   ]
  },
  {
   "cell_type": "markdown",
   "id": "fccbb255",
   "metadata": {},
   "source": [
    "# PS10"
   ]
  },
  {
   "cell_type": "code",
   "execution_count": 106,
   "id": "5ac5d0bd",
   "metadata": {},
   "outputs": [
    {
     "name": "stdout",
     "output_type": "stream",
     "text": [
      "[[ 0  1  1 -1 -1]\n",
      " [ 1  0  1 -1 -1]\n",
      " [-1  1 -1  1  0]\n",
      " [ 0  0  0  0  0]\n",
      " [ 1  1 -1  0 -1]]\n"
     ]
    }
   ],
   "source": [
    "lst4=[[1,2,2,0,0],[2,1,2,0,0],[0,2,0,2,1],[1,1,1,1,1],[2,2,0,1,0]]\n",
    "a4=np.array(lst4)\n",
    "for i in range(len(a4)):\n",
    "    a=np.average(a4[i])\n",
    "    for j in range(len(a4[i])):\n",
    "        a4[i][j]-=a\n",
    "        \n",
    "print(a4)\n",
    "        "
   ]
  },
  {
   "cell_type": "markdown",
   "id": "7eec871d",
   "metadata": {},
   "source": [
    "# PS11"
   ]
  },
  {
   "cell_type": "code",
   "execution_count": 137,
   "id": "92f5d212",
   "metadata": {},
   "outputs": [
    {
     "name": "stdout",
     "output_type": "stream",
     "text": [
      "[1 2 2 0 0]\n",
      "[1 0]\n",
      "[2 3 2 0 0]\n"
     ]
    }
   ],
   "source": [
    "import numpy as np\n",
    "lst=[1,2,2,0,0]\n",
    "\n",
    "a=np.array(lst)\n",
    "print(a)\n",
    "a2=np.random.randint(0,5,2)\n",
    "print(a2)\n",
    "for i in range(len(a)):\n",
    "    if i in a2:\n",
    "        a[i]+=1\n",
    "        \n",
    "print(a)"
   ]
  },
  {
   "cell_type": "markdown",
   "id": "4ac6fb5f",
   "metadata": {},
   "source": [
    "# PS12"
   ]
  },
  {
   "cell_type": "code",
   "execution_count": 142,
   "id": "c437d7d3",
   "metadata": {},
   "outputs": [
    {
     "name": "stdout",
     "output_type": "stream",
     "text": [
      "[[110   0]\n",
      " [  0 194]]\n"
     ]
    }
   ],
   "source": [
    "import numpy as np\n",
    "x=np.array([[1,2,3,4],[3,4,5,6]])\n",
    "v=np.array([9,10,11,12])\n",
    "print(np.diag(x.dot(v)))"
   ]
  },
  {
   "cell_type": "markdown",
   "id": "9f9ba10f",
   "metadata": {},
   "source": [
    "# PS13"
   ]
  },
  {
   "cell_type": "code",
   "execution_count": 79,
   "id": "f16b30fd",
   "metadata": {},
   "outputs": [
    {
     "name": "stdout",
     "output_type": "stream",
     "text": [
      "[7 1 8 6 5 8 9 9 8 3 4 4 8 8 3 0 9 0 6 4 5 9 7 3 0 0 0 2 9 3 5 5 9 6 9 2 7\n",
      " 1 3 7 8 2 8 1 8 7 4 3 0 0]\n",
      "{7: 5, 1: 3, 8: 8, 6: 3, 5: 4, 9: 7, 3: 6, 4: 4, 0: 7, 2: 3}\n",
      "8 : 8\n"
     ]
    }
   ],
   "source": [
    "import numpy as np\n",
    "x=np.random.randint(0,10,50)\n",
    "di={}\n",
    "for i in range(len(x)):\n",
    "    if x[i] not in di:\n",
    "        di[x[i]]=1\n",
    "    else:\n",
    "        di[x[i]]+=1\n",
    "print(x)\n",
    "print(di)\n",
    "ma=max(di.values())\n",
    "for k in di:\n",
    "    v=di[k]\n",
    "    if v==ma:\n",
    "        print(k,':',v)\n",
    "\n"
   ]
  },
  {
   "cell_type": "markdown",
   "id": "db32d6c8",
   "metadata": {},
   "source": [
    "# PS14"
   ]
  },
  {
   "cell_type": "code",
   "execution_count": 91,
   "id": "1db38a3f",
   "metadata": {},
   "outputs": [
    {
     "name": "stdout",
     "output_type": "stream",
     "text": [
      "[5 0 0 1 8 8 7 2 4 9]\n",
      "Enter number of largest number(n) :4\n",
      "[0 0 1 2 4 5 7 8 8 9]\n",
      "[7 8 8 9]\n"
     ]
    }
   ],
   "source": [
    "import numpy as np\n",
    "a=np.random.randint(0,10,10)\n",
    "print(a)\n",
    "n=int(input('Enter number of largest number(n) :'))\n",
    "a.sort()\n",
    "print(a)\n",
    "print(a[-n:])"
   ]
  },
  {
   "cell_type": "markdown",
   "id": "ee91289c",
   "metadata": {},
   "source": [
    "# PS15"
   ]
  },
  {
   "cell_type": "code",
   "execution_count": 108,
   "id": "847ee47b",
   "metadata": {},
   "outputs": [
    {
     "name": "stdout",
     "output_type": "stream",
     "text": [
      "[['om' '88.5' '90']\n",
      " ['tom' '87' '99']\n",
      " ['son' '85.5' '91']]\n",
      "\n",
      "Record array;\n",
      "[(b'om', 88.5, 90) (b'tom', 87. , 99) (b'son', 85.5, 91)]\n"
     ]
    }
   ],
   "source": [
    "import numpy as np\n",
    "arr = np.array([(\"om\", 88.5, 90),\n",
    "                 (\"tom\", 87, 99),\n",
    "             (\"son\", 85.5, 91)])\n",
    "\n",
    "print(arr)\n",
    "print(\"\\nRecord array;\")\n",
    "result = np.core.records.fromarrays(arr.T,\n",
    "                              names='col1, col2, col3',\n",
    "                              formats = 'S80, f8, i8')\n",
    "print(result)"
   ]
  },
  {
   "cell_type": "markdown",
   "id": "fe1b967a",
   "metadata": {},
   "source": [
    "# PS16"
   ]
  },
  {
   "cell_type": "code",
   "execution_count": 85,
   "id": "4708b47d",
   "metadata": {},
   "outputs": [
    {
     "name": "stdout",
     "output_type": "stream",
     "text": [
      "[[ 23  34 121]\n",
      " [ 23  22  67]\n",
      " [686 343 563]]\n",
      "Enter the rows to swap(1,2,3): 1\n",
      "2\n",
      "[[ 23  22  67]\n",
      " [ 23  34 121]\n",
      " [686 343 563]]\n"
     ]
    }
   ],
   "source": [
    "a=np.array([[23,34,121],[23,22,67],[686,343,563]])\n",
    "print(a)\n",
    "n1=int(input('Enter the rows to swap(1,2,3): '))\n",
    "n2=int(input())\n",
    "\n",
    "for i in range(3):\n",
    "    a[n1-1][i],a[n2-1][i]=a[n2-1][i],a[n1-1][i]\n",
    "print(a)\n"
   ]
  },
  {
   "cell_type": "markdown",
   "id": "3a8003c4",
   "metadata": {},
   "source": [
    "# PS17"
   ]
  },
  {
   "cell_type": "code",
   "execution_count": 82,
   "id": "cb35e204",
   "metadata": {},
   "outputs": [
    {
     "name": "stdout",
     "output_type": "stream",
     "text": [
      "[[[ 23]\n",
      "  [ 34]\n",
      "  [121]]\n",
      "\n",
      " [[ 23]\n",
      "  [ 22]\n",
      "  [ 67]]\n",
      "\n",
      " [[686]\n",
      "  [343]\n",
      "  [563]]]\n"
     ]
    }
   ],
   "source": [
    "x=np.array([[23,34,121],[23,22,67],[686,343,563]])\n",
    "xx=x.reshape((x.shape[0],x.shape[1],1))\n",
    "print(xx)"
   ]
  }
 ],
 "metadata": {
  "kernelspec": {
   "display_name": "Python 3 (ipykernel)",
   "language": "python",
   "name": "python3"
  },
  "language_info": {
   "codemirror_mode": {
    "name": "ipython",
    "version": 3
   },
   "file_extension": ".py",
   "mimetype": "text/x-python",
   "name": "python",
   "nbconvert_exporter": "python",
   "pygments_lexer": "ipython3",
   "version": "3.11.4"
  }
 },
 "nbformat": 4,
 "nbformat_minor": 5
}
