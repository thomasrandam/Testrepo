{
 "cells": [
  {
   "cell_type": "markdown",
   "id": "0bc369af",
   "metadata": {},
   "source": [
    "# Day 5"
   ]
  },
  {
   "cell_type": "markdown",
   "id": "aa15a521",
   "metadata": {},
   "source": [
    "# -Modules and Virtual Environments"
   ]
  },
  {
   "cell_type": "markdown",
   "id": "e8a15b53",
   "metadata": {},
   "source": [
    "# 1.Module import and management"
   ]
  },
  {
   "cell_type": "code",
   "execution_count": 161,
   "id": "12f37725",
   "metadata": {
    "scrolled": true
   },
   "outputs": [
    {
     "name": "stdout",
     "output_type": "stream",
     "text": [
      "3.141592653589793\n",
      "20.784609690826528\n",
      "   September 2023\n",
      "Mo Tu We Th Fr Sa Su\n",
      "             1  2  3\n",
      " 4  5  6  7  8  9 10\n",
      "11 12 13 14 15 16 17\n",
      "18 19 20 21 22 23 24\n",
      "25 26 27 28 29 30\n",
      "\n"
     ]
    }
   ],
   "source": [
    "#importing multiple modules \n",
    "\n",
    "import math\n",
    "import calendar\n",
    "\n",
    "print(math.pi)\n",
    "\n",
    "print(math.sqrt(432))\n",
    "\n",
    "print(calendar.month(2023,9))"
   ]
  },
  {
   "cell_type": "code",
   "execution_count": 173,
   "id": "5aba5c3d",
   "metadata": {},
   "outputs": [],
   "source": [
    "def square(a):\n",
    "    return a*a"
   ]
  },
  {
   "cell_type": "code",
   "execution_count": 174,
   "id": "0a876b4c",
   "metadata": {},
   "outputs": [
    {
     "ename": "ModuleNotFoundError",
     "evalue": "No module named 'square'",
     "output_type": "error",
     "traceback": [
      "\u001b[1;31m---------------------------------------------------------------------------\u001b[0m",
      "\u001b[1;31mModuleNotFoundError\u001b[0m                       Traceback (most recent call last)",
      "Cell \u001b[1;32mIn[174], line 1\u001b[0m\n\u001b[1;32m----> 1\u001b[0m \u001b[38;5;28;01mimport\u001b[39;00m \u001b[38;5;21;01msquare\u001b[39;00m\n\u001b[0;32m      3\u001b[0m \u001b[38;5;28;01mdef\u001b[39;00m \u001b[38;5;21mmain\u001b[39m():\n\u001b[0;32m      4\u001b[0m     nu\u001b[38;5;241m=\u001b[39m\u001b[38;5;28mint\u001b[39m(\u001b[38;5;28minput\u001b[39m())\n",
      "\u001b[1;31mModuleNotFoundError\u001b[0m: No module named 'square'"
     ]
    }
   ],
   "source": [
    "import square\n",
    "\n",
    "def main():\n",
    "    nu=int(input())\n",
    "    square.square(nu)\n",
    "main()"
   ]
  },
  {
   "cell_type": "code",
   "execution_count": 176,
   "id": "9585ed60",
   "metadata": {},
   "outputs": [
    {
     "name": "stdout",
     "output_type": "stream",
     "text": [
      "2023-09-16\n"
     ]
    }
   ],
   "source": [
    "#4. Ensuring proper namespacing and handling naming conflict\n",
    "from datetime import date\n",
    "print(date.today())\n"
   ]
  },
  {
   "cell_type": "code",
   "execution_count": 180,
   "id": "90ee5e62",
   "metadata": {},
   "outputs": [
    {
     "name": "stdout",
     "output_type": "stream",
     "text": [
      "5\n"
     ]
    }
   ],
   "source": [
    "print(date.weekday(date.today()))"
   ]
  },
  {
   "cell_type": "code",
   "execution_count": 182,
   "id": "14a1ca29",
   "metadata": {},
   "outputs": [
    {
     "name": "stdout",
     "output_type": "stream",
     "text": [
      "Error\n"
     ]
    }
   ],
   "source": [
    "try:\n",
    "    import factorial\n",
    "except ImportError:\n",
    "    print('Error')"
   ]
  },
  {
   "cell_type": "markdown",
   "id": "decb86e1",
   "metadata": {},
   "source": [
    "# 2.Virtual environment"
   ]
  },
  {
   "cell_type": "code",
   "execution_count": 184,
   "id": "18187501",
   "metadata": {},
   "outputs": [
    {
     "ename": "SyntaxError",
     "evalue": "invalid syntax (1081044345.py, line 2)",
     "output_type": "error",
     "traceback": [
      "\u001b[1;36m  Cell \u001b[1;32mIn[184], line 2\u001b[1;36m\u001b[0m\n\u001b[1;33m    python -m venv myenv\u001b[0m\n\u001b[1;37m              ^\u001b[0m\n\u001b[1;31mSyntaxError\u001b[0m\u001b[1;31m:\u001b[0m invalid syntax\n"
     ]
    }
   ],
   "source": [
    "#1\n",
    "python -m venv myenv\n",
    "\n",
    "#2\n",
    "myenv\\Scripts\\activate\n",
    "\n",
    "deactivate\n",
    "\n",
    "#3\n",
    "pip install Django\n",
    "\n",
    "#4\n",
    "pip freeze\n",
    "\n"
   ]
  },
  {
   "cell_type": "markdown",
   "id": "02e3e152",
   "metadata": {},
   "source": [
    "# 3.Module dependency resolution"
   ]
  },
  {
   "cell_type": "code",
   "execution_count": 190,
   "id": "7bdbce57",
   "metadata": {},
   "outputs": [],
   "source": [
    "#1.\n",
    "f=open('requirements.txt','w')\n",
    "f.write('asgiref==3.6.0 \\n')\n",
    "f.write('Django==4.1.7 \\n')\n",
    "f.write('sqlparse==0.4.3 \\n')\n",
    "f.write('tzdata==2022.7 \\n')\n",
    "f.close()\n",
    "\n"
   ]
  },
  {
   "cell_type": "code",
   "execution_count": null,
   "id": "2bb8c4d3",
   "metadata": {},
   "outputs": [],
   "source": [
    "#2.\n",
    "\n",
    "#write command\n",
    "\n",
    "pip install -r requirements.txt\n",
    "\n",
    "#3\n",
    "pip check\n",
    "\n"
   ]
  },
  {
   "cell_type": "code",
   "execution_count": 210,
   "id": "16085d36",
   "metadata": {},
   "outputs": [
    {
     "name": "stdout",
     "output_type": "stream",
     "text": [
      "asgiref\n",
      "3.6.0 \n",
      "Django\n",
      "4.1.7 \n",
      "sqlparse\n",
      "0.4.3 \n",
      "tzdata\n",
      "2022.7 \n",
      "\n"
     ]
    }
   ],
   "source": [
    "#4\n",
    "#we remove version specifications\n"
   ]
  },
  {
   "cell_type": "markdown",
   "id": "b50bccdd",
   "metadata": {},
   "source": [
    "# Database programing with MySql"
   ]
  },
  {
   "cell_type": "markdown",
   "id": "b8dec01b",
   "metadata": {},
   "source": [
    "# 1.Implement Inventory management System in python using MySql"
   ]
  },
  {
   "cell_type": "code",
   "execution_count": 32,
   "id": "e6ba2b1d",
   "metadata": {},
   "outputs": [],
   "source": [
    "import mysql.connector"
   ]
  },
  {
   "cell_type": "code",
   "execution_count": 33,
   "id": "7c93cc9d",
   "metadata": {},
   "outputs": [],
   "source": [
    "conn=mysql.connector.connect(user='root',\n",
    "                            password='Password@123',\n",
    "                            host='127.0.0.1',\n",
    "                            database='mla')"
   ]
  },
  {
   "cell_type": "code",
   "execution_count": 34,
   "id": "499ee01c",
   "metadata": {},
   "outputs": [
    {
     "name": "stdout",
     "output_type": "stream",
     "text": [
      "<mysql.connector.connection_cext.CMySQLConnection object at 0x000001488360C4D0>\n"
     ]
    }
   ],
   "source": [
    "print(conn)"
   ]
  },
  {
   "cell_type": "code",
   "execution_count": 35,
   "id": "0707fb3f",
   "metadata": {},
   "outputs": [
    {
     "name": "stdout",
     "output_type": "stream",
     "text": [
      "CMySQLCursor: (Nothing executed yet)\n"
     ]
    }
   ],
   "source": [
    "curs=conn.cursor()\n",
    "print(curs)"
   ]
  },
  {
   "cell_type": "code",
   "execution_count": 36,
   "id": "bbb570c0",
   "metadata": {},
   "outputs": [
    {
     "data": {
      "text/plain": [
       "<mysql.connector.cursor_cext.CMySQLCursor at 0x14882d55310>"
      ]
     },
     "execution_count": 36,
     "metadata": {},
     "output_type": "execute_result"
    }
   ],
   "source": [
    "curs"
   ]
  },
  {
   "cell_type": "code",
   "execution_count": 25,
   "id": "58bbef0f",
   "metadata": {},
   "outputs": [
    {
     "ename": "ProgrammingError",
     "evalue": "1050 (42S01): Table 'purchases' already exists",
     "output_type": "error",
     "traceback": [
      "\u001b[1;31m---------------------------------------------------------------------------\u001b[0m",
      "\u001b[1;31mMySQLInterfaceError\u001b[0m                       Traceback (most recent call last)",
      "File \u001b[1;32m~\\anaconda3\\Lib\\site-packages\\mysql\\connector\\connection_cext.py:633\u001b[0m, in \u001b[0;36mCMySQLConnection.cmd_query\u001b[1;34m(self, query, raw, buffered, raw_as_string)\u001b[0m\n\u001b[0;32m    632\u001b[0m         query \u001b[38;5;241m=\u001b[39m query\u001b[38;5;241m.\u001b[39mencode(\u001b[38;5;124m\"\u001b[39m\u001b[38;5;124mutf-8\u001b[39m\u001b[38;5;124m\"\u001b[39m)\n\u001b[1;32m--> 633\u001b[0m     \u001b[38;5;28mself\u001b[39m\u001b[38;5;241m.\u001b[39m_cmysql\u001b[38;5;241m.\u001b[39mquery(\n\u001b[0;32m    634\u001b[0m         query,\n\u001b[0;32m    635\u001b[0m         raw\u001b[38;5;241m=\u001b[39mraw,\n\u001b[0;32m    636\u001b[0m         buffered\u001b[38;5;241m=\u001b[39mbuffered,\n\u001b[0;32m    637\u001b[0m         raw_as_string\u001b[38;5;241m=\u001b[39mraw_as_string,\n\u001b[0;32m    638\u001b[0m         query_attrs\u001b[38;5;241m=\u001b[39m\u001b[38;5;28mself\u001b[39m\u001b[38;5;241m.\u001b[39mquery_attrs,\n\u001b[0;32m    639\u001b[0m     )\n\u001b[0;32m    640\u001b[0m \u001b[38;5;28;01mexcept\u001b[39;00m MySQLInterfaceError \u001b[38;5;28;01mas\u001b[39;00m err:\n",
      "\u001b[1;31mMySQLInterfaceError\u001b[0m: Table 'purchases' already exists",
      "\nThe above exception was the direct cause of the following exception:\n",
      "\u001b[1;31mProgrammingError\u001b[0m                          Traceback (most recent call last)",
      "Cell \u001b[1;32mIn[25], line 4\u001b[0m\n\u001b[0;32m      1\u001b[0m Ptable\u001b[38;5;241m=\u001b[39m\u001b[38;5;124m'''\u001b[39m\n\u001b[0;32m      2\u001b[0m \u001b[38;5;124mcreate table Purchases(id int PRIMARY KEY,pquantity int)\u001b[39m\n\u001b[0;32m      3\u001b[0m \u001b[38;5;124m'''\u001b[39m\n\u001b[1;32m----> 4\u001b[0m curs\u001b[38;5;241m.\u001b[39mexecute(Ptable)\n",
      "File \u001b[1;32m~\\anaconda3\\Lib\\site-packages\\mysql\\connector\\cursor_cext.py:330\u001b[0m, in \u001b[0;36mCMySQLCursor.execute\u001b[1;34m(self, operation, params, multi)\u001b[0m\n\u001b[0;32m    325\u001b[0m             \u001b[38;5;28;01mraise\u001b[39;00m ProgrammingError(\n\u001b[0;32m    326\u001b[0m                 \u001b[38;5;124m\"\u001b[39m\u001b[38;5;124mNot all parameters were used in the SQL statement\u001b[39m\u001b[38;5;124m\"\u001b[39m\n\u001b[0;32m    327\u001b[0m             )\n\u001b[0;32m    329\u001b[0m \u001b[38;5;28;01mtry\u001b[39;00m:\n\u001b[1;32m--> 330\u001b[0m     result \u001b[38;5;241m=\u001b[39m \u001b[38;5;28mself\u001b[39m\u001b[38;5;241m.\u001b[39m_cnx\u001b[38;5;241m.\u001b[39mcmd_query(\n\u001b[0;32m    331\u001b[0m         stmt,\n\u001b[0;32m    332\u001b[0m         raw\u001b[38;5;241m=\u001b[39m\u001b[38;5;28mself\u001b[39m\u001b[38;5;241m.\u001b[39m_raw,\n\u001b[0;32m    333\u001b[0m         buffered\u001b[38;5;241m=\u001b[39m\u001b[38;5;28mself\u001b[39m\u001b[38;5;241m.\u001b[39m_buffered,\n\u001b[0;32m    334\u001b[0m         raw_as_string\u001b[38;5;241m=\u001b[39m\u001b[38;5;28mself\u001b[39m\u001b[38;5;241m.\u001b[39m_raw_as_string,\n\u001b[0;32m    335\u001b[0m     )\n\u001b[0;32m    336\u001b[0m \u001b[38;5;28;01mexcept\u001b[39;00m MySQLInterfaceError \u001b[38;5;28;01mas\u001b[39;00m err:\n\u001b[0;32m    337\u001b[0m     \u001b[38;5;28;01mraise\u001b[39;00m get_mysql_exception(\n\u001b[0;32m    338\u001b[0m         msg\u001b[38;5;241m=\u001b[39merr\u001b[38;5;241m.\u001b[39mmsg, errno\u001b[38;5;241m=\u001b[39merr\u001b[38;5;241m.\u001b[39merrno, sqlstate\u001b[38;5;241m=\u001b[39merr\u001b[38;5;241m.\u001b[39msqlstate\n\u001b[0;32m    339\u001b[0m     ) \u001b[38;5;28;01mfrom\u001b[39;00m \u001b[38;5;21;01merr\u001b[39;00m\n",
      "File \u001b[1;32m~\\anaconda3\\Lib\\site-packages\\mysql\\connector\\opentelemetry\\context_propagation.py:77\u001b[0m, in \u001b[0;36mwith_context_propagation.<locals>.wrapper\u001b[1;34m(cnx, *args, **kwargs)\u001b[0m\n\u001b[0;32m     75\u001b[0m \u001b[38;5;250m\u001b[39m\u001b[38;5;124;03m\"\"\"Context propagation decorator.\"\"\"\u001b[39;00m\n\u001b[0;32m     76\u001b[0m \u001b[38;5;28;01mif\u001b[39;00m \u001b[38;5;129;01mnot\u001b[39;00m OTEL_ENABLED \u001b[38;5;129;01mor\u001b[39;00m \u001b[38;5;129;01mnot\u001b[39;00m cnx\u001b[38;5;241m.\u001b[39motel_context_propagation:\n\u001b[1;32m---> 77\u001b[0m     \u001b[38;5;28;01mreturn\u001b[39;00m method(cnx, \u001b[38;5;241m*\u001b[39margs, \u001b[38;5;241m*\u001b[39m\u001b[38;5;241m*\u001b[39mkwargs)\n\u001b[0;32m     79\u001b[0m current_span \u001b[38;5;241m=\u001b[39m trace\u001b[38;5;241m.\u001b[39mget_current_span()\n\u001b[0;32m     80\u001b[0m tp_header \u001b[38;5;241m=\u001b[39m \u001b[38;5;28;01mNone\u001b[39;00m\n",
      "File \u001b[1;32m~\\anaconda3\\Lib\\site-packages\\mysql\\connector\\connection_cext.py:641\u001b[0m, in \u001b[0;36mCMySQLConnection.cmd_query\u001b[1;34m(self, query, raw, buffered, raw_as_string)\u001b[0m\n\u001b[0;32m    633\u001b[0m     \u001b[38;5;28mself\u001b[39m\u001b[38;5;241m.\u001b[39m_cmysql\u001b[38;5;241m.\u001b[39mquery(\n\u001b[0;32m    634\u001b[0m         query,\n\u001b[0;32m    635\u001b[0m         raw\u001b[38;5;241m=\u001b[39mraw,\n\u001b[1;32m   (...)\u001b[0m\n\u001b[0;32m    638\u001b[0m         query_attrs\u001b[38;5;241m=\u001b[39m\u001b[38;5;28mself\u001b[39m\u001b[38;5;241m.\u001b[39mquery_attrs,\n\u001b[0;32m    639\u001b[0m     )\n\u001b[0;32m    640\u001b[0m \u001b[38;5;28;01mexcept\u001b[39;00m MySQLInterfaceError \u001b[38;5;28;01mas\u001b[39;00m err:\n\u001b[1;32m--> 641\u001b[0m     \u001b[38;5;28;01mraise\u001b[39;00m get_mysql_exception(\n\u001b[0;32m    642\u001b[0m         err\u001b[38;5;241m.\u001b[39merrno, msg\u001b[38;5;241m=\u001b[39merr\u001b[38;5;241m.\u001b[39mmsg, sqlstate\u001b[38;5;241m=\u001b[39merr\u001b[38;5;241m.\u001b[39msqlstate\n\u001b[0;32m    643\u001b[0m     ) \u001b[38;5;28;01mfrom\u001b[39;00m \u001b[38;5;21;01merr\u001b[39;00m\n\u001b[0;32m    644\u001b[0m \u001b[38;5;28;01mexcept\u001b[39;00m \u001b[38;5;167;01mAttributeError\u001b[39;00m \u001b[38;5;28;01mas\u001b[39;00m err:\n\u001b[0;32m    645\u001b[0m     addr \u001b[38;5;241m=\u001b[39m (\n\u001b[0;32m    646\u001b[0m         \u001b[38;5;28mself\u001b[39m\u001b[38;5;241m.\u001b[39m_unix_socket \u001b[38;5;28;01mif\u001b[39;00m \u001b[38;5;28mself\u001b[39m\u001b[38;5;241m.\u001b[39m_unix_socket \u001b[38;5;28;01melse\u001b[39;00m \u001b[38;5;124mf\u001b[39m\u001b[38;5;124m\"\u001b[39m\u001b[38;5;132;01m{\u001b[39;00m\u001b[38;5;28mself\u001b[39m\u001b[38;5;241m.\u001b[39m_host\u001b[38;5;132;01m}\u001b[39;00m\u001b[38;5;124m:\u001b[39m\u001b[38;5;132;01m{\u001b[39;00m\u001b[38;5;28mself\u001b[39m\u001b[38;5;241m.\u001b[39m_port\u001b[38;5;132;01m}\u001b[39;00m\u001b[38;5;124m\"\u001b[39m\n\u001b[0;32m    647\u001b[0m     )\n",
      "\u001b[1;31mProgrammingError\u001b[0m: 1050 (42S01): Table 'purchases' already exists"
     ]
    }
   ],
   "source": [
    "Ptable='''\n",
    "create table Purchases(id int PRIMARY KEY,pquantity int)\n",
    "'''\n",
    "curs.execute(Ptable)"
   ]
  },
  {
   "cell_type": "code",
   "execution_count": 37,
   "id": "df093e3d",
   "metadata": {},
   "outputs": [
    {
     "name": "stdout",
     "output_type": "stream",
     "text": [
      "('inventory',)\n",
      "('purchases',)\n",
      "('sales',)\n"
     ]
    }
   ],
   "source": [
    "show='''\n",
    "show tables\n",
    "'''\n",
    "curs.execute(show)\n",
    "for i in curs:\n",
    "    print(i)"
   ]
  },
  {
   "cell_type": "code",
   "execution_count": 27,
   "id": "73223444",
   "metadata": {},
   "outputs": [],
   "source": [
    "Stable='''\n",
    "create table Sales(s_id int PRIMARY KEY,squantity int)\n",
    "'''\n",
    "curs.execute(Stable)"
   ]
  },
  {
   "cell_type": "code",
   "execution_count": 28,
   "id": "f6460494",
   "metadata": {},
   "outputs": [],
   "source": [
    "curs.execute(\"create table Inventory(p_id int PRIMARY KEY,quantity int)\")"
   ]
  },
  {
   "cell_type": "code",
   "execution_count": 29,
   "id": "38e8f8e9",
   "metadata": {},
   "outputs": [
    {
     "name": "stdout",
     "output_type": "stream",
     "text": [
      "('inventory',)\n",
      "('purchases',)\n",
      "('sales',)\n"
     ]
    }
   ],
   "source": [
    "show='''\n",
    "show tables\n",
    "'''\n",
    "curs.execute(show)\n",
    "for i in curs:\n",
    "    print(i)"
   ]
  },
  {
   "cell_type": "code",
   "execution_count": 39,
   "id": "8f926e57",
   "metadata": {},
   "outputs": [
    {
     "name": "stdout",
     "output_type": "stream",
     "text": [
      "1  rows are inserted\n"
     ]
    }
   ],
   "source": [
    "pur_insert=\"insert into Purchases(id,pquantity) values(1,6)\"\n",
    "#pur_value=(1,6)\n",
    "curs.execute(pur_insert)\n",
    "conn.commit()\n",
    "print(curs.rowcount,' rows are inserted')"
   ]
  },
  {
   "cell_type": "code",
   "execution_count": 40,
   "id": "27a3c5f7",
   "metadata": {},
   "outputs": [
    {
     "name": "stdout",
     "output_type": "stream",
     "text": [
      "1  rows are inserted\n"
     ]
    }
   ],
   "source": [
    "pur_insert=\"insert into Purchases(id,pquantity) values(2,5)\"\n",
    "curs.execute(pur_insert)\n",
    "conn.commit()\n",
    "print(curs.rowcount,' rows are inserted')"
   ]
  },
  {
   "cell_type": "code",
   "execution_count": 41,
   "id": "292e20b3",
   "metadata": {},
   "outputs": [
    {
     "name": "stdout",
     "output_type": "stream",
     "text": [
      "1  rows are inserted\n"
     ]
    }
   ],
   "source": [
    "pur_insert=\"insert into Purchases(id,pquantity) values(3,7)\"\n",
    "\n",
    "curs.execute(pur_insert)\n",
    "conn.commit()\n",
    "print(curs.rowcount,' rows are inserted')"
   ]
  },
  {
   "cell_type": "code",
   "execution_count": 43,
   "id": "99c9e43f",
   "metadata": {},
   "outputs": [
    {
     "name": "stdout",
     "output_type": "stream",
     "text": [
      "1  rows are inserted\n"
     ]
    }
   ],
   "source": [
    "sal_insert=\"insert into Sales(s_id,squantity) values(1,2)\"\n",
    "\n",
    "curs.execute(sal_insert)\n",
    "conn.commit()\n",
    "print(curs.rowcount,' rows are inserted')"
   ]
  },
  {
   "cell_type": "code",
   "execution_count": 51,
   "id": "7112a506",
   "metadata": {},
   "outputs": [
    {
     "name": "stdout",
     "output_type": "stream",
     "text": [
      "1  rows are inserted\n"
     ]
    }
   ],
   "source": [
    "sal_insert=\"insert into Sales(s_id,squantity) values(2,3)\"\n",
    "\n",
    "curs.execute(sal_insert)\n",
    "conn.commit()\n",
    "print(curs.rowcount,' rows are inserted')"
   ]
  },
  {
   "cell_type": "code",
   "execution_count": null,
   "id": "3eebc473",
   "metadata": {},
   "outputs": [],
   "source": [
    "inv_insert=\"insert into Inventory(p_id,quantity) values(1,10)\"\n",
    "\n",
    "curs.execute(inv_insert)\n",
    "conn.commit()\n",
    "print(curs.rowcount,' rows are inserted')"
   ]
  },
  {
   "cell_type": "code",
   "execution_count": 46,
   "id": "7467d78e",
   "metadata": {},
   "outputs": [
    {
     "name": "stdout",
     "output_type": "stream",
     "text": [
      "1  rows are inserted\n"
     ]
    }
   ],
   "source": [
    "inv_insert=\"insert into Inventory(p_id,quantity) values(2,15)\"\n",
    "\n",
    "curs.execute(inv_insert)\n",
    "conn.commit()\n",
    "print(curs.rowcount,' rows are inserted')"
   ]
  },
  {
   "cell_type": "code",
   "execution_count": 47,
   "id": "b262ddd8",
   "metadata": {},
   "outputs": [
    {
     "name": "stdout",
     "output_type": "stream",
     "text": [
      "1  rows are inserted\n"
     ]
    }
   ],
   "source": [
    "inv_insert=\"insert into Inventory(p_id,quantity) values(3,13)\"\n",
    "\n",
    "curs.execute(inv_insert)\n",
    "conn.commit()\n",
    "print(curs.rowcount,' rows are inserted')"
   ]
  },
  {
   "cell_type": "code",
   "execution_count": 48,
   "id": "c6494369",
   "metadata": {},
   "outputs": [
    {
     "name": "stdout",
     "output_type": "stream",
     "text": [
      "1  rows are inserted\n"
     ]
    }
   ],
   "source": [
    "inv_insert=\"insert into Inventory(p_id,quantity) values(4,16)\"\n",
    "\n",
    "curs.execute(inv_insert)\n",
    "conn.commit()\n",
    "print(curs.rowcount,' rows are inserted')"
   ]
  },
  {
   "cell_type": "code",
   "execution_count": 49,
   "id": "437912c5",
   "metadata": {},
   "outputs": [
    {
     "name": "stdout",
     "output_type": "stream",
     "text": [
      "(1, 6)\n",
      "(2, 5)\n",
      "(3, 7)\n"
     ]
    }
   ],
   "source": [
    "curs.execute(\"select * from Purchases\")\n",
    "for i in curs:\n",
    "    print(i)\n",
    "    "
   ]
  },
  {
   "cell_type": "code",
   "execution_count": 52,
   "id": "52890528",
   "metadata": {},
   "outputs": [
    {
     "name": "stdout",
     "output_type": "stream",
     "text": [
      "(1, 2)\n",
      "(2, 3)\n"
     ]
    }
   ],
   "source": [
    "curs.execute(\"select * from Sales\")\n",
    "for i in curs:\n",
    "    print(i)\n",
    "    "
   ]
  },
  {
   "cell_type": "code",
   "execution_count": 53,
   "id": "491d44df",
   "metadata": {},
   "outputs": [
    {
     "name": "stdout",
     "output_type": "stream",
     "text": [
      "(1, 10)\n",
      "(2, 15)\n",
      "(3, 13)\n",
      "(4, 16)\n"
     ]
    }
   ],
   "source": [
    "curs.execute(\"select * from Inventory\")\n",
    "for i in curs:\n",
    "    print(i)\n",
    "    "
   ]
  },
  {
   "cell_type": "code",
   "execution_count": 68,
   "id": "d7fc5453",
   "metadata": {},
   "outputs": [
    {
     "name": "stdout",
     "output_type": "stream",
     "text": [
      "Quantity in inventory should be  16  after the purchases\n",
      "Quantity in inventory should be  20  after the purchases\n",
      "Quantity in inventory should be  20  after the purchases\n"
     ]
    }
   ],
   "source": [
    "sql=\"select i.quantity,p.pquantity from Inventory i join Purchases p on i.p_id=p.id\"\n",
    "curs.execute(sql)\n",
    "a=curs.fetchall()\n",
    "for i in a:\n",
    "    d=sum(i)\n",
    "    print(\"Quantity in inventory should be \",d,\" after the purchases\")"
   ]
  },
  {
   "cell_type": "code",
   "execution_count": 69,
   "id": "56939e08",
   "metadata": {},
   "outputs": [
    {
     "name": "stdout",
     "output_type": "stream",
     "text": [
      "Quantity in inventory should be  8  after the purchases\n",
      "Quantity in inventory should be  12  after the purchases\n"
     ]
    }
   ],
   "source": [
    "sql=\"select i.quantity,s.squantity from Inventory i join Sales s on i.p_id=s.s_id\"\n",
    "curs.execute(sql)\n",
    "a=curs.fetchall()\n",
    "for i in a:\n",
    "    d=i[0]-i[1]\n",
    "    print(\"Quantity in inventory should be \",d,\" after the Sales\")"
   ]
  },
  {
   "cell_type": "markdown",
   "id": "d492ce54",
   "metadata": {},
   "source": [
    "# 2.Customer order processing"
   ]
  },
  {
   "cell_type": "code",
   "execution_count": 72,
   "id": "9dd4c509",
   "metadata": {},
   "outputs": [
    {
     "name": "stdout",
     "output_type": "stream",
     "text": [
      "<mysql.connector.connection_cext.CMySQLConnection object at 0x00000148837D6090>\n",
      "CMySQLCursor: (Nothing executed yet)\n"
     ]
    },
    {
     "data": {
      "text/plain": [
       "<mysql.connector.cursor_cext.CMySQLCursor at 0x148835c1010>"
      ]
     },
     "execution_count": 72,
     "metadata": {},
     "output_type": "execute_result"
    }
   ],
   "source": [
    "import mysql.connector\n",
    "\n",
    "conn=mysql.connector.connect(user='root',\n",
    "                            password='Password@123',\n",
    "                            host='127.0.0.1',\n",
    "                            database='mla')\n",
    "\n",
    "print(conn)\n",
    "\n",
    "curs=conn.cursor()\n",
    "print(curs)\n",
    "\n",
    "curs"
   ]
  },
  {
   "cell_type": "code",
   "execution_count": 75,
   "id": "c1dd9bc6",
   "metadata": {},
   "outputs": [],
   "source": [
    "stable='''\n",
    "create table customer (c_id int PRIMARY KEY,name varchar(10))\n",
    "'''\n",
    "curs.execute(stable)"
   ]
  },
  {
   "cell_type": "code",
   "execution_count": 76,
   "id": "81606384",
   "metadata": {},
   "outputs": [],
   "source": [
    "curs.execute(\"create table product(p_id int PRIMARY KEY,quantity int,price int)\")"
   ]
  },
  {
   "cell_type": "code",
   "execution_count": 81,
   "id": "a988ae1f",
   "metadata": {},
   "outputs": [],
   "source": [
    "stable='''\n",
    "create table orders (o_id int,p_id int,c_id int,quantity int)\n",
    "'''\n",
    "\n",
    "curs.execute(stable)"
   ]
  },
  {
   "cell_type": "code",
   "execution_count": 82,
   "id": "d3ca87e6",
   "metadata": {},
   "outputs": [
    {
     "name": "stdout",
     "output_type": "stream",
     "text": [
      "1  rows are inserted\n"
     ]
    }
   ],
   "source": [
    "cus_insert=\"insert into customer(c_id,name) values(101,'Tom')\"\n",
    "\n",
    "curs.execute(cus_insert)\n",
    "conn.commit()\n",
    "print(curs.rowcount,' rows are inserted')"
   ]
  },
  {
   "cell_type": "code",
   "execution_count": 83,
   "id": "4e750123",
   "metadata": {},
   "outputs": [
    {
     "name": "stdout",
     "output_type": "stream",
     "text": [
      "1  rows are inserted\n"
     ]
    }
   ],
   "source": [
    "pro_insert=\"insert into product(p_id,quantity,price) values(201,10,1000)\"\n",
    "\n",
    "curs.execute(pro_insert)\n",
    "conn.commit()\n",
    "print(curs.rowcount,' rows are inserted')"
   ]
  },
  {
   "cell_type": "code",
   "execution_count": 84,
   "id": "122a265d",
   "metadata": {},
   "outputs": [
    {
     "name": "stdout",
     "output_type": "stream",
     "text": [
      "1  rows are inserted\n",
      "1  rows are inserted\n",
      "1  rows are inserted\n",
      "1  rows are inserted\n",
      "1  rows are inserted\n",
      "1  rows are inserted\n",
      "1  rows are inserted\n"
     ]
    }
   ],
   "source": [
    "pro_insert=\"insert into product(p_id,quantity,price) values(202,11,150)\"\n",
    "\n",
    "curs.execute(pro_insert)\n",
    "conn.commit()\n",
    "print(curs.rowcount,' rows are inserted')\n",
    "\n",
    "pro_insert=\"insert into product(p_id,quantity,price) values(203,15,2000)\"\n",
    "\n",
    "curs.execute(pro_insert)\n",
    "conn.commit()\n",
    "print(curs.rowcount,' rows are inserted')\n",
    "\n",
    "pro_insert=\"insert into product(p_id,quantity,price) values(204,13,60)\"\n",
    "\n",
    "curs.execute(pro_insert)\n",
    "conn.commit()\n",
    "print(curs.rowcount,' rows are inserted')\n",
    "\n",
    "pro_insert=\"insert into product(p_id,quantity,price) values(205,20,1500)\"\n",
    "\n",
    "curs.execute(pro_insert)\n",
    "conn.commit()\n",
    "print(curs.rowcount,' rows are inserted')\n",
    "\n",
    "pro_insert=\"insert into product(p_id,quantity,price) values(206,8,100)\"\n",
    "\n",
    "curs.execute(pro_insert)\n",
    "conn.commit()\n",
    "print(curs.rowcount,' rows are inserted')\n",
    "\n",
    "pro_insert=\"insert into product(p_id,quantity,price) values(207,16,800)\"\n",
    "\n",
    "curs.execute(pro_insert)\n",
    "conn.commit()\n",
    "print(curs.rowcount,' rows are inserted')\n",
    "\n",
    "pro_insert=\"insert into product(p_id,quantity,price) values(208,10,240)\"\n",
    "\n",
    "curs.execute(pro_insert)\n",
    "conn.commit()\n",
    "print(curs.rowcount,' rows are inserted')"
   ]
  },
  {
   "cell_type": "code",
   "execution_count": 87,
   "id": "54cc7180",
   "metadata": {},
   "outputs": [
    {
     "name": "stdout",
     "output_type": "stream",
     "text": [
      "1  rows are inserted\n"
     ]
    }
   ],
   "source": [
    "ord_insert=\"insert into orders(o_id,p_id,c_id,quantity) values(1,206,101,4)\"\n",
    "\n",
    "curs.execute(ord_insert)\n",
    "conn.commit()\n",
    "print(curs.rowcount,' rows are inserted')"
   ]
  },
  {
   "cell_type": "code",
   "execution_count": 89,
   "id": "a65ffe25",
   "metadata": {},
   "outputs": [
    {
     "name": "stdout",
     "output_type": "stream",
     "text": [
      "1  rows are inserted\n"
     ]
    }
   ],
   "source": [
    "ord_insert=\"insert into orders(o_id,p_id,c_id,quantity) values(2,208,101,1)\"\n",
    "\n",
    "curs.execute(ord_insert)\n",
    "conn.commit()\n",
    "print(curs.rowcount,' rows are inserted')"
   ]
  },
  {
   "cell_type": "code",
   "execution_count": 90,
   "id": "5b4469b4",
   "metadata": {},
   "outputs": [
    {
     "name": "stdout",
     "output_type": "stream",
     "text": [
      "1  rows are inserted\n"
     ]
    }
   ],
   "source": [
    "ord_insert=\"insert into orders(o_id,p_id,c_id,quantity) values(3,203,101,5)\"\n",
    "\n",
    "curs.execute(ord_insert)\n",
    "conn.commit()\n",
    "print(curs.rowcount,' rows are inserted')"
   ]
  },
  {
   "cell_type": "code",
   "execution_count": 94,
   "id": "d8c96042",
   "metadata": {},
   "outputs": [
    {
     "name": "stdout",
     "output_type": "stream",
     "text": [
      "(1, 206, 101, 4, 206, 8, 100)\n",
      "(2, 208, 101, 1, 208, 10, 240)\n",
      "(3, 203, 101, 5, 203, 15, 2000)\n"
     ]
    }
   ],
   "source": [
    "#just a join statement\n",
    "sql=\"select * from orders o join product p on o.p_id=p.p_id\"\n",
    "curs.execute(sql)\n",
    "a=curs.fetchall()\n",
    "for i in a:\n",
    "    print(i)"
   ]
  },
  {
   "cell_type": "code",
   "execution_count": 95,
   "id": "7e0fea85",
   "metadata": {},
   "outputs": [
    {
     "name": "stdout",
     "output_type": "stream",
     "text": [
      "(Decimal('10640'),)\n"
     ]
    }
   ],
   "source": [
    "#calculate total cost\n",
    "sql=\"select sum(p.price*o.quantity) from orders o join product p where o.p_id=p.p_id\"\n",
    "curs.execute(sql)\n",
    "a=curs.fetchall()\n",
    "for i in a:\n",
    "    print(i)"
   ]
  },
  {
   "cell_type": "code",
   "execution_count": 97,
   "id": "28481ee1",
   "metadata": {},
   "outputs": [
    {
     "name": "stdout",
     "output_type": "stream",
     "text": [
      "3 row updated\n"
     ]
    }
   ],
   "source": [
    "#update quantity in product\n",
    "sql=\"update product p, orders o set p.quantity=p.quantity-o.quantity where p.p_id=o.p_id \"\n",
    "curs.execute(sql)\n",
    "conn.commit()\n",
    "print(curs.rowcount,\"row updated\")"
   ]
  },
  {
   "cell_type": "code",
   "execution_count": 99,
   "id": "97ab06db",
   "metadata": {},
   "outputs": [
    {
     "name": "stdout",
     "output_type": "stream",
     "text": [
      "purchase poosible\n",
      "purchase poosible\n",
      "purchase poosible\n"
     ]
    }
   ],
   "source": [
    "#handle out of stock cases\n",
    "sql=\"select p.quantity, o.quantity from orders o join product p on o.p_id=p.p_id\"\n",
    "curs.execute(sql)\n",
    "a=curs.fetchall()\n",
    "for i in a:\n",
    "    if i[0]<i[1]:\n",
    "        print(\"Item not available\")\n",
    "    else:\n",
    "        print('purchase possible')"
   ]
  },
  {
   "cell_type": "code",
   "execution_count": 108,
   "id": "ab3584ee",
   "metadata": {},
   "outputs": [
    {
     "name": "stdout",
     "output_type": "stream",
     "text": [
      "(101, 'Tom', 206, 400)\n",
      "(101, 'Tom', 208, 240)\n",
      "(101, 'Tom', 203, 10000)\n"
     ]
    }
   ],
   "source": [
    "#order report\n",
    "def order_report():\n",
    "    sql=\"select c.c_id, c.name, o.p_id, p.price*o.quantity  from orders o, customer c join product p where o.p_id=p.p_id and  c.c_id=o.c_id\"\n",
    "    curs.execute(sql)\n",
    "    a=curs.fetchall()\n",
    "    for i in a:\n",
    "        print(i)\n",
    "order_report()"
   ]
  },
  {
   "cell_type": "markdown",
   "id": "16c04188",
   "metadata": {},
   "source": [
    "# 3.You are tasked to developing a python program that connects to mysql database.\n",
    "retrieves data from them and perform certsin tasks"
   ]
  },
  {
   "cell_type": "code",
   "execution_count": 109,
   "id": "246b4b24",
   "metadata": {},
   "outputs": [
    {
     "name": "stdout",
     "output_type": "stream",
     "text": [
      "CMySQLCursor: (Nothing executed yet)\n"
     ]
    },
    {
     "data": {
      "text/plain": [
       "<mysql.connector.cursor_cext.CMySQLCursor at 0x148836e2190>"
      ]
     },
     "execution_count": 109,
     "metadata": {},
     "output_type": "execute_result"
    }
   ],
   "source": [
    "import mysql.connector\n",
    "\n",
    "conn=mysql.connector.connect(user='root',\n",
    "                            password='Password@123',\n",
    "                            host='127.0.0.1',\n",
    "                            database='mla')\n",
    "\n",
    "\n",
    "\n",
    "curs=conn.cursor()\n",
    "print(curs)\n",
    "\n",
    "curs"
   ]
  },
  {
   "cell_type": "code",
   "execution_count": 110,
   "id": "d18daa16",
   "metadata": {},
   "outputs": [],
   "source": [
    "curs.execute(\"create table your_table(id int,name varchar(10),quantity int)\")"
   ]
  },
  {
   "cell_type": "code",
   "execution_count": 114,
   "id": "4395219c",
   "metadata": {},
   "outputs": [
    {
     "name": "stdout",
     "output_type": "stream",
     "text": [
      "1  rows inserted\n",
      "1  rows inserted\n",
      "1  rows inserted\n"
     ]
    }
   ],
   "source": [
    "sys=\"insert into your_table (id,name,quantity) values(1,'tom',45)\"\n",
    "\n",
    "curs.execute(sys)\n",
    "conn.commit()\n",
    "print(curs.rowcount,\" rows inserted\")\n",
    "\n",
    "sys=\"insert into your_table(id,name,quantity) values(2,'jos',32)\"\n",
    "\n",
    "curs.execute(sys)\n",
    "conn.commit()\n",
    "print(curs.rowcount,\" rows inserted\")\n",
    "\n",
    "sys=\"insert into your_table(id,name,quantity) values(3,'abhi',23)\"\n",
    "\n",
    "curs.execute(sys)\n",
    "conn.commit()\n",
    "print(curs.rowcount,\" rows inserted\")"
   ]
  },
  {
   "cell_type": "code",
   "execution_count": 115,
   "id": "ea72f280",
   "metadata": {},
   "outputs": [
    {
     "name": "stdout",
     "output_type": "stream",
     "text": [
      "(1, 'tom', 45)\n",
      "(2, 'jos', 32)\n",
      "(3, 'abhi', 23)\n"
     ]
    }
   ],
   "source": [
    "sql=\"select * from your_table\"             #fetching table data\n",
    "curs.execute(sql)\n",
    "a=curs.fetchall()\n",
    "for i in a:\n",
    "    print(i)"
   ]
  },
  {
   "cell_type": "code",
   "execution_count": 116,
   "id": "1729507a",
   "metadata": {},
   "outputs": [
    {
     "name": "stdout",
     "output_type": "stream",
     "text": [
      "(Decimal('100'),)\n"
     ]
    }
   ],
   "source": [
    "sql=\"select sum(quantity) from your_table\"       #total quantity\n",
    "curs.execute(sql)\n",
    "a=curs.fetchall()\n",
    "for i in a:\n",
    "    print(i)"
   ]
  },
  {
   "cell_type": "code",
   "execution_count": 117,
   "id": "572bf7d4",
   "metadata": {},
   "outputs": [
    {
     "name": "stdout",
     "output_type": "stream",
     "text": [
      "3 row updated\n"
     ]
    }
   ],
   "source": [
    "sql=\"update your_table set quantity=quantity*2  \"   #updating quantity\n",
    "curs.execute(sql)\n",
    "conn.commit()                                       #commit changes\n",
    "print(curs.rowcount,\"row updated\")"
   ]
  },
  {
   "cell_type": "code",
   "execution_count": 118,
   "id": "887b491a",
   "metadata": {},
   "outputs": [],
   "source": [
    "conn.close()                                        #close"
   ]
  },
  {
   "cell_type": "code",
   "execution_count": null,
   "id": "1f66b028",
   "metadata": {},
   "outputs": [],
   "source": [
    "'''import mysql.connector\n",
    "try:\n",
    "    conn=mysql.connector.connect(user='root',\n",
    "                            password='Password@123',\n",
    "                            host='127.0.0.1',\n",
    "                            database='mla')\n",
    "    curs=conn.cursor()\n",
    "    print(conn)\n",
    "except:\n",
    "    '''"
   ]
  },
  {
   "cell_type": "markdown",
   "id": "b6705c1b",
   "metadata": {},
   "source": [
    "# 4.You are manging a Employee management system for your company.\n",
    "Perform the required tasks"
   ]
  },
  {
   "cell_type": "code",
   "execution_count": 140,
   "id": "2f40ec04",
   "metadata": {},
   "outputs": [
    {
     "name": "stdout",
     "output_type": "stream",
     "text": [
      "<mysql.connector.connection_cext.CMySQLConnection object at 0x0000014883D6E190>\n"
     ]
    },
    {
     "data": {
      "text/plain": [
       "<mysql.connector.cursor_cext.CMySQLCursor at 0x1488384c5d0>"
      ]
     },
     "execution_count": 140,
     "metadata": {},
     "output_type": "execute_result"
    }
   ],
   "source": [
    "import mysql.connector\n",
    "\n",
    "conn=mysql.connector.connect(user='root',\n",
    "                            password='Password@123',\n",
    "                            host='127.0.0.1',\n",
    "                            database='mla')\n",
    "curs=conn.cursor()\n",
    "print(conn)\n",
    "curs"
   ]
  },
  {
   "cell_type": "code",
   "execution_count": 141,
   "id": "4826bdac",
   "metadata": {},
   "outputs": [],
   "source": [
    "curs.execute(\"create table employee(name varchar(10),salary int,dept varchar(10),hiredate date)\")"
   ]
  },
  {
   "cell_type": "code",
   "execution_count": 142,
   "id": "ecb6d2db",
   "metadata": {},
   "outputs": [
    {
     "name": "stdout",
     "output_type": "stream",
     "text": [
      "1  rows inserted\n"
     ]
    }
   ],
   "source": [
    "sys=\"insert into employee (name,salary, dept,hiredate) values('tom',4500,'dev','2003-06-12')\"\n",
    "\n",
    "curs.execute(sys)\n",
    "conn.commit()\n",
    "print(curs.rowcount,\" rows inserted\")\n"
   ]
  },
  {
   "cell_type": "code",
   "execution_count": 143,
   "id": "36c3e74a",
   "metadata": {},
   "outputs": [
    {
     "name": "stdout",
     "output_type": "stream",
     "text": [
      "1  rows inserted\n",
      "1  rows inserted\n",
      "1  rows inserted\n",
      "1  rows inserted\n"
     ]
    }
   ],
   "source": [
    "sys=\"insert into employee (name,salary, dept,hiredate) values('jon',5500,'test','2005-04-12')\"\n",
    "\n",
    "curs.execute(sys)\n",
    "conn.commit()\n",
    "print(curs.rowcount,\" rows inserted\")\n",
    "sys=\"insert into employee (name,salary, dept,hiredate) values('jos',6500,'idea','2010-07-02')\"\n",
    "\n",
    "curs.execute(sys)\n",
    "conn.commit()\n",
    "print(curs.rowcount,\" rows inserted\")\n",
    "sys=\"insert into employee (name,salary, dept,hiredate) values('isi',4000,'dev','2002-07-22')\"\n",
    "\n",
    "curs.execute(sys)\n",
    "conn.commit()\n",
    "print(curs.rowcount,\" rows inserted\")\n",
    "sys=\"insert into employee (name,salary, dept,hiredate) values('tom',5400,'test','2009-04-08')\"\n",
    "\n",
    "curs.execute(sys)\n",
    "conn.commit()\n",
    "print(curs.rowcount,\" rows inserted\")"
   ]
  },
  {
   "cell_type": "code",
   "execution_count": 144,
   "id": "ef1983c9",
   "metadata": {},
   "outputs": [
    {
     "name": "stdout",
     "output_type": "stream",
     "text": [
      "('tom', 4500, 'dev', datetime.date(2003, 6, 12))\n",
      "('jon', 5500, 'test', datetime.date(2005, 4, 12))\n",
      "('jos', 6500, 'idea', datetime.date(2010, 7, 2))\n",
      "('isi', 4000, 'dev', datetime.date(2002, 7, 22))\n",
      "('tom', 5400, 'test', datetime.date(2009, 4, 8))\n"
     ]
    }
   ],
   "source": [
    "curs.execute(\"select * from employee\")\n",
    "a=curs.fetchall()\n",
    "for i in a:\n",
    "    print(i)"
   ]
  },
  {
   "cell_type": "code",
   "execution_count": 145,
   "id": "ee9ffecd",
   "metadata": {},
   "outputs": [
    {
     "name": "stdout",
     "output_type": "stream",
     "text": [
      "('tom', 4500, 'dev', datetime.date(2003, 6, 12))\n",
      "('isi', 4000, 'dev', datetime.date(2002, 7, 22))\n"
     ]
    }
   ],
   "source": [
    "#2.specific dept details\n",
    "curs.execute(\"select * from employee where dept='dev'\")\n",
    "a=curs.fetchall()\n",
    "for i in a:\n",
    "    print(i)"
   ]
  },
  {
   "cell_type": "code",
   "execution_count": 155,
   "id": "5daac238",
   "metadata": {},
   "outputs": [
    {
     "name": "stdout",
     "output_type": "stream",
     "text": [
      "5 row updated\n"
     ]
    }
   ],
   "source": [
    "#3.salary increment\n",
    "sql=\"update employee set salary=salary+(current_date()-hiredate)/100 \"\n",
    "curs.execute(sql)\n",
    "conn.commit()                                       \n",
    "print(curs.rowcount,\"row updated\")"
   ]
  },
  {
   "cell_type": "code",
   "execution_count": 156,
   "id": "917502a7",
   "metadata": {},
   "outputs": [
    {
     "name": "stdout",
     "output_type": "stream",
     "text": [
      "('tom', 6503, 'dev', datetime.date(2003, 6, 12))\n",
      "('jon', 7305, 'test', datetime.date(2005, 4, 12))\n",
      "('jos', 7802, 'idea', datetime.date(2010, 7, 2))\n",
      "('isi', 6102, 'dev', datetime.date(2002, 7, 22))\n",
      "('tom', 6805, 'test', datetime.date(2009, 4, 8))\n"
     ]
    }
   ],
   "source": [
    "curs.execute(\"select * from employee\")\n",
    "a=curs.fetchall()\n",
    "for i in a:\n",
    "    print(i)"
   ]
  }
 ],
 "metadata": {
  "kernelspec": {
   "display_name": "Python 3 (ipykernel)",
   "language": "python",
   "name": "python3"
  },
  "language_info": {
   "codemirror_mode": {
    "name": "ipython",
    "version": 3
   },
   "file_extension": ".py",
   "mimetype": "text/x-python",
   "name": "python",
   "nbconvert_exporter": "python",
   "pygments_lexer": "ipython3",
   "version": "3.11.4"
  }
 },
 "nbformat": 4,
 "nbformat_minor": 5
}
