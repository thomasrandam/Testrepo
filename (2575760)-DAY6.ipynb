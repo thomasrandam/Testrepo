{
 "cells": [
  {
   "cell_type": "markdown",
   "id": "31394870",
   "metadata": {},
   "source": [
    "# DAY 6 practice exercises"
   ]
  },
  {
   "cell_type": "markdown",
   "id": "40313280",
   "metadata": {},
   "source": [
    "# ps1"
   ]
  },
  {
   "cell_type": "code",
   "execution_count": 118,
   "id": "e2c3706c",
   "metadata": {},
   "outputs": [],
   "source": [
    "import math\n",
    "class Shape:\n",
    "    def option(self):\n",
    "        print(\"lets find area\")\n",
    "    \n",
    "    "
   ]
  },
  {
   "cell_type": "code",
   "execution_count": 122,
   "id": "f5f749aa",
   "metadata": {},
   "outputs": [
    {
     "name": "stdout",
     "output_type": "stream",
     "text": [
      "you have a circle\n"
     ]
    }
   ],
   "source": [
    "class Circle(Shape):\n",
    "    print('you have a circle')\n",
    "    def area(self,radius):\n",
    "        self.radius=radius\n",
    "        self.peri=2*3.14*self.radius\n",
    "        self.area=3.14*self.radius*self.radius\n",
    "        return self.area,self.peri"
   ]
  },
  {
   "cell_type": "code",
   "execution_count": 124,
   "id": "3e194b49",
   "metadata": {},
   "outputs": [
    {
     "name": "stdout",
     "output_type": "stream",
     "text": [
      "you have a rectangle\n"
     ]
    }
   ],
   "source": [
    "class Rectangle(Shape):\n",
    "    print('you have a rectangle')\n",
    "    def area(self,length,breadth):\n",
    "        self.length=length\n",
    "        self.breadth=breadth\n",
    "        return self.length*self.breadth,self.length+self.breadth"
   ]
  },
  {
   "cell_type": "code",
   "execution_count": 125,
   "id": "c5de4075",
   "metadata": {},
   "outputs": [
    {
     "name": "stdout",
     "output_type": "stream",
     "text": [
      "lets find area\n",
      "(50.24, 25.12)\n",
      "lets find area\n",
      "(12, 7)\n"
     ]
    }
   ],
   "source": [
    "C=Circle()\n",
    "C.option()\n",
    "print(C.area(4))\n",
    "B=Rectangle()\n",
    "B.option()\n",
    "print(B.area(3,4))"
   ]
  },
  {
   "cell_type": "markdown",
   "id": "4958054b",
   "metadata": {},
   "source": [
    "# ps1(second question)"
   ]
  },
  {
   "cell_type": "code",
   "execution_count": 215,
   "id": "f6830ced",
   "metadata": {},
   "outputs": [
    {
     "name": "stdout",
     "output_type": "stream",
     "text": [
      "Welcome to quiz\n",
      "enter user nameom\n",
      "New Delhi is capital on India\n",
      "y\n",
      "Modi is the PM\n",
      "y\n",
      "Peacock is national bird\n",
      "y\n",
      "Lion is national animal\n",
      "y\n",
      "your response ['y', 'y', 'y', 'y']\n",
      "score is 3\n",
      "{'om': 3}\n"
     ]
    }
   ],
   "source": [
    "class quiz:\n",
    "    print('Welcome to quiz')\n",
    "    def __init__(self,name=input('enter user name')):\n",
    "        self.name=name\n",
    "class question(quiz):\n",
    "    def ques(self):\n",
    "        self.que={}\n",
    "        self.ans=[]\n",
    "        self.score=0\n",
    "        self.que={\"New Delhi is capital on India\":\"y\",\n",
    "                  \"Modi is the PM\":'y',\n",
    "                  \"Peacock is national bird\":'y',\n",
    "                  \"Lion is national animal\":'n'}\n",
    "        for k in self.que:\n",
    "            print(k)\n",
    "            self.an=input()\n",
    "            self.ans.append(self.an)\n",
    "        print('your response',self.ans)\n",
    "    \n",
    "        self.i=0\n",
    "        self.scr=0\n",
    "        \n",
    "        for v in self.que:\n",
    "            if self.que[v]==self.ans[self.i]:\n",
    "                self.scr+=1\n",
    "            self.i+=1\n",
    "                \n",
    "        print('score is',self.scr)   \n",
    "\n",
    "    def history(self):\n",
    "        \n",
    "        self.det={}\n",
    "        \n",
    "        self.det={self.name:self.scr}\n",
    "            \n",
    "        print(self.det)        \n",
    "Q=question()\n",
    "Q.ques()\n",
    "Q.history()"
   ]
  },
  {
   "cell_type": "markdown",
   "id": "f6c687da",
   "metadata": {},
   "source": [
    "# ps2"
   ]
  },
  {
   "cell_type": "code",
   "execution_count": 216,
   "id": "51f3a622",
   "metadata": {},
   "outputs": [
    {
     "name": "stdout",
     "output_type": "stream",
     "text": [
      "nameom\n",
      "age23\n",
      "**********\n"
     ]
    },
    {
     "data": {
      "text/plain": [
       "' eligible'"
      ]
     },
     "execution_count": 216,
     "metadata": {},
     "output_type": "execute_result"
    }
   ],
   "source": [
    "class Person:\n",
    "    \n",
    "    def __init__(self,name=input('name'),age=int(input('age'))):\n",
    "        self.name=name\n",
    "        self.age=age\n",
    "    def get_age(self):\n",
    "        if self.age>=18:\n",
    "            \n",
    "            return ' eligible'\n",
    "        else:\n",
    "            return\"not eligible\"\n",
    "print('**********')\n",
    "p=Person()\n",
    "\n",
    "p.get_age()"
   ]
  },
  {
   "cell_type": "markdown",
   "id": "c589363e",
   "metadata": {},
   "source": [
    "# ps3"
   ]
  },
  {
   "cell_type": "code",
   "execution_count": 223,
   "id": "3633a943",
   "metadata": {},
   "outputs": [
    {
     "name": "stdout",
     "output_type": "stream",
     "text": [
      "acc number12456\n",
      "acc holderm\n",
      "Balance543\n",
      "choose \n",
      " 1.deposit\n",
      " 2.withdraw3\n",
      "total balance after interest 575.58\n",
      "withdraw amount3423\n"
     ]
    },
    {
     "data": {
      "text/plain": [
       "'insufficient balance'"
      ]
     },
     "execution_count": 223,
     "metadata": {},
     "output_type": "execute_result"
    }
   ],
   "source": [
    "class BankAccount:\n",
    "    def __init__(self,account_number=int(input('acc number')),account_holder_name=input('acc holder'),bal=int(input('Balance'))):\n",
    "        self.__acno=account_number\n",
    "        self.__achdr=account_holder_name\n",
    "        self.bal=bal\n",
    "    c=int(input('choose \\n 1.deposit\\n 2.withdraw'))    \n",
    "    if c==1:\n",
    "        \n",
    "        def set_deposit(self,amnt=int(input('amount'))):\n",
    "            self.amnt=amnt\n",
    "            self.bal+=self.amnt\n",
    "    elif c==2:\n",
    "        \n",
    "        def set_withdraw(self,amnt=int(input('amount'))):\n",
    "            self.amnt=amnt\n",
    "            self.bal-=self.amnt\n",
    "class SavingsAccount(BankAccount):\n",
    "    \n",
    "        \n",
    "    def set_Calculate_Interest(self):\n",
    "        self.rate=6\n",
    "        self.bal+=self.bal*self.rate/100\n",
    "        print('total balance after interest',self.bal)\n",
    "class CheckingAccount(BankAccount):\n",
    "    def set_checking(self):\n",
    "        \n",
    "        self.amnt=int(input('withdraw amount'))\n",
    "        self.limit=1000\n",
    "        if self.amnt<self.bal:\n",
    "            if self.amnt<self.limit:\n",
    "                \n",
    "                self.bal-=self.amnt\n",
    "                return self.bal\n",
    "                \n",
    "            else:\n",
    "                \n",
    "                return 'above limit'\n",
    "        else:\n",
    "            return 'insufficient balance'\n",
    "\n",
    "s=SavingsAccount()\n",
    "s.set_Calculate_Interest()\n",
    "c=CheckingAccount()\n",
    "c.set_checking()           \n",
    "                 \n",
    "        \n",
    "        "
   ]
  },
  {
   "cell_type": "markdown",
   "id": "45d16baf",
   "metadata": {},
   "source": [
    "# ps4"
   ]
  },
  {
   "cell_type": "code",
   "execution_count": 192,
   "id": "691e69a4",
   "metadata": {},
   "outputs": [
    {
     "name": "stdout",
     "output_type": "stream",
     "text": [
      "employee name32\n",
      "employee id23\n",
      "salary1232\n",
      "**************\n",
      "salary for the year is 14784\n",
      "#####\n",
      "salary for the month is 20000\n"
     ]
    }
   ],
   "source": [
    "class Employee:\n",
    "    def __init__(self,name=input('employee name'),id=int(input('employee id')),salary=int(input('salary'))):\n",
    "        self.__name=name\n",
    "        self.__id=id\n",
    "        self.salary=salary\n",
    "print(\"**************\")\n",
    "class FullTime(Employee):\n",
    "    \n",
    "    def calculation(self,salary):\n",
    "        self.__salary=salary\n",
    "        self.annual_sal=self.__salary*12\n",
    "        print('salary for the year is {}'.format(self.annual_sal))\n",
    "    \n",
    "class PartTime(Employee):\n",
    "    \n",
    "    \n",
    "    def calculations(self,hours_worked):\n",
    "        \n",
    "        self.__hours=hours_worked\n",
    "        Employee.__salary=self.__hours*200\n",
    "        print('salary for the month is {}'.format(Employee.__salary))\n",
    "F=FullTime()\n",
    "F.calculation(F.salary)\n",
    "print('#####')\n",
    "P=PartTime()\n",
    "P.calculations(100)\n"
   ]
  },
  {
   "cell_type": "markdown",
   "id": "25623a6a",
   "metadata": {},
   "source": [
    "# ps5"
   ]
  },
  {
   "cell_type": "code",
   "execution_count": 49,
   "id": "ae621823",
   "metadata": {},
   "outputs": [
    {
     "name": "stdout",
     "output_type": "stream",
     "text": [
      "enter the book name \n",
      "enter author name \n",
      "enter genre \n",
      "date of borrow\n",
      "return succesfull\n",
      "\n",
      "please return\n",
      " None\n",
      "2023-09-20 14:48:10.703429\n",
      "fine=50\n"
     ]
    }
   ],
   "source": [
    "import datetime\n",
    "class Books:\n",
    "    def __init__(self,name=input('enter the book name ')):\n",
    "        self.__name=name\n",
    "    \n",
    "    def tell(self,author=input('enter author name '),genre=input('enter genre ')):\n",
    "        self.__author=author\n",
    "        self.__genre=genre\n",
    "class fiction(Books):\n",
    "    def get_tell(self):\n",
    "        return self.__author\n",
    "        \n",
    "class nonfiction(Books):\n",
    "    def get_tell(self):\n",
    "        return self.__author\n",
    "import datetime\n",
    "class patrons(Books,transaction):\n",
    "    def __init__(self,id):\n",
    "        self.__id=id\n",
    "    def get_id(self):\n",
    "        return self.__id\n",
    "    def remainder(self,date):\n",
    "        self.date=date\n",
    "        print('please return\\n',transaction.dateofborrow(date))\n",
    "    def returnbk(self):\n",
    "        print('return succesfull')\n",
    "class transaction:\n",
    "    def dateofborrow(self,date=input('date of borrow')):\n",
    "        print(date)\n",
    "        \n",
    "    def fine(self):\n",
    "        print(datetime.datetime.now())\n",
    "        print('fine=50')\n",
    "        else:\n",
    "            print('no fine')\n",
    "    \n",
    "C=fiction()\n",
    "D=nonfiction()\n",
    "C.tell()\n",
    "D.tell()\n",
    "p=patrons(1)\n",
    "p.returnbk()\n",
    "p.remainder(1-1-20)\n",
    "p.fine()"
   ]
  },
  {
   "cell_type": "markdown",
   "id": "f96c2b4e",
   "metadata": {},
   "source": [
    "# ps6"
   ]
  },
  {
   "cell_type": "code",
   "execution_count": 161,
   "id": "2c9bdd96",
   "metadata": {},
   "outputs": [
    {
     "name": "stdout",
     "output_type": "stream",
     "text": [
      "Added 1laptop to the cart.\n",
      "Added 4T to the cart.\n",
      "laptop ($40000.00) x 1\n",
      "T ($20.00) x 4\n",
      "Removed2 T from the cart\n",
      "laptop ($40000.00) x 1\n",
      "T ($20.00) x 2\n",
      "Total cost: $40040.00\n",
      "checkout completed.\n",
      "Total cost: $40040.00\n",
      "checkout completed.\n",
      "Order OM processed successfully.\n",
      "Total cost: $36036.0.\n"
     ]
    }
   ],
   "source": [
    "class Product:\n",
    "    def __init__(self, product_id, name, price,quantity):\n",
    "        self.__product_id = product_id\n",
    "        self.__name = name\n",
    "        self.__price = price\n",
    "        self.__quantity=quantity\n",
    "    \n",
    "    \n",
    "    \n",
    "    def get_product_id(self):\n",
    "        return self.__product_id\n",
    "    \n",
    "    def get_name(self):\n",
    "        return self.__name\n",
    "    \n",
    "    def get_price(self):\n",
    "        return self.__price\n",
    "    \n",
    "    def get_quantity(self):\n",
    "        return self.__quantity\n",
    "    \n",
    "    def __str__(self):\n",
    "        return f\"{self.get_name()} (${self.get_price():.2f})\"\n",
    "    \n",
    "class Electronics(Product):\n",
    "    def __init__(self, product_id, name, price, quantity,brand):\n",
    "        super().__init__(product_id, name, price, quantity)\n",
    "        self.__brand = brand\n",
    "    \n",
    "    def get_brand(self):\n",
    "        return self.__brand\n",
    "\n",
    "    def _str_(self):\n",
    "        return f\"{super().__str__()}, Brand: {self.__brand}\"\n",
    "\n",
    "class Clothing(Product):\n",
    "    def __init__(self, product_id, name, price, quantity, size):\n",
    "        super().__init__(product_id, name, price, quantity)\n",
    "        self.__size = size\n",
    "\n",
    "    def get_size(self):\n",
    "        return self.__size\n",
    "\n",
    "    def _str_(self):\n",
    "        return f\"{super().__str__()}, Size: {self.__size}\"\n",
    "\n",
    "\n",
    "class ShoppingCart(Product):\n",
    "    def __init__(self):\n",
    "        self.__items = []\n",
    "        \n",
    "    def add_item(self, product, quantity):\n",
    "        if product.get_quantity() >= quantity:\n",
    "            self.__items.append({\"products\":product,\"quantity\":quantity})\n",
    "            product._Product__quantity-=quantity\n",
    "            print(f\"Added {quantity}{product.get_name()} to the cart.\")\n",
    "        else:\n",
    "            print(f\"Sorry,{product.name} is out of stock.\")\n",
    "    def remove_item(self, product,quantity):\n",
    "        for item in self.__items:\n",
    "            if item[\"products\"] == product:\n",
    "                if item[\"quantity\"]>=quantity:\n",
    "                    item[\"quantity\"]-=quantity\n",
    "                    product._Product__quantity+=quantity\n",
    "                    print(f\"Removed{quantity} {product.get_name()} from the cart\")\n",
    "                else:\n",
    "                    print(f\"Cannot remove {quantity} {product.get_name()}.\")\n",
    "                if item[\"quantity\"]==0:\n",
    "                    self.__items.remove(item)\n",
    "                return\n",
    "        print(f\"{product.name} is not in the cart.\")\n",
    "      \n",
    "    def calculate_total(self):\n",
    "        total=sum(item[\"products\"].get_price()*item[\"quantity\"] for item in self.__items)\n",
    "        return total\n",
    "    \n",
    "    def view_cart(self):\n",
    "        if not self.__items:\n",
    "            print(\"empty cart\")\n",
    "        else:\n",
    "            for item in self.__items:\n",
    "                product=item[\"products\"]\n",
    "                quantity=item[\"quantity\"]\n",
    "                \n",
    "                print(f\"{product} x {quantity}\")\n",
    "    \n",
    "    def checkout(self):\n",
    "        total_cost=self.calculate_total()\n",
    "        print(f\"Total cost: ${total_cost:.2f}\")\n",
    "        print(\"checkout completed.\")\n",
    "        return total_cost\n",
    "\n",
    "    \n",
    "class Order():\n",
    "    def __init__(self, order_id,customer_name,cart,discount):\n",
    "        self.__order_id = order_id\n",
    "        self.__customer_name=customer_name\n",
    "        self.__cart =cart\n",
    "        self.__discount=discount\n",
    "\n",
    "    def process_order(self):\n",
    "        total_cost=self.__cart.checkout()\n",
    "        total_cost-=(total_cost*(self.__discount/100))\n",
    "        print(f\"Order {self.__customer_name} processed successfully.\")\n",
    "        print(f\"Total cost: ${total_cost}.\")\n",
    "        self.__cart=None\n",
    "        \n",
    "laptop=Electronics(101,\"laptop\",40000,20,\"dell\")\n",
    "shirt=Clothing(202,\"T\",20,20,\"L\")\n",
    "#101,\"laptop\",40000,20,\"dell\"\n",
    "#202,\"T\",20,20,\"L\"\n",
    "cart=ShoppingCart()\n",
    "cart.add_item(laptop,1)\n",
    "cart.add_item(shirt,4)\n",
    "cart.view_cart()\n",
    "cart.remove_item(shirt,2)\n",
    "cart.view_cart()\n",
    "total_cost=cart.checkout()\n",
    "order=Order(1,'OM',cart,discount=10)\n",
    "order.process_order()"
   ]
  }
 ],
 "metadata": {
  "kernelspec": {
   "display_name": "Python 3 (ipykernel)",
   "language": "python",
   "name": "python3"
  },
  "language_info": {
   "codemirror_mode": {
    "name": "ipython",
    "version": 3
   },
   "file_extension": ".py",
   "mimetype": "text/x-python",
   "name": "python",
   "nbconvert_exporter": "python",
   "pygments_lexer": "ipython3",
   "version": "3.11.4"
  }
 },
 "nbformat": 4,
 "nbformat_minor": 5
}
