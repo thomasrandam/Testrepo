{
 "cells": [
  {
   "cell_type": "markdown",
   "id": "bfb47fc2",
   "metadata": {},
   "source": [
    "# DAY3-FILE HANDLING"
   ]
  },
  {
   "cell_type": "markdown",
   "id": "2fbb0153",
   "metadata": {},
   "source": [
    "# 1.Write a Python function that copies a file reading and writing upto 50 characters at a time"
   ]
  },
  {
   "cell_type": "code",
   "execution_count": 111,
   "id": "8fae9d95",
   "metadata": {},
   "outputs": [],
   "source": [
    "def func1():\n",
    "    f=open('ps1.txt','r') \n",
    "    con=f.read(50)\n",
    "    \n",
    "    k=open('ps2.txt','w')\n",
    "    k.write(con)\n",
    "    k.close()\n",
    "    f.close()\n",
    "func1()\n",
    "    \n",
    "    \n",
    "    "
   ]
  },
  {
   "cell_type": "markdown",
   "id": "c2884a1f",
   "metadata": {},
   "source": [
    "# 2.Print all the numbers present in a text file and print the number of blank spaces in that file"
   ]
  },
  {
   "cell_type": "code",
   "execution_count": 13,
   "id": "787e6b80",
   "metadata": {},
   "outputs": [
    {
     "name": "stdout",
     "output_type": "stream",
     "text": [
      "1\n",
      "2\n",
      "3\n",
      "4\n",
      "73\n"
     ]
    }
   ],
   "source": [
    "def func2():\n",
    "    count=0\n",
    "    space=[' ']\n",
    "    with open('random.txt','r') as f:\n",
    "        k=f.read()\n",
    "        for i in k:\n",
    "            if i.isnumeric()==1:\n",
    "                print(i)\n",
    "            if i in space:\n",
    "                count+=1\n",
    "        print(count)\n",
    "func2()"
   ]
  },
  {
   "cell_type": "markdown",
   "id": "4a57ea3d",
   "metadata": {},
   "source": [
    "# 3.\n",
    "Write a function called sed which takes arguments pattern string, replacement string, two file names, it should read the\n",
    "first file and copy to the second file and if any pattern matches with pattern string, then replace with replacement string.\n",
    "If an error occur while opening, reading, writing, closing, program should catch the exception,\n",
    "print a error message and exit the program"
   ]
  },
  {
   "cell_type": "code",
   "execution_count": 94,
   "id": "c4788606",
   "metadata": {},
   "outputs": [],
   "source": [
    "def sed(pat,rep,fl1,fl2):\n",
    "    f=open(fl1,'r')\n",
    "    n=[]\n",
    "    k=open(fl2,'w')\n",
    "    con=f.read()\n",
    "    words=con.split()\n",
    "    for i in words:\n",
    "        if pat in i:\n",
    "            i=rep\n",
    "        k.write(i)\n",
    "        k.write(' ')\n",
    "    k.close()\n",
    "    \n",
    "    \n",
    "    \n",
    "pat='random'\n",
    "rep='not-random'\n",
    "fl1='random.txt'\n",
    "fl2='newfile.txt'\n",
    "sed(pat,rep,fl1,fl2)\n"
   ]
  },
  {
   "cell_type": "markdown",
   "id": "4f9a3995",
   "metadata": {},
   "source": [
    "# 4.Log file analysis\n",
    "You have a lof file containing records of user activites on a website.\n",
    "Eac line in the file represents a log entry with details like timestamp, user id, and action performed\n",
    "Your task is ti analyse this log file."
   ]
  },
  {
   "cell_type": "code",
   "execution_count": 93,
   "id": "79ab18d4",
   "metadata": {},
   "outputs": [
    {
     "name": "stdout",
     "output_type": "stream",
     "text": [
      "{'Executing': 1, 'OpenJDK': 1, 'Product': 1, 'Bundle': 3, 'Performing': 1, 'Offline': 1, 'Mirrors': 1, 'Resolving': 1, 'Requirement': 26, 'Repository': 3, 'Calculating': 1, 'Computing': 1, 'Collecting': 3, 'Downloading': 380, 'Fetching': 491, 'Mirrored': 24, 'Collected': 3, 'Installing': 658}\n",
      "Installing  is the most common action.\n"
     ]
    }
   ],
   "source": [
    "f=open('logfile.txt','r')\n",
    "lst=[]\n",
    "dit={}\n",
    "i=0\n",
    "while i<1600:\n",
    "    con=f.readline()\n",
    "    lst=con.split(' ')\n",
    "    n=lst[2]\n",
    "    if n not in dit:     #count each process into a dictionary\n",
    "        dit[n]=1\n",
    "    else:\n",
    "        dit[n]+=1\n",
    "    i+=1\n",
    "print(dit)\n",
    "for key,value in dit.items():\n",
    "    if value==max(dit.values()):\n",
    "        print(key,' is the most common action.')\n",
    "\n",
    "        \n",
    "#to control we use readline function\n",
    "    \n"
   ]
  },
  {
   "cell_type": "markdown",
   "id": "9322a28f",
   "metadata": {},
   "source": [
    "# 5.Text file Search and Replace\n",
    "You have a text file with large amount of text, and you want to search for specific words, phrases and replace them.\n",
    "a.Write python code to search and relpace\n",
    "b.How would handle cases where you have multiple replacements in a single pass"
   ]
  },
  {
   "cell_type": "code",
   "execution_count": 42,
   "id": "9435879f",
   "metadata": {
    "scrolled": true
   },
   "outputs": [
    {
     "name": "stdout",
     "output_type": "stream",
     "text": [
      "['Generating', 'random', 'paragraphs', 'can', 'be', 'an', 'excellent', 'way', 'for', 'writers', 'to', 'get', 'their', 'creative', 'flow', 'going', 'at', 'the', 'beginning', 'of', 'the', 'day.', 'The', 'writer', 'has', 'no', 'idea', 'what', 'topic', 'the', 'random', 'Sentence', 'will', 'be', 'about', 'when', 'it', 'appears.', 'This', 'forces', 'the', 'writer', 'to', 'use', 'creativity', 'to', 'complete', 'one', 'of', 'three', 'common', 'writing', 'challenges.', 'The', 'writer', 'can', 'use', 'the', 'Sentence', 'as', 'the', 'first', 'one', 'of', 'a', 'short', 'story', 'and', 'build', 'upon', 'it.', 'A', 'second', 'option', 'is', 'to', 'use', 'the', 'random', 'Sentence', 'somewhere', 'in', 'a', 'short', 'story', 'they', 'create.', 'The', 'third', 'option', 'is', 'to', 'have', 'the', 'random', 'Sentence', 'be', 'the', 'ending', 'Sentence', 'in', 'a', 'short', 'story.', 'No', 'matter', 'which', 'of', 'these', 'challenges', 'is', 'undertaken,', 'the', 'writer', 'is', 'forced', 'to', 'use', 'creativity', 'to', 'incorporate', 'the', 'Sentence', 'into', 'their', 'writing.']\n"
     ]
    }
   ],
   "source": [
    "#a)\n",
    "def func5(word,rep):\n",
    "    f=open('random.txt','r')\n",
    "    con=f.read()\n",
    "    words=con.split(' ')\n",
    "    for i in range(len(words)):\n",
    "        if words[i]==word:\n",
    "            words.remove(word)\n",
    "            words.insert(i,rep)\n",
    "    print(words)\n",
    "    f.close()\n",
    "    f=open('newfile.txt','w')\n",
    "    for i in words:\n",
    "        new=f.write(i)\n",
    "        new=f.write(' ')\n",
    "word='paragraph'\n",
    "rep='Sentence'\n",
    "func5(word,rep)"
   ]
  },
  {
   "cell_type": "code",
   "execution_count": null,
   "id": "7d653a98",
   "metadata": {},
   "outputs": [],
   "source": [
    "#b)\n",
    "def func51(word1,word2,rep1,rep2):\n",
    "    f=open('random.txt','r')\n",
    "    con=f.read()\n",
    "    words=con.split(' ')\n",
    "    for i in range(len(words)):\n",
    "        if words[i]==word1:\n",
    "            words.remove(word1)\n",
    "            words.insert(i,rep1)\n",
    "        if words[i]==word2:\n",
    "            words.remove(word2)\n",
    "            words.insert(i,rep2)\n",
    "    print(words)\n",
    "    f.close()\n",
    "    f=open('newfile.txt','w')\n",
    "    for i in words:\n",
    "        new=f.write(i)\n",
    "        new=f.write(' ')\n",
    "word1='paragraph'\n",
    "word2='random'\n",
    "rep1='Sentence'\n",
    "rep2='specific'\n",
    "func51(word1,word2,rep1,rep2)"
   ]
  },
  {
   "cell_type": "markdown",
   "id": "23f6b3a8",
   "metadata": {},
   "source": [
    "# 6.Write a python program to concatenate multilpe text files into a single text output file. \n",
    "Allow the user to specify the input and output files"
   ]
  },
  {
   "cell_type": "code",
   "execution_count": 48,
   "id": "1d5fd5a8",
   "metadata": {},
   "outputs": [
    {
     "name": "stdout",
     "output_type": "stream",
     "text": [
      "How many files do you need to concatenate 2\n",
      "Enter the file name newfile.txt\n",
      "Enter the file name newfile.txt\n"
     ]
    }
   ],
   "source": [
    "def func6():\n",
    "    lst=[]\n",
    "    n=int(input('How many files do you need to concatenate '))\n",
    "    for i in range(n):\n",
    "        name=input('Enter the file name ')\n",
    "        lst.append(name)\n",
    "    k=open('output.txt','w')\n",
    "    for i in lst:\n",
    "        f=open(i,'r')\n",
    "        con=f.read()\n",
    "        k.write(con)\n",
    "    k.close()\n",
    "    f.close()\n",
    "        \n",
    "func6()   "
   ]
  },
  {
   "cell_type": "markdown",
   "id": "c0076532",
   "metadata": {},
   "source": [
    "# 7.To create python program to read input.txt file and do the processes and write output to output.txt"
   ]
  },
  {
   "cell_type": "code",
   "execution_count": 60,
   "id": "0dd511d2",
   "metadata": {},
   "outputs": [
    {
     "name": "stdout",
     "output_type": "stream",
     "text": [
      "{'apple': 5, 'orange': 6, 'mangoe': 6, 'banana': 6, 'papaya': 6}\n"
     ]
    }
   ],
   "source": [
    "f=open('input.txt','r')\n",
    "dit={}\n",
    "con=f.read()\n",
    "words=con.split()\n",
    "for i in words:\n",
    "    dit[i]=len(i)\n",
    "print(dit)\n",
    "f.close()\n",
    "k=open('output.txt','w')\n",
    "for i in words:\n",
    "    k.write(i)\n",
    "    k.write(':')\n",
    "    n=str(dit[i])\n",
    "    k.write(n)\n",
    "    k.write('\\n')\n",
    "k.close()\n",
    "\n"
   ]
  },
  {
   "cell_type": "markdown",
   "id": "936f0f76",
   "metadata": {},
   "source": [
    "# 8.Assume that you are developing a student gradebook system for a school.\n",
    "The system should allow teachers to input grades for various subjects store data in files and provide\n",
    "students with ability to view their grades."
   ]
  },
  {
   "cell_type": "code",
   "execution_count": 108,
   "id": "4a15fa17",
   "metadata": {},
   "outputs": [
    {
     "name": "stdout",
     "output_type": "stream",
     "text": [
      "Are you teacher or student(t/s)t\n",
      "enter the subject \n",
      "1.english \n",
      "2.science \n",
      "3.mathsmaths\n",
      "enter name of studenttom\n",
      "enter marks of 45\n"
     ]
    }
   ],
   "source": [
    "\n",
    "ch=input('Are you teacher or student(t/s)')\n",
    "sub=input('enter the subject \\n'\n",
    "          '1.english \\n'\n",
    "          '2.science \\n'\n",
    "         '3.maths')    \n",
    "if sub in ['english','science','maths']:\n",
    "    sub=sub+'.txt'\n",
    "def teacher():    \n",
    "    name=input('enter name of student')\n",
    "    marks=input('enter marks of ')\n",
    "    f=open(sub,'w')\n",
    "    f.write(name)\n",
    "    f.write(' ')\n",
    "    f.write(marks)\n",
    "    f.close()\n",
    "def student():\n",
    "    f.open(sub,'r')\n",
    "    con=f.reads()\n",
    "    print(con)\n",
    "    f.close()\n",
    "def check(dec):\n",
    "    def role(arg):\n",
    "        if arg not in ['t','s']:\n",
    "            raise ValueError('only teacher and student have access')\n",
    "        return dec(arg)\n",
    "    return role\n",
    "@check\n",
    "def abc(ch):\n",
    "    if ch in ['t']:\n",
    "        teacher()\n",
    "    elif ch in ['s']:\n",
    "        student()\n",
    "\n",
    "abc(ch)"
   ]
  },
  {
   "cell_type": "code",
   "execution_count": null,
   "id": "fa3d4608",
   "metadata": {},
   "outputs": [],
   "source": []
  },
  {
   "cell_type": "code",
   "execution_count": null,
   "id": "5af162e3",
   "metadata": {},
   "outputs": [],
   "source": []
  },
  {
   "cell_type": "code",
   "execution_count": null,
   "id": "f13b3de7",
   "metadata": {},
   "outputs": [],
   "source": []
  }
 ],
 "metadata": {
  "kernelspec": {
   "display_name": "Python 3 (ipykernel)",
   "language": "python",
   "name": "python3"
  },
  "language_info": {
   "codemirror_mode": {
    "name": "ipython",
    "version": 3
   },
   "file_extension": ".py",
   "mimetype": "text/x-python",
   "name": "python",
   "nbconvert_exporter": "python",
   "pygments_lexer": "ipython3",
   "version": "3.11.4"
  }
 },
 "nbformat": 4,
 "nbformat_minor": 5
}
