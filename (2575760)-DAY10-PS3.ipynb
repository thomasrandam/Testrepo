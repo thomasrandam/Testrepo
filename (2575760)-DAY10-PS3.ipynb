{
 "cells": [
  {
   "cell_type": "code",
   "execution_count": 1,
   "id": "fe9c9cc4",
   "metadata": {
    "scrolled": true
   },
   "outputs": [
    {
     "data": {
      "text/html": [
       "<div>\n",
       "<style scoped>\n",
       "    .dataframe tbody tr th:only-of-type {\n",
       "        vertical-align: middle;\n",
       "    }\n",
       "\n",
       "    .dataframe tbody tr th {\n",
       "        vertical-align: top;\n",
       "    }\n",
       "\n",
       "    .dataframe thead th {\n",
       "        text-align: right;\n",
       "    }\n",
       "</style>\n",
       "<table border=\"1\" class=\"dataframe\">\n",
       "  <thead>\n",
       "    <tr style=\"text-align: right;\">\n",
       "      <th></th>\n",
       "      <th>title</th>\n",
       "      <th>year</th>\n",
       "    </tr>\n",
       "  </thead>\n",
       "  <tbody>\n",
       "    <tr>\n",
       "      <th>0</th>\n",
       "      <td>Tasveer Mere Sanam</td>\n",
       "      <td>1996</td>\n",
       "    </tr>\n",
       "    <tr>\n",
       "      <th>1</th>\n",
       "      <td>Only You</td>\n",
       "      <td>1994</td>\n",
       "    </tr>\n",
       "    <tr>\n",
       "      <th>2</th>\n",
       "      <td>El pueblo del terror</td>\n",
       "      <td>1970</td>\n",
       "    </tr>\n",
       "    <tr>\n",
       "      <th>3</th>\n",
       "      <td>Machine</td>\n",
       "      <td>2007</td>\n",
       "    </tr>\n",
       "    <tr>\n",
       "      <th>4</th>\n",
       "      <td>MARy</td>\n",
       "      <td>2008</td>\n",
       "    </tr>\n",
       "  </tbody>\n",
       "</table>\n",
       "</div>"
      ],
      "text/plain": [
       "                  title  year\n",
       "0    Tasveer Mere Sanam  1996\n",
       "1              Only You  1994\n",
       "2  El pueblo del terror  1970\n",
       "3               Machine  2007\n",
       "4                  MARy  2008"
      ]
     },
     "execution_count": 1,
     "metadata": {},
     "output_type": "execute_result"
    }
   ],
   "source": [
    "import numpy as np\n",
    "import pandas as pd\n",
    "df = pd.read_csv(\"titles.csv\")\n",
    "df.head()"
   ]
  },
  {
   "cell_type": "code",
   "execution_count": 2,
   "id": "35559960",
   "metadata": {},
   "outputs": [
    {
     "data": {
      "text/html": [
       "<div>\n",
       "<style scoped>\n",
       "    .dataframe tbody tr th:only-of-type {\n",
       "        vertical-align: middle;\n",
       "    }\n",
       "\n",
       "    .dataframe tbody tr th {\n",
       "        vertical-align: top;\n",
       "    }\n",
       "\n",
       "    .dataframe thead th {\n",
       "        text-align: right;\n",
       "    }\n",
       "</style>\n",
       "<table border=\"1\" class=\"dataframe\">\n",
       "  <thead>\n",
       "    <tr style=\"text-align: right;\">\n",
       "      <th></th>\n",
       "      <th>title</th>\n",
       "      <th>year</th>\n",
       "      <th>name</th>\n",
       "      <th>type</th>\n",
       "      <th>character</th>\n",
       "      <th>n</th>\n",
       "    </tr>\n",
       "  </thead>\n",
       "  <tbody>\n",
       "    <tr>\n",
       "      <th>0</th>\n",
       "      <td>Closet Monster</td>\n",
       "      <td>2015</td>\n",
       "      <td>Buffy #1</td>\n",
       "      <td>actor</td>\n",
       "      <td>Buffy 4</td>\n",
       "      <td>31.0</td>\n",
       "    </tr>\n",
       "    <tr>\n",
       "      <th>1</th>\n",
       "      <td>Suuri illusioni</td>\n",
       "      <td>1985</td>\n",
       "      <td>Homo $</td>\n",
       "      <td>actor</td>\n",
       "      <td>Guests</td>\n",
       "      <td>22.0</td>\n",
       "    </tr>\n",
       "    <tr>\n",
       "      <th>2</th>\n",
       "      <td>Battle of the Sexes</td>\n",
       "      <td>2017</td>\n",
       "      <td>$hutter</td>\n",
       "      <td>actor</td>\n",
       "      <td>Bobby Riggs Fan</td>\n",
       "      <td>10.0</td>\n",
       "    </tr>\n",
       "    <tr>\n",
       "      <th>3</th>\n",
       "      <td>Secret in Their Eyes</td>\n",
       "      <td>2015</td>\n",
       "      <td>$hutter</td>\n",
       "      <td>actor</td>\n",
       "      <td>2002 Dodger Fan</td>\n",
       "      <td>NaN</td>\n",
       "    </tr>\n",
       "    <tr>\n",
       "      <th>4</th>\n",
       "      <td>Steve Jobs</td>\n",
       "      <td>2015</td>\n",
       "      <td>$hutter</td>\n",
       "      <td>actor</td>\n",
       "      <td>1988 Opera House Patron</td>\n",
       "      <td>NaN</td>\n",
       "    </tr>\n",
       "  </tbody>\n",
       "</table>\n",
       "</div>"
      ],
      "text/plain": [
       "                  title  year      name   type                character     n\n",
       "0        Closet Monster  2015  Buffy #1  actor                  Buffy 4  31.0\n",
       "1       Suuri illusioni  1985    Homo $  actor                   Guests  22.0\n",
       "2   Battle of the Sexes  2017   $hutter  actor          Bobby Riggs Fan  10.0\n",
       "3  Secret in Their Eyes  2015   $hutter  actor          2002 Dodger Fan   NaN\n",
       "4            Steve Jobs  2015   $hutter  actor  1988 Opera House Patron   NaN"
      ]
     },
     "execution_count": 2,
     "metadata": {},
     "output_type": "execute_result"
    }
   ],
   "source": [
    "df1 = pd.read_csv(\"cast.csv\")\n",
    "df1.head()"
   ]
  },
  {
   "cell_type": "code",
   "execution_count": 22,
   "id": "f54aee62",
   "metadata": {},
   "outputs": [],
   "source": [
    "def get_decade(year):\n",
    "    return int(year/10)*10"
   ]
  },
  {
   "cell_type": "code",
   "execution_count": 31,
   "id": "d5c32ca1",
   "metadata": {},
   "outputs": [],
   "source": [
    "df1['decade']=df1['year'].apply(get_decade)"
   ]
  },
  {
   "cell_type": "code",
   "execution_count": 26,
   "id": "f7d5ea0e",
   "metadata": {},
   "outputs": [
    {
     "data": {
      "text/plain": [
       "decade\n",
       "1890.0        3\n",
       "1900.0       39\n",
       "1910.0     6799\n",
       "1920.0     9034\n",
       "1930.0    10388\n",
       "1940.0     8718\n",
       "1950.0    12934\n",
       "1960.0    17976\n",
       "1970.0    19526\n",
       "1980.0    21034\n",
       "1990.0    22992\n",
       "2000.0    39452\n",
       "2010.0    75733\n",
       "2020.0      285\n",
       "2110.0        1\n",
       "dtype: int64"
      ]
     },
     "execution_count": 26,
     "metadata": {},
     "output_type": "execute_result"
    }
   ],
   "source": [
    "df1.groupby(['decade']).size()"
   ]
  },
  {
   "cell_type": "code",
   "execution_count": 27,
   "id": "a817d83d",
   "metadata": {},
   "outputs": [
    {
     "data": {
      "text/plain": [
       "decade\n",
       "1910.0    1\n",
       "1920.0    1\n",
       "1930.0    2\n",
       "1960.0    2\n",
       "1970.0    3\n",
       "1980.0    2\n",
       "1990.0    3\n",
       "2000.0    3\n",
       "2010.0    8\n",
       "dtype: int64"
      ]
     },
     "execution_count": 27,
     "metadata": {},
     "output_type": "execute_result"
    }
   ],
   "source": [
    "df2=df1[df1['title']=='Hamlet']\n",
    "df2.groupby(['decade']).size()"
   ]
  },
  {
   "cell_type": "code",
   "execution_count": 37,
   "id": "7d8f511f",
   "metadata": {},
   "outputs": [
    {
     "data": {
      "text/plain": [
       "type     year\n",
       "actor    1950    625\n",
       "         1951    651\n",
       "         1952    613\n",
       "         1953    664\n",
       "         1954    636\n",
       "         1955    648\n",
       "         1956    668\n",
       "         1957    739\n",
       "         1958    715\n",
       "         1959    733\n",
       "         1960    733\n",
       "actress  1950    288\n",
       "         1951    285\n",
       "         1952    304\n",
       "         1953    312\n",
       "         1954    316\n",
       "         1955    285\n",
       "         1956    307\n",
       "         1957    315\n",
       "         1958    301\n",
       "         1959    327\n",
       "         1960    302\n",
       "dtype: int64"
      ]
     },
     "execution_count": 37,
     "metadata": {},
     "output_type": "execute_result"
    }
   ],
   "source": [
    "df2=df1[df1['year'].between(1950,1959)]\n",
    "df3=df2[df2['n']==1]\n",
    "df4=df3.groupby(['type','year']).size()\n",
    "df4"
   ]
  },
  {
   "cell_type": "code",
   "execution_count": 42,
   "id": "f16000d9",
   "metadata": {},
   "outputs": [
    {
     "name": "stderr",
     "output_type": "stream",
     "text": [
      "C:\\Users\\ancil\\AppData\\Local\\Temp\\ipykernel_36416\\225855181.py:2: UserWarning: Boolean Series key will be reindexed to match DataFrame index.\n",
      "  df3=df2[df1['n'].between(1,5)]\n"
     ]
    },
    {
     "data": {
      "text/plain": [
       "n    type     year\n",
       "1.0  actor    1950    625\n",
       "              1951    651\n",
       "              1952    613\n",
       "              1953    664\n",
       "              1954    636\n",
       "                     ... \n",
       "5.0  actress  1955    259\n",
       "              1956    262\n",
       "              1957    288\n",
       "              1958    275\n",
       "              1959    275\n",
       "Length: 100, dtype: int64"
      ]
     },
     "execution_count": 42,
     "metadata": {},
     "output_type": "execute_result"
    }
   ],
   "source": [
    "df2=df1[df1['year'].between(1950,1959)]\n",
    "df3=df2[df1['n'].between(1,5)]\n",
    "df4=df3.groupby(['n','type','year']).size()\n",
    "df4"
   ]
  },
  {
   "cell_type": "code",
   "execution_count": null,
   "id": "1a9209d0",
   "metadata": {},
   "outputs": [],
   "source": []
  },
  {
   "cell_type": "code",
   "execution_count": null,
   "id": "3fc2143f",
   "metadata": {},
   "outputs": [],
   "source": []
  },
  {
   "cell_type": "code",
   "execution_count": null,
   "id": "b1f1c327",
   "metadata": {},
   "outputs": [],
   "source": []
  },
  {
   "cell_type": "code",
   "execution_count": 50,
   "id": "c7e04876",
   "metadata": {},
   "outputs": [
    {
     "data": {
      "text/plain": [
       "title\n",
       "Curse of the Pink Panther          67\n",
       "Revenge of the Pink Panther        68\n",
       "Son of the Pink Panther            46\n",
       "The Pink Panther                  111\n",
       "The Pink Panther 2                 84\n",
       "The Pink Panther Strikes Again     70\n",
       "The Return of the Pink Panther     30\n",
       "Trail of the Pink Panther          41\n",
       "dtype: int64"
      ]
     },
     "execution_count": 50,
     "metadata": {},
     "output_type": "execute_result"
    }
   ],
   "source": [
    "df2=df1[df1[\"title\"].str.contains('Pink Panther')]\n",
    "df3=df2.groupby(['title']).size()\n",
    "df3"
   ]
  },
  {
   "cell_type": "code",
   "execution_count": 15,
   "id": "d333c078",
   "metadata": {},
   "outputs": [
    {
     "data": {
      "text/plain": [
       "title\n",
       "An American Werewolf in London                    2.0\n",
       "Blues Brothers 2000                               NaN\n",
       "Follow That Bird                                  3.0\n",
       "Innocent Blood                                    NaN\n",
       "Inside Out                                        NaN\n",
       "Labyrinth                                         NaN\n",
       "Monsters, Inc.                                    NaN\n",
       "Muppet Treasure Island                            4.0\n",
       "Muppets from Space                                4.0\n",
       "Sesame Street: C is for Cookie Monster            NaN\n",
       "Spies Like Us                                     NaN\n",
       "Star Wars: Episode I - The Phantom Menace         NaN\n",
       "Star Wars: Episode II - Attack of the Clones      NaN\n",
       "Star Wars: Episode III - Revenge of the Sith      NaN\n",
       "Star Wars: Episode V - The Empire Strikes Back    NaN\n",
       "Star Wars: Episode VI - Return of the Jedi        NaN\n",
       "Star Wars: Episode VII - The Force Awakens        NaN\n",
       "Superman III                                      NaN\n",
       "The Adventures of Elmo in Grouchland              3.0\n",
       "The Blues Brothers                                NaN\n",
       "The Dark Crystal                                  2.0\n",
       "The Great Gilly Hopkins                           NaN\n",
       "The Great Muppet Caper                            6.0\n",
       "The Muppet Christmas Carol                        7.0\n",
       "The Muppet Movie                                  8.0\n",
       "The Muppets Take Manhattan                        7.0\n",
       "Trading Places                                    NaN\n",
       "Zathura: A Space Adventure                        NaN\n",
       "dtype: float64"
      ]
     },
     "execution_count": 15,
     "metadata": {},
     "output_type": "execute_result"
    }
   ],
   "source": [
    "df2=df1[df1[\"name\"]=='Frank Oz']\n",
    "df3=df2.sort_values(by=['year'])\n",
    "(df3.groupby(['title']).size()).where(df3.groupby(['title']).size()>1)\n"
   ]
  },
  {
   "cell_type": "code",
   "execution_count": 11,
   "id": "7c81148c",
   "metadata": {},
   "outputs": [
    {
     "data": {
      "text/html": [
       "<div>\n",
       "<style scoped>\n",
       "    .dataframe tbody tr th:only-of-type {\n",
       "        vertical-align: middle;\n",
       "    }\n",
       "\n",
       "    .dataframe tbody tr th {\n",
       "        vertical-align: top;\n",
       "    }\n",
       "\n",
       "    .dataframe thead th {\n",
       "        text-align: right;\n",
       "    }\n",
       "</style>\n",
       "<table border=\"1\" class=\"dataframe\">\n",
       "  <thead>\n",
       "    <tr style=\"text-align: right;\">\n",
       "      <th></th>\n",
       "      <th>title</th>\n",
       "      <th>year</th>\n",
       "      <th>name</th>\n",
       "      <th>type</th>\n",
       "      <th>character</th>\n",
       "      <th>n</th>\n",
       "    </tr>\n",
       "  </thead>\n",
       "  <tbody>\n",
       "    <tr>\n",
       "      <th>1723598</th>\n",
       "      <td>An American Werewolf in London</td>\n",
       "      <td>1981.0</td>\n",
       "      <td>Frank Oz</td>\n",
       "      <td>actor</td>\n",
       "      <td>Mr. Collins</td>\n",
       "      <td>13.0</td>\n",
       "    </tr>\n",
       "    <tr>\n",
       "      <th>1723599</th>\n",
       "      <td>An American Werewolf in London</td>\n",
       "      <td>1981.0</td>\n",
       "      <td>Frank Oz</td>\n",
       "      <td>actor</td>\n",
       "      <td>Miss Piggy</td>\n",
       "      <td>13.0</td>\n",
       "    </tr>\n",
       "    <tr>\n",
       "      <th>1723600</th>\n",
       "      <td>Blues Brothers 2000</td>\n",
       "      <td>1998.0</td>\n",
       "      <td>Frank Oz</td>\n",
       "      <td>actor</td>\n",
       "      <td>Warden</td>\n",
       "      <td>4.0</td>\n",
       "    </tr>\n",
       "    <tr>\n",
       "      <th>1723601</th>\n",
       "      <td>Follow That Bird</td>\n",
       "      <td>1985.0</td>\n",
       "      <td>Frank Oz</td>\n",
       "      <td>actor</td>\n",
       "      <td>Cookie Monster</td>\n",
       "      <td>3.0</td>\n",
       "    </tr>\n",
       "    <tr>\n",
       "      <th>1723602</th>\n",
       "      <td>Follow That Bird</td>\n",
       "      <td>1985.0</td>\n",
       "      <td>Frank Oz</td>\n",
       "      <td>actor</td>\n",
       "      <td>Bert</td>\n",
       "      <td>3.0</td>\n",
       "    </tr>\n",
       "    <tr>\n",
       "      <th>...</th>\n",
       "      <td>...</td>\n",
       "      <td>...</td>\n",
       "      <td>...</td>\n",
       "      <td>...</td>\n",
       "      <td>...</td>\n",
       "      <td>...</td>\n",
       "    </tr>\n",
       "    <tr>\n",
       "      <th>1723657</th>\n",
       "      <td>The Muppets Take Manhattan</td>\n",
       "      <td>1984.0</td>\n",
       "      <td>Frank Oz</td>\n",
       "      <td>actor</td>\n",
       "      <td>Cookie Monster</td>\n",
       "      <td>2.0</td>\n",
       "    </tr>\n",
       "    <tr>\n",
       "      <th>1723658</th>\n",
       "      <td>The Muppets Take Manhattan</td>\n",
       "      <td>1984.0</td>\n",
       "      <td>Frank Oz</td>\n",
       "      <td>actor</td>\n",
       "      <td>Ocean Breeze Soap Board Member</td>\n",
       "      <td>2.0</td>\n",
       "    </tr>\n",
       "    <tr>\n",
       "      <th>1723659</th>\n",
       "      <td>The Muppets Take Manhattan</td>\n",
       "      <td>1984.0</td>\n",
       "      <td>Frank Oz</td>\n",
       "      <td>actor</td>\n",
       "      <td>Sam the Eagle</td>\n",
       "      <td>2.0</td>\n",
       "    </tr>\n",
       "    <tr>\n",
       "      <th>1723660</th>\n",
       "      <td>Trading Places</td>\n",
       "      <td>1983.0</td>\n",
       "      <td>Frank Oz</td>\n",
       "      <td>actor</td>\n",
       "      <td>Corrupt Cop</td>\n",
       "      <td>46.0</td>\n",
       "    </tr>\n",
       "    <tr>\n",
       "      <th>1723661</th>\n",
       "      <td>Zathura: A Space Adventure</td>\n",
       "      <td>2005.0</td>\n",
       "      <td>Frank Oz</td>\n",
       "      <td>actor</td>\n",
       "      <td>Robot</td>\n",
       "      <td>6.0</td>\n",
       "    </tr>\n",
       "  </tbody>\n",
       "</table>\n",
       "<p>64 rows × 6 columns</p>\n",
       "</div>"
      ],
      "text/plain": [
       "                                  title    year      name   type  \\\n",
       "1723598  An American Werewolf in London  1981.0  Frank Oz  actor   \n",
       "1723599  An American Werewolf in London  1981.0  Frank Oz  actor   \n",
       "1723600             Blues Brothers 2000  1998.0  Frank Oz  actor   \n",
       "1723601                Follow That Bird  1985.0  Frank Oz  actor   \n",
       "1723602                Follow That Bird  1985.0  Frank Oz  actor   \n",
       "...                                 ...     ...       ...    ...   \n",
       "1723657      The Muppets Take Manhattan  1984.0  Frank Oz  actor   \n",
       "1723658      The Muppets Take Manhattan  1984.0  Frank Oz  actor   \n",
       "1723659      The Muppets Take Manhattan  1984.0  Frank Oz  actor   \n",
       "1723660                  Trading Places  1983.0  Frank Oz  actor   \n",
       "1723661      Zathura: A Space Adventure  2005.0  Frank Oz  actor   \n",
       "\n",
       "                              character     n  \n",
       "1723598                     Mr. Collins  13.0  \n",
       "1723599                      Miss Piggy  13.0  \n",
       "1723600                          Warden   4.0  \n",
       "1723601                  Cookie Monster   3.0  \n",
       "1723602                            Bert   3.0  \n",
       "...                                 ...   ...  \n",
       "1723657                  Cookie Monster   2.0  \n",
       "1723658  Ocean Breeze Soap Board Member   2.0  \n",
       "1723659                   Sam the Eagle   2.0  \n",
       "1723660                     Corrupt Cop  46.0  \n",
       "1723661                           Robot   6.0  \n",
       "\n",
       "[64 rows x 6 columns]"
      ]
     },
     "execution_count": 11,
     "metadata": {},
     "output_type": "execute_result"
    }
   ],
   "source": [
    "df2=df1[df1[\"name\"]=='Frank Oz'].where (df1['n']>1)\n",
    "df2\n"
   ]
  },
  {
   "cell_type": "code",
   "execution_count": null,
   "id": "25f76108",
   "metadata": {},
   "outputs": [],
   "source": []
  }
 ],
 "metadata": {
  "kernelspec": {
   "display_name": "Python 3 (ipykernel)",
   "language": "python",
   "name": "python3"
  },
  "language_info": {
   "codemirror_mode": {
    "name": "ipython",
    "version": 3
   },
   "file_extension": ".py",
   "mimetype": "text/x-python",
   "name": "python",
   "nbconvert_exporter": "python",
   "pygments_lexer": "ipython3",
   "version": "3.11.4"
  }
 },
 "nbformat": 4,
 "nbformat_minor": 5
}
